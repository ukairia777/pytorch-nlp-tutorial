{
  "nbformat": 4,
  "nbformat_minor": 0,
  "metadata": {
    "colab": {
      "provenance": []
    },
    "kernelspec": {
      "name": "python3",
      "display_name": "Python 3"
    },
    "language_info": {
      "name": "python"
    }
  },
  "cells": [
    {
      "cell_type": "code",
      "execution_count": 1,
      "metadata": {
        "colab": {
          "base_uri": "https://localhost:8080/"
        },
        "id": "aTDQkTZrnt-Z",
        "outputId": "cc06005f-16c0-462a-dfed-c4cd84349bb1"
      },
      "outputs": [
        {
          "output_type": "stream",
          "name": "stdout",
          "text": [
            "Requirement already satisfied: openai in /usr/local/lib/python3.11/dist-packages (1.86.0)\n",
            "Requirement already satisfied: anyio<5,>=3.5.0 in /usr/local/lib/python3.11/dist-packages (from openai) (4.9.0)\n",
            "Requirement already satisfied: distro<2,>=1.7.0 in /usr/local/lib/python3.11/dist-packages (from openai) (1.9.0)\n",
            "Requirement already satisfied: httpx<1,>=0.23.0 in /usr/local/lib/python3.11/dist-packages (from openai) (0.28.1)\n",
            "Requirement already satisfied: jiter<1,>=0.4.0 in /usr/local/lib/python3.11/dist-packages (from openai) (0.10.0)\n",
            "Requirement already satisfied: pydantic<3,>=1.9.0 in /usr/local/lib/python3.11/dist-packages (from openai) (2.11.7)\n",
            "Requirement already satisfied: sniffio in /usr/local/lib/python3.11/dist-packages (from openai) (1.3.1)\n",
            "Requirement already satisfied: tqdm>4 in /usr/local/lib/python3.11/dist-packages (from openai) (4.67.1)\n",
            "Requirement already satisfied: typing-extensions<5,>=4.11 in /usr/local/lib/python3.11/dist-packages (from openai) (4.14.0)\n",
            "Requirement already satisfied: idna>=2.8 in /usr/local/lib/python3.11/dist-packages (from anyio<5,>=3.5.0->openai) (3.10)\n",
            "Requirement already satisfied: certifi in /usr/local/lib/python3.11/dist-packages (from httpx<1,>=0.23.0->openai) (2025.6.15)\n",
            "Requirement already satisfied: httpcore==1.* in /usr/local/lib/python3.11/dist-packages (from httpx<1,>=0.23.0->openai) (1.0.9)\n",
            "Requirement already satisfied: h11>=0.16 in /usr/local/lib/python3.11/dist-packages (from httpcore==1.*->httpx<1,>=0.23.0->openai) (0.16.0)\n",
            "Requirement already satisfied: annotated-types>=0.6.0 in /usr/local/lib/python3.11/dist-packages (from pydantic<3,>=1.9.0->openai) (0.7.0)\n",
            "Requirement already satisfied: pydantic-core==2.33.2 in /usr/local/lib/python3.11/dist-packages (from pydantic<3,>=1.9.0->openai) (2.33.2)\n",
            "Requirement already satisfied: typing-inspection>=0.4.0 in /usr/local/lib/python3.11/dist-packages (from pydantic<3,>=1.9.0->openai) (0.4.1)\n"
          ]
        }
      ],
      "source": [
        "pip install openai"
      ]
    },
    {
      "cell_type": "code",
      "source": [
        "import openai\n",
        "client = openai.OpenAI(api_key=\"여러분의 키 값\")"
      ],
      "metadata": {
        "id": "ktIha3CDnuVU"
      },
      "execution_count": 2,
      "outputs": []
    },
    {
      "cell_type": "code",
      "source": [
        "def return_answer(input_text=''):\n",
        "    system_prompt = \"\"\"특정 문서가 입력되면 다음과 같은 형태로 문서를 분석하십시오.\n",
        "\n",
        "1. 주어진 입력:에 대해서 반드시 주제:, 요약:, 가능한 질문: 이 세가지를 순차적으로 작성해야 합니다.\n",
        "2. 주제:는 입력 문서의 주제를 한 줄로 요약합니다.\n",
        "3. 요약:은 입력 문서를 5줄로 요약합니다.\n",
        "4. 가능한 질문:은 입력 문서로부부터 사람들이 할 수 있는 질문 세 가지를 파이썬 리스트 형태로 작성합니다.\n",
        "5. 가능한 질문:이 반드시 [\"질문1\", \"질문2\", \"질문3\"]과 같이 파이썬 리스트 형태로 작성되어야 하는 점에 유의하십시오.\n",
        "\n",
        "이제 시작합니다.\"\"\"\n",
        "\n",
        "    user_content = \"입력: \" + input_text + '\\n주제:'\n",
        "\n",
        "    response = client.chat.completions.create(\n",
        "        model=\"gpt-4o\",\n",
        "        messages=[\n",
        "            {\"role\": \"system\", \"content\": system_prompt},\n",
        "            {\"role\": \"user\", \"content\": user_content}\n",
        "        ]\n",
        "    )\n",
        "    return response.choices[0].message.content"
      ],
      "metadata": {
        "id": "H-kKg0yXnz4j"
      },
      "execution_count": 3,
      "outputs": []
    },
    {
      "cell_type": "code",
      "source": [
        "test = '''새처럼 움직이는 항공 로봇 '레이븐'.\n",
        "\n",
        "스위스 로잔 연방 공대(EPFL) 신원동 박사팀이 개발했는데요.\n",
        "\n",
        "연구팀은 새의 엉덩이와 발목, 발을 참고해 뒷다리를 만들었습니다.\n",
        "\n",
        "실제 새처럼 땅에서 걷고, 틈새를 건너뛰고, 위로 뛰어오릅니다.\n",
        "\n",
        "껑충 뛰면서 날아오르는 이 기능이 핵심인데요.\n",
        "\n",
        "기존 고정익 항공기처럼 지상을 달리지 않고 제자리에서 날아오릅니다.\n",
        "\n",
        "연구팀은 레이븐의 점프 이륙이 점프하지 않고 날아오를 때보다 에너지 효율이 더 높다고 설명했는데요.\n",
        "\n",
        "또 기존 고정익 항공기에 이 기능을 도입하면 복잡한 지형에서도 효율적으로 쓸 수 있을 거라고 덧붙였습니다.\n",
        "\n",
        "#새 #로봇 #항공 #공대 #스위스 #신원동 #박사 #점프'''\n",
        "\n",
        "result = return_answer(input_text=test)\n",
        "print(result)"
      ],
      "metadata": {
        "colab": {
          "base_uri": "https://localhost:8080/"
        },
        "id": "3fMr-uRXn2QP",
        "outputId": "f0973f4b-cb2d-4c9b-cfad-32b54066897a"
      },
      "execution_count": 4,
      "outputs": [
        {
          "output_type": "stream",
          "name": "stdout",
          "text": [
            "주제: 새처럼 움직이는 항공 로봇 '레이븐'의 개발과 그 기능적 특징\n",
            "\n",
            "요약: 스위스 로잔 연방 공대(EPFL)의 신원동 박사팀은 새의 생체 구조에서 영감을 받아 뒷다리를 구성한 항공 로봇 '레이븐'을 개발했습니다. 이 로봇은 새처럼 땅에서 걷고 틈새를 넘으며 위로 뛰어오를 수 있습니다. 레이븐의 핵심 기능은 껑충 뛰면서 제자리에서 날아오르는 능력으로, 이는 기존 고정익 항공기와 달리 지상을 달릴 필요가 없습니다. 연구팀은 레이븐의 점프 이륙이 점프하지 않고 날아오를 때보다 에너지 효율이 높다고 발표했습니다. 또한, 기존 항공기에 이같은 기능을 도입할 경우 복잡한 지형에서도 효율적으로 운용할 수 있을 것이라고 했습니다.\n",
            "\n",
            "가능한 질문: [\"레이븐 로봇의 핵심 기능은 무엇인가요?\", \"레이븐의 점프 이륙은 어떤 점에서 에너지 효율적이라고 하나요?\", \"기존 항공기에 레이븐의 기능을 도입하면 어떤 이점이 있나요?\"]\n"
          ]
        }
      ]
    },
    {
      "cell_type": "code",
      "source": [
        "def return_answer(input_text):\n",
        "    system_prompt = \"\"\"You are an expert at extracting keywords from a given sentence. Extract keywords from a given sentence that are key to the context.\n",
        "\n",
        "    [Example]\n",
        "    input: '외신에 따르면 중국 이카이글로벌 보도를 인용해 모더나가 중국 전용 mRNA 백신 개발을 위해 중국에 최대 10억달러(약 1조3017억원)를 투자하기로 했다고 보도했다.'\n",
        "    keyword: ['모더나', 'mRNA', '1조3017억원']\n",
        "\n",
        "    Now the sentence you want to extract keywords from.\n",
        "    The output format must be a list in Python.\n",
        "    \"\"\"\n",
        "    user_content = \"input: \" + input_text + \"\\nkeyword: \"\n",
        "\n",
        "    response = client.chat.completions.create(\n",
        "    model=\"gpt-4o\",\n",
        "    messages=[\n",
        "        {\"role\": \"system\", \"content\": system_prompt},\n",
        "          {\"role\": \"user\", \"content\": user_content}\n",
        "      ],\n",
        "    )\n",
        "    return response.choices[0].message.content"
      ],
      "metadata": {
        "id": "HOcxOSMvn2XL"
      },
      "execution_count": 7,
      "outputs": []
    },
    {
      "cell_type": "code",
      "source": [
        "text = '''3일 업계에 따르면 서울 신라호텔의 더 파크뷰는 12월 1∼20일 저녁 가격을 19만5000원으로, 21∼31일 저녁 가격을 21만 5000원으로 각각 인상한다. 평소 평일·주말 저녁 가격이 18만5000원이던 것을 고려하면 각각 1만원과 3만원 올랐다. 가격 인상에도 불구하고 더 파크뷰의 12월 주말 예약은 대부분 찼고 12월 평일 예약 역시 빠르게 마감되고 있다고 신라호텔 측은 전했다.\n",
        "\n",
        "롯데호텔 서울의 뷔페 라세느는 12월 평일·주말 저녁 가격을 19만원으로 기존 대비 1만원 올린다. 크리스마스 연휴 때인 23∼25일과 연말 30∼31일 저녁 가격은 20만5000원이다. 롯데호텔 서울의 라세느도 현재 크리스마스 이브인 12월 24일과 크리스마스 당일인 12월 25일 예약은 대부분 마감됐다.\n",
        "\n",
        "워커힐 호텔앤리조트는 그랜드 워커힐에서 운영하던 더뷔페를 비스타 워커힐로 확장 이전해 이날 가격을 올렸다. 평일·주말 저녁 가격은 15만9000원에서 18만9000원으로 3만원 인상됐다. 다만 워커힐은 이번 가격 책정에 인플레이션(물가 상승)을 미리 반영한 만큼 연말을 앞두고 추가 인상을 단행하지 않을 계획이라고 밝혔다.\n",
        "\n",
        "그랜드 인터컨티넨탈 서울 파르나스와 인터컨티넨탈 서울 코엑스도 다음주께 인상된 가격을 공지할 계획이다.'''\n",
        "\n",
        "result = return_answer(input_text=test)\n",
        "print(result)"
      ],
      "metadata": {
        "colab": {
          "base_uri": "https://localhost:8080/"
        },
        "id": "XgF-Bv8gonOD",
        "outputId": "19f9eaba-31fd-4214-f8e3-fe2d45ce19b6"
      },
      "execution_count": 8,
      "outputs": [
        {
          "output_type": "stream",
          "name": "stdout",
          "text": [
            "['레이븐', 'EPFL', '신원동', '새', '항공 로봇', '점프 이륙', '고정익 항공기']\n"
          ]
        }
      ]
    },
    {
      "cell_type": "code",
      "source": [
        "def return_label(text):\n",
        "    prompt = '''주어진 텍스트가 긍정인지 중립인지 부정인지 예측하시오. 당신의 답변은 오로지 [positive, negative, neutral] 셋 중 하나여야만 합니다.\n",
        "    ex) 'SK하이닉스가 2분기 실적에서 역대 최고를 기록하였다' => \"positive\"'''\n",
        "\n",
        "    response = client.chat.completions.create(\n",
        "        model=\"gpt-4o\",\n",
        "        messages=[\n",
        "            {\"role\": \"system\", \"content\": prompt},\n",
        "            {\"role\": \"user\", \"content\": text + \" => \"}\n",
        "        ]\n",
        "    )\n",
        "    return response.choices[0].message.content"
      ],
      "metadata": {
        "id": "nzy9ZIsdolmE"
      },
      "execution_count": 9,
      "outputs": []
    },
    {
      "cell_type": "code",
      "source": [
        "result = return_label('씨씨에스 로고 씨씨에스 주가가 상한가다. 3일 기준 씨씨에스는 29.84%(825원) 상승한 3590원에 거래를 마쳤다. 상온 초전도체 이슈가 부각되면서 주가가 연일 영향을 받는 모양새다.')\n",
        "print(result)"
      ],
      "metadata": {
        "colab": {
          "base_uri": "https://localhost:8080/"
        },
        "id": "6HTWjLZOooj_",
        "outputId": "5183139c-999a-4a60-8f6d-7856752ee4b2"
      },
      "execution_count": 10,
      "outputs": [
        {
          "output_type": "stream",
          "name": "stdout",
          "text": [
            "\"positive\"\n"
          ]
        }
      ]
    }
  ]
}