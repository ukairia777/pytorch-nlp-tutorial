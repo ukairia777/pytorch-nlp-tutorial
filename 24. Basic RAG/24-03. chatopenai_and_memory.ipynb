{
  "nbformat": 4,
  "nbformat_minor": 0,
  "metadata": {
    "colab": {
      "provenance": []
    },
    "kernelspec": {
      "name": "python3",
      "display_name": "Python 3"
    },
    "language_info": {
      "name": "python"
    }
  },
  "cells": [
    {
      "cell_type": "code",
      "source": [
        "pip install langchain_community langchain_openai"
      ],
      "metadata": {
        "colab": {
          "base_uri": "https://localhost:8080/"
        },
        "id": "h8-9c1w-c4tz",
        "outputId": "8a5e1493-780c-4459-b85c-e360e4735bc5"
      },
      "execution_count": 4,
      "outputs": [
        {
          "output_type": "stream",
          "name": "stdout",
          "text": [
            "Collecting langchain_community\n",
            "  Downloading langchain_community-0.3.25-py3-none-any.whl.metadata (2.9 kB)\n",
            "Requirement already satisfied: langchain_openai in /usr/local/lib/python3.11/dist-packages (0.3.24)\n",
            "Requirement already satisfied: langchain-core<1.0.0,>=0.3.65 in /usr/local/lib/python3.11/dist-packages (from langchain_community) (0.3.65)\n",
            "Requirement already satisfied: langchain<1.0.0,>=0.3.25 in /usr/local/lib/python3.11/dist-packages (from langchain_community) (0.3.25)\n",
            "Requirement already satisfied: SQLAlchemy<3,>=1.4 in /usr/local/lib/python3.11/dist-packages (from langchain_community) (2.0.41)\n",
            "Requirement already satisfied: requests<3,>=2 in /usr/local/lib/python3.11/dist-packages (from langchain_community) (2.32.3)\n",
            "Requirement already satisfied: PyYAML>=5.3 in /usr/local/lib/python3.11/dist-packages (from langchain_community) (6.0.2)\n",
            "Requirement already satisfied: aiohttp<4.0.0,>=3.8.3 in /usr/local/lib/python3.11/dist-packages (from langchain_community) (3.11.15)\n",
            "Requirement already satisfied: tenacity!=8.4.0,<10,>=8.1.0 in /usr/local/lib/python3.11/dist-packages (from langchain_community) (9.1.2)\n",
            "Collecting dataclasses-json<0.7,>=0.5.7 (from langchain_community)\n",
            "  Downloading dataclasses_json-0.6.7-py3-none-any.whl.metadata (25 kB)\n",
            "Collecting pydantic-settings<3.0.0,>=2.4.0 (from langchain_community)\n",
            "  Downloading pydantic_settings-2.9.1-py3-none-any.whl.metadata (3.8 kB)\n",
            "Requirement already satisfied: langsmith<0.4,>=0.1.125 in /usr/local/lib/python3.11/dist-packages (from langchain_community) (0.3.45)\n",
            "Collecting httpx-sse<1.0.0,>=0.4.0 (from langchain_community)\n",
            "  Downloading httpx_sse-0.4.0-py3-none-any.whl.metadata (9.0 kB)\n",
            "Requirement already satisfied: numpy>=1.26.2 in /usr/local/lib/python3.11/dist-packages (from langchain_community) (2.0.2)\n",
            "Requirement already satisfied: openai<2.0.0,>=1.86.0 in /usr/local/lib/python3.11/dist-packages (from langchain_openai) (1.86.0)\n",
            "Requirement already satisfied: tiktoken<1,>=0.7 in /usr/local/lib/python3.11/dist-packages (from langchain_openai) (0.9.0)\n",
            "Requirement already satisfied: aiohappyeyeballs>=2.3.0 in /usr/local/lib/python3.11/dist-packages (from aiohttp<4.0.0,>=3.8.3->langchain_community) (2.6.1)\n",
            "Requirement already satisfied: aiosignal>=1.1.2 in /usr/local/lib/python3.11/dist-packages (from aiohttp<4.0.0,>=3.8.3->langchain_community) (1.3.2)\n",
            "Requirement already satisfied: attrs>=17.3.0 in /usr/local/lib/python3.11/dist-packages (from aiohttp<4.0.0,>=3.8.3->langchain_community) (25.3.0)\n",
            "Requirement already satisfied: frozenlist>=1.1.1 in /usr/local/lib/python3.11/dist-packages (from aiohttp<4.0.0,>=3.8.3->langchain_community) (1.7.0)\n",
            "Requirement already satisfied: multidict<7.0,>=4.5 in /usr/local/lib/python3.11/dist-packages (from aiohttp<4.0.0,>=3.8.3->langchain_community) (6.4.4)\n",
            "Requirement already satisfied: propcache>=0.2.0 in /usr/local/lib/python3.11/dist-packages (from aiohttp<4.0.0,>=3.8.3->langchain_community) (0.3.2)\n",
            "Requirement already satisfied: yarl<2.0,>=1.17.0 in /usr/local/lib/python3.11/dist-packages (from aiohttp<4.0.0,>=3.8.3->langchain_community) (1.20.1)\n",
            "Collecting marshmallow<4.0.0,>=3.18.0 (from dataclasses-json<0.7,>=0.5.7->langchain_community)\n",
            "  Downloading marshmallow-3.26.1-py3-none-any.whl.metadata (7.3 kB)\n",
            "Collecting typing-inspect<1,>=0.4.0 (from dataclasses-json<0.7,>=0.5.7->langchain_community)\n",
            "  Downloading typing_inspect-0.9.0-py3-none-any.whl.metadata (1.5 kB)\n",
            "Requirement already satisfied: langchain-text-splitters<1.0.0,>=0.3.8 in /usr/local/lib/python3.11/dist-packages (from langchain<1.0.0,>=0.3.25->langchain_community) (0.3.8)\n",
            "Requirement already satisfied: pydantic<3.0.0,>=2.7.4 in /usr/local/lib/python3.11/dist-packages (from langchain<1.0.0,>=0.3.25->langchain_community) (2.11.7)\n",
            "Requirement already satisfied: jsonpatch<2.0,>=1.33 in /usr/local/lib/python3.11/dist-packages (from langchain-core<1.0.0,>=0.3.65->langchain_community) (1.33)\n",
            "Requirement already satisfied: packaging<25,>=23.2 in /usr/local/lib/python3.11/dist-packages (from langchain-core<1.0.0,>=0.3.65->langchain_community) (24.2)\n",
            "Requirement already satisfied: typing-extensions>=4.7 in /usr/local/lib/python3.11/dist-packages (from langchain-core<1.0.0,>=0.3.65->langchain_community) (4.14.0)\n",
            "Requirement already satisfied: httpx<1,>=0.23.0 in /usr/local/lib/python3.11/dist-packages (from langsmith<0.4,>=0.1.125->langchain_community) (0.28.1)\n",
            "Requirement already satisfied: orjson<4.0.0,>=3.9.14 in /usr/local/lib/python3.11/dist-packages (from langsmith<0.4,>=0.1.125->langchain_community) (3.10.18)\n",
            "Requirement already satisfied: requests-toolbelt<2.0.0,>=1.0.0 in /usr/local/lib/python3.11/dist-packages (from langsmith<0.4,>=0.1.125->langchain_community) (1.0.0)\n",
            "Requirement already satisfied: zstandard<0.24.0,>=0.23.0 in /usr/local/lib/python3.11/dist-packages (from langsmith<0.4,>=0.1.125->langchain_community) (0.23.0)\n",
            "Requirement already satisfied: anyio<5,>=3.5.0 in /usr/local/lib/python3.11/dist-packages (from openai<2.0.0,>=1.86.0->langchain_openai) (4.9.0)\n",
            "Requirement already satisfied: distro<2,>=1.7.0 in /usr/local/lib/python3.11/dist-packages (from openai<2.0.0,>=1.86.0->langchain_openai) (1.9.0)\n",
            "Requirement already satisfied: jiter<1,>=0.4.0 in /usr/local/lib/python3.11/dist-packages (from openai<2.0.0,>=1.86.0->langchain_openai) (0.10.0)\n",
            "Requirement already satisfied: sniffio in /usr/local/lib/python3.11/dist-packages (from openai<2.0.0,>=1.86.0->langchain_openai) (1.3.1)\n",
            "Requirement already satisfied: tqdm>4 in /usr/local/lib/python3.11/dist-packages (from openai<2.0.0,>=1.86.0->langchain_openai) (4.67.1)\n",
            "Collecting python-dotenv>=0.21.0 (from pydantic-settings<3.0.0,>=2.4.0->langchain_community)\n",
            "  Downloading python_dotenv-1.1.0-py3-none-any.whl.metadata (24 kB)\n",
            "Requirement already satisfied: typing-inspection>=0.4.0 in /usr/local/lib/python3.11/dist-packages (from pydantic-settings<3.0.0,>=2.4.0->langchain_community) (0.4.1)\n",
            "Requirement already satisfied: charset-normalizer<4,>=2 in /usr/local/lib/python3.11/dist-packages (from requests<3,>=2->langchain_community) (3.4.2)\n",
            "Requirement already satisfied: idna<4,>=2.5 in /usr/local/lib/python3.11/dist-packages (from requests<3,>=2->langchain_community) (3.10)\n",
            "Requirement already satisfied: urllib3<3,>=1.21.1 in /usr/local/lib/python3.11/dist-packages (from requests<3,>=2->langchain_community) (2.4.0)\n",
            "Requirement already satisfied: certifi>=2017.4.17 in /usr/local/lib/python3.11/dist-packages (from requests<3,>=2->langchain_community) (2025.6.15)\n",
            "Requirement already satisfied: greenlet>=1 in /usr/local/lib/python3.11/dist-packages (from SQLAlchemy<3,>=1.4->langchain_community) (3.2.3)\n",
            "Requirement already satisfied: regex>=2022.1.18 in /usr/local/lib/python3.11/dist-packages (from tiktoken<1,>=0.7->langchain_openai) (2024.11.6)\n",
            "Requirement already satisfied: httpcore==1.* in /usr/local/lib/python3.11/dist-packages (from httpx<1,>=0.23.0->langsmith<0.4,>=0.1.125->langchain_community) (1.0.9)\n",
            "Requirement already satisfied: h11>=0.16 in /usr/local/lib/python3.11/dist-packages (from httpcore==1.*->httpx<1,>=0.23.0->langsmith<0.4,>=0.1.125->langchain_community) (0.16.0)\n",
            "Requirement already satisfied: jsonpointer>=1.9 in /usr/local/lib/python3.11/dist-packages (from jsonpatch<2.0,>=1.33->langchain-core<1.0.0,>=0.3.65->langchain_community) (3.0.0)\n",
            "Requirement already satisfied: annotated-types>=0.6.0 in /usr/local/lib/python3.11/dist-packages (from pydantic<3.0.0,>=2.7.4->langchain<1.0.0,>=0.3.25->langchain_community) (0.7.0)\n",
            "Requirement already satisfied: pydantic-core==2.33.2 in /usr/local/lib/python3.11/dist-packages (from pydantic<3.0.0,>=2.7.4->langchain<1.0.0,>=0.3.25->langchain_community) (2.33.2)\n",
            "Collecting mypy-extensions>=0.3.0 (from typing-inspect<1,>=0.4.0->dataclasses-json<0.7,>=0.5.7->langchain_community)\n",
            "  Downloading mypy_extensions-1.1.0-py3-none-any.whl.metadata (1.1 kB)\n",
            "Downloading langchain_community-0.3.25-py3-none-any.whl (2.5 MB)\n",
            "\u001b[2K   \u001b[90m━━━━━━━━━━━━━━━━━━━━━━━━━━━━━━━━━━━━━━━━\u001b[0m \u001b[32m2.5/2.5 MB\u001b[0m \u001b[31m29.4 MB/s\u001b[0m eta \u001b[36m0:00:00\u001b[0m\n",
            "\u001b[?25hDownloading dataclasses_json-0.6.7-py3-none-any.whl (28 kB)\n",
            "Downloading httpx_sse-0.4.0-py3-none-any.whl (7.8 kB)\n",
            "Downloading pydantic_settings-2.9.1-py3-none-any.whl (44 kB)\n",
            "\u001b[2K   \u001b[90m━━━━━━━━━━━━━━━━━━━━━━━━━━━━━━━━━━━━━━━━\u001b[0m \u001b[32m44.4/44.4 kB\u001b[0m \u001b[31m3.0 MB/s\u001b[0m eta \u001b[36m0:00:00\u001b[0m\n",
            "\u001b[?25hDownloading marshmallow-3.26.1-py3-none-any.whl (50 kB)\n",
            "\u001b[2K   \u001b[90m━━━━━━━━━━━━━━━━━━━━━━━━━━━━━━━━━━━━━━━━\u001b[0m \u001b[32m50.9/50.9 kB\u001b[0m \u001b[31m3.8 MB/s\u001b[0m eta \u001b[36m0:00:00\u001b[0m\n",
            "\u001b[?25hDownloading python_dotenv-1.1.0-py3-none-any.whl (20 kB)\n",
            "Downloading typing_inspect-0.9.0-py3-none-any.whl (8.8 kB)\n",
            "Downloading mypy_extensions-1.1.0-py3-none-any.whl (5.0 kB)\n",
            "Installing collected packages: python-dotenv, mypy-extensions, marshmallow, httpx-sse, typing-inspect, pydantic-settings, dataclasses-json, langchain_community\n",
            "Successfully installed dataclasses-json-0.6.7 httpx-sse-0.4.0 langchain_community-0.3.25 marshmallow-3.26.1 mypy-extensions-1.1.0 pydantic-settings-2.9.1 python-dotenv-1.1.0 typing-inspect-0.9.0\n"
          ]
        }
      ]
    },
    {
      "cell_type": "code",
      "execution_count": 18,
      "metadata": {
        "id": "p8bzrvFTcymR"
      },
      "outputs": [],
      "source": [
        "import os\n",
        "from langchain_openai import ChatOpenAI\n",
        "from langchain_core.prompts import PromptTemplate\n",
        "from langchain_core.runnables.history import RunnableWithMessageHistory\n",
        "from langchain_community.chat_message_histories import ChatMessageHistory\n",
        "from langchain_core.tracers.stdout import ConsoleCallbackHandler"
      ]
    },
    {
      "cell_type": "code",
      "source": [
        "os.environ['OPENAI_API_KEY'] = \"여러분의 키 값\"\n",
        "\n",
        "# 객체 생성\n",
        "llm = ChatOpenAI(\n",
        "    temperature=0.1,  # 창의성 (0.0 ~ 2.0)\n",
        "    max_tokens=2048,  # 최대 토큰수\n",
        "    model_name=\"gpt-4o\",  # 모델명\n",
        ")"
      ],
      "metadata": {
        "id": "72AzKc8Ycy5a"
      },
      "execution_count": 19,
      "outputs": []
    },
    {
      "cell_type": "code",
      "source": [
        "# 질의내용\n",
        "question = \"세종대왕이 누구인지 설명해주세요\"\n",
        "# 질의\n",
        "result = llm.invoke(question)\n",
        "print(result.content)"
      ],
      "metadata": {
        "colab": {
          "base_uri": "https://localhost:8080/"
        },
        "id": "qWlW_Xd-c-yx",
        "outputId": "d74f721b-00fc-4d74-9c15-9461cc82c068"
      },
      "execution_count": 20,
      "outputs": [
        {
          "output_type": "stream",
          "name": "stdout",
          "text": [
            "세종대왕은 조선의 제4대 왕으로, 한국 역사에서 가장 존경받는 군주 중 한 명입니다. 그는 1397년에 태어나 1418년부터 1450년까지 재위했습니다. 세종대왕은 특히 한글 창제와 관련하여 유명합니다. 그는 백성들이 쉽게 읽고 쓸 수 있는 문자를 만들기 위해 훈민정음을 창제하였으며, 이는 오늘날 한글로 알려져 있습니다.\n",
            "\n",
            "세종대왕의 업적은 한글 창제에만 국한되지 않습니다. 그는 과학, 기술, 문화, 경제 등 여러 분야에서 혁신적인 정책을 추진하였습니다. 예를 들어, 천문학 발전을 위해 장영실과 같은 과학자를 지원하여 혼천의와 같은 천문 기구를 개발하게 했고, 농업 발전을 위해 농사직설과 같은 농업 서적을 편찬하였습니다. 또한, 음악과 예술을 장려하고, 법과 제도를 정비하여 조선의 기틀을 다졌습니다.\n",
            "\n",
            "세종대왕의 통치는 조선의 황금기로 불리며, 그의 리더십과 업적은 오늘날까지도 많은 사람들에게 귀감이 되고 있습니다.\n"
          ]
        }
      ]
    },
    {
      "cell_type": "code",
      "source": [
        "# 질문 템플릿 형식 정의\n",
        "template = \"{who}가 누구인지 설명해주세요\"\n",
        "\n",
        "# 템플릿 완성\n",
        "prompt = PromptTemplate(\n",
        "        template=template, input_variables=['who']\n",
        "    )\n",
        "print(prompt)"
      ],
      "metadata": {
        "colab": {
          "base_uri": "https://localhost:8080/"
        },
        "id": "8ss6s_jgdBnJ",
        "outputId": "74a9413a-cac5-4501-9b2e-db38acf6475b"
      },
      "execution_count": 21,
      "outputs": [
        {
          "output_type": "stream",
          "name": "stdout",
          "text": [
            "input_variables=['who'] input_types={} partial_variables={} template='{who}가 누구인지 설명해주세요'\n"
          ]
        }
      ]
    },
    {
      "cell_type": "code",
      "source": [
        "print(prompt.format(who=\"오바마\"))"
      ],
      "metadata": {
        "colab": {
          "base_uri": "https://localhost:8080/"
        },
        "id": "NlCWiedNdDcR",
        "outputId": "456b1fd8-e187-4d61-cf4e-4e9822e5d55a"
      },
      "execution_count": 22,
      "outputs": [
        {
          "output_type": "stream",
          "name": "stdout",
          "text": [
            "오바마가 누구인지 설명해주세요\n"
          ]
        }
      ]
    },
    {
      "cell_type": "code",
      "source": [
        "# 연결된 체인 생성\n",
        "llm_chain = prompt | llm\n",
        "result = llm_chain.invoke({\"who\":\"이순신 장군\"})\n",
        "print(result.content)"
      ],
      "metadata": {
        "colab": {
          "base_uri": "https://localhost:8080/"
        },
        "id": "PJyF7359dEJZ",
        "outputId": "bf37d857-aed5-4a9f-b6ff-d20ef0ff3e45"
      },
      "execution_count": 23,
      "outputs": [
        {
          "output_type": "stream",
          "name": "stdout",
          "text": [
            "이순신 장군은 조선 시대의 유명한 군인으로, 임진왜란 당시 조선을 침략한 일본군을 상대로 여러 차례 해전에서 승리를 거두며 나라를 지킨 인물입니다. 그는 1545년에 태어나 1598년에 전사할 때까지 조선 해군의 지휘관으로 활약했습니다. 이순신은 특히 한산도 대첩, 명량 해전, 노량 해전 등에서의 뛰어난 전략과 전술로 잘 알려져 있습니다.\n",
            "\n",
            "그는 거북선이라는 철갑선을 활용하여 일본군을 효과적으로 물리쳤으며, 그의 리더십과 용맹함은 오늘날까지도 많은 사람들에게 존경받고 있습니다. 이순신 장군은 사후에 여러 차례 추서되어, 대한민국에서는 국민적 영웅으로 기리고 있습니다. 그의 삶과 업적은 다양한 문학 작품과 영화, 드라마 등에서도 다루어지고 있습니다.\n"
          ]
        }
      ]
    },
    {
      "cell_type": "code",
      "source": [
        "result = llm_chain.invoke({\"who\":\"이순신 장군\"},\n",
        "                          config={\"callbacks\": [ConsoleCallbackHandler()]})"
      ],
      "metadata": {
        "colab": {
          "base_uri": "https://localhost:8080/"
        },
        "id": "rGsu1PD3dJGR",
        "outputId": "a97911ca-f3c9-4402-d03f-59a17c0e15b4"
      },
      "execution_count": 24,
      "outputs": [
        {
          "output_type": "stream",
          "name": "stdout",
          "text": [
            "\u001b[32;1m\u001b[1;3m[chain/start]\u001b[0m \u001b[1m[chain:RunnableSequence] Entering Chain run with input:\n",
            "\u001b[0m{\n",
            "  \"who\": \"이순신 장군\"\n",
            "}\n",
            "\u001b[32;1m\u001b[1;3m[chain/start]\u001b[0m \u001b[1m[chain:RunnableSequence > prompt:PromptTemplate] Entering Prompt run with input:\n",
            "\u001b[0m{\n",
            "  \"who\": \"이순신 장군\"\n",
            "}\n",
            "\u001b[36;1m\u001b[1;3m[chain/end]\u001b[0m \u001b[1m[chain:RunnableSequence > prompt:PromptTemplate] [1ms] Exiting Prompt run with output:\n",
            "\u001b[0m[outputs]\n",
            "\u001b[32;1m\u001b[1;3m[llm/start]\u001b[0m \u001b[1m[chain:RunnableSequence > llm:ChatOpenAI] Entering LLM run with input:\n",
            "\u001b[0m{\n",
            "  \"prompts\": [\n",
            "    \"Human: 이순신 장군가 누구인지 설명해주세요\"\n",
            "  ]\n",
            "}\n",
            "\u001b[36;1m\u001b[1;3m[llm/end]\u001b[0m \u001b[1m[chain:RunnableSequence > llm:ChatOpenAI] [3.52s] Exiting LLM run with output:\n",
            "\u001b[0m{\n",
            "  \"generations\": [\n",
            "    [\n",
            "      {\n",
            "        \"text\": \"이순신 장군은 조선 시대의 유명한 군인으로, 임진왜란(1592-1598) 동안 조선을 방어하는 데 중요한 역할을 했습니다. 그는 1545년에 태어나 1598년에 전사했습니다. 이순신은 특히 해군 지휘관으로서 뛰어난 전략과 전술을 발휘하여 여러 해전에서 일본군을 물리쳤습니다.\\n\\n가장 유명한 전투 중 하나는 1597년의 명량 해전으로, 이순신은 열세인 상황에서도 뛰어난 지휘력으로 일본 함대를 격파했습니다. 그의 리더십과 용기는 조선의 해군을 재건하고 일본의 침략을 저지하는 데 큰 기여를 했습니다.\\n\\n이순신은 또한 거북선이라는 혁신적인 전함을 사용하여 해전에서 큰 성과를 거두었습니다. 그의 업적은 오늘날까지도 한국에서 존경받고 있으며, 그는 한국 역사상 가장 위대한 군인 중 한 명으로 평가받고 있습니다.\",\n",
            "        \"generation_info\": {\n",
            "          \"finish_reason\": \"stop\",\n",
            "          \"logprobs\": null\n",
            "        },\n",
            "        \"type\": \"ChatGeneration\",\n",
            "        \"message\": {\n",
            "          \"lc\": 1,\n",
            "          \"type\": \"constructor\",\n",
            "          \"id\": [\n",
            "            \"langchain\",\n",
            "            \"schema\",\n",
            "            \"messages\",\n",
            "            \"AIMessage\"\n",
            "          ],\n",
            "          \"kwargs\": {\n",
            "            \"content\": \"이순신 장군은 조선 시대의 유명한 군인으로, 임진왜란(1592-1598) 동안 조선을 방어하는 데 중요한 역할을 했습니다. 그는 1545년에 태어나 1598년에 전사했습니다. 이순신은 특히 해군 지휘관으로서 뛰어난 전략과 전술을 발휘하여 여러 해전에서 일본군을 물리쳤습니다.\\n\\n가장 유명한 전투 중 하나는 1597년의 명량 해전으로, 이순신은 열세인 상황에서도 뛰어난 지휘력으로 일본 함대를 격파했습니다. 그의 리더십과 용기는 조선의 해군을 재건하고 일본의 침략을 저지하는 데 큰 기여를 했습니다.\\n\\n이순신은 또한 거북선이라는 혁신적인 전함을 사용하여 해전에서 큰 성과를 거두었습니다. 그의 업적은 오늘날까지도 한국에서 존경받고 있으며, 그는 한국 역사상 가장 위대한 군인 중 한 명으로 평가받고 있습니다.\",\n",
            "            \"additional_kwargs\": {\n",
            "              \"refusal\": null\n",
            "            },\n",
            "            \"response_metadata\": {\n",
            "              \"token_usage\": {\n",
            "                \"completion_tokens\": 226,\n",
            "                \"prompt_tokens\": 17,\n",
            "                \"total_tokens\": 243,\n",
            "                \"completion_tokens_details\": {\n",
            "                  \"accepted_prediction_tokens\": 0,\n",
            "                  \"audio_tokens\": 0,\n",
            "                  \"reasoning_tokens\": 0,\n",
            "                  \"rejected_prediction_tokens\": 0\n",
            "                },\n",
            "                \"prompt_tokens_details\": {\n",
            "                  \"audio_tokens\": 0,\n",
            "                  \"cached_tokens\": 0\n",
            "                }\n",
            "              },\n",
            "              \"model_name\": \"gpt-4o-2024-08-06\",\n",
            "              \"system_fingerprint\": \"fp_07871e2ad8\",\n",
            "              \"id\": \"chatcmpl-BkVn7LoqSclXPc2DrJzsvrlZ4QLaQ\",\n",
            "              \"service_tier\": \"default\",\n",
            "              \"finish_reason\": \"stop\",\n",
            "              \"logprobs\": null\n",
            "            },\n",
            "            \"type\": \"ai\",\n",
            "            \"id\": \"run--1aadf120-07ac-4b23-903d-5b732dce412b-0\",\n",
            "            \"usage_metadata\": {\n",
            "              \"input_tokens\": 17,\n",
            "              \"output_tokens\": 226,\n",
            "              \"total_tokens\": 243,\n",
            "              \"input_token_details\": {\n",
            "                \"audio\": 0,\n",
            "                \"cache_read\": 0\n",
            "              },\n",
            "              \"output_token_details\": {\n",
            "                \"audio\": 0,\n",
            "                \"reasoning\": 0\n",
            "              }\n",
            "            },\n",
            "            \"tool_calls\": [],\n",
            "            \"invalid_tool_calls\": []\n",
            "          }\n",
            "        }\n",
            "      }\n",
            "    ]\n",
            "  ],\n",
            "  \"llm_output\": {\n",
            "    \"token_usage\": {\n",
            "      \"completion_tokens\": 226,\n",
            "      \"prompt_tokens\": 17,\n",
            "      \"total_tokens\": 243,\n",
            "      \"completion_tokens_details\": {\n",
            "        \"accepted_prediction_tokens\": 0,\n",
            "        \"audio_tokens\": 0,\n",
            "        \"reasoning_tokens\": 0,\n",
            "        \"rejected_prediction_tokens\": 0\n",
            "      },\n",
            "      \"prompt_tokens_details\": {\n",
            "        \"audio_tokens\": 0,\n",
            "        \"cached_tokens\": 0\n",
            "      }\n",
            "    },\n",
            "    \"model_name\": \"gpt-4o-2024-08-06\",\n",
            "    \"system_fingerprint\": \"fp_07871e2ad8\",\n",
            "    \"id\": \"chatcmpl-BkVn7LoqSclXPc2DrJzsvrlZ4QLaQ\",\n",
            "    \"service_tier\": \"default\"\n",
            "  },\n",
            "  \"run\": null,\n",
            "  \"type\": \"LLMResult\"\n",
            "}\n",
            "\u001b[36;1m\u001b[1;3m[chain/end]\u001b[0m \u001b[1m[chain:RunnableSequence] [3.52s] Exiting Chain run with output:\n",
            "\u001b[0m[outputs]\n"
          ]
        }
      ]
    },
    {
      "cell_type": "code",
      "source": [
        "# 프롬프트 템플릿 생성\n",
        "template = \"\"\"아래는 사람과 AI의 친근한 대화입니다. AI의 이름은 위키독스봇입니다. 대화 문맥을 바탕으로 친절한 답변을 진행하세요.\n",
        "\n",
        "Current Conversation:\n",
        "{history}\n",
        "\n",
        "Human: {input}\n",
        "AI:\"\"\"\n",
        "\n",
        "prompt = PromptTemplate(\n",
        "        template=template, input_variables=['history', 'input']\n",
        "    )\n",
        "\n",
        "# llm 객체를 새로 선언하고, 프롬프트 템플릿과 llm 객체를 연결합니다.\n",
        "llm = ChatOpenAI(model_name=\"gpt-4o\")\n",
        "chain = prompt | llm"
      ],
      "metadata": {
        "id": "VNAmz5lDdJ8J"
      },
      "execution_count": 25,
      "outputs": []
    },
    {
      "cell_type": "code",
      "source": [
        "store = {}\n",
        "session_id = \"test\""
      ],
      "metadata": {
        "id": "pmsbmyVhdLEp"
      },
      "execution_count": 26,
      "outputs": []
    },
    {
      "cell_type": "code",
      "source": [
        "if session_id not in store:\n",
        "    store[session_id] = ChatMessageHistory()\n",
        "session_history = store[session_id]"
      ],
      "metadata": {
        "id": "gEX0LGNcdgko"
      },
      "execution_count": 27,
      "outputs": []
    },
    {
      "cell_type": "code",
      "source": [
        "with_message_history = RunnableWithMessageHistory(\n",
        "    chain,\n",
        "    lambda session_id: session_history,\n",
        "    input_messages_key=\"input\",\n",
        "    history_messages_key=\"history\"\n",
        ")"
      ],
      "metadata": {
        "id": "a1Aw8WHJdgrB"
      },
      "execution_count": 28,
      "outputs": []
    },
    {
      "cell_type": "code",
      "source": [
        "result = with_message_history.invoke(\n",
        "    {\"input\": \"당신은 어디에서 만들었습니까?\"},\n",
        "    config={\"configurable\": {\"session_id\": \"test\"}},\n",
        ")\n",
        "print(result.content)"
      ],
      "metadata": {
        "colab": {
          "base_uri": "https://localhost:8080/"
        },
        "id": "Xxqiv99sdh2h",
        "outputId": "81638ed8-cedf-41b7-e5b2-eab795091a71"
      },
      "execution_count": 29,
      "outputs": [
        {
          "output_type": "stream",
          "name": "stdout",
          "text": [
            "안녕하세요! 저는 다양한 개발자와 연구자들의 노력을 통해 만들어졌습니다. 저의 기반 기술은 OpenAI에서 개발되었으며, 여러 응용 프로그램에서 사용되도록 개선되었습니다. 궁금한 점이 더 있다면 언제든지 물어보세요!\n"
          ]
        }
      ]
    },
    {
      "cell_type": "code",
      "source": [
        "result = with_message_history.invoke(\n",
        "    {\"input\": \"푸른 바다를 주제로 감성적이고 짧은 시를 하나 지어주세요\"},\n",
        "    config={\"configurable\": {\"session_id\": \"test\"}},\n",
        ")\n",
        "print(result.content)"
      ],
      "metadata": {
        "colab": {
          "base_uri": "https://localhost:8080/"
        },
        "id": "YZRrP1LPdmsp",
        "outputId": "24497a30-ade4-4e3e-efb3-9868e8d7f62a"
      },
      "execution_count": 30,
      "outputs": [
        {
          "output_type": "stream",
          "name": "stdout",
          "text": [
            "푸른 바다, 그 끝없는 수평선,  \n",
            "바닷바람에 실려 오는 속삭임들,  \n",
            "은빛 물결 춤추며 속삭이는 꿈,  \n",
            "고요한 깊이 속에 숨은 이야기들.\n"
          ]
        }
      ]
    },
    {
      "cell_type": "code",
      "source": [
        "result = with_message_history.invoke(\n",
        "    {\"input\": \"석양을 주제로도 해줘\"},\n",
        "    config={\"configurable\": {\"session_id\": \"test\"}},\n",
        ")\n",
        "print(result.content)"
      ],
      "metadata": {
        "colab": {
          "base_uri": "https://localhost:8080/"
        },
        "id": "gxTtbJqgdoSR",
        "outputId": "91aa3aa9-7072-45cb-b675-bc7902989aa0"
      },
      "execution_count": 31,
      "outputs": [
        {
          "output_type": "stream",
          "name": "stdout",
          "text": [
            "석양이 물든 하늘, 금빛으로 물결치고,  \n",
            "잔잔한 노을 속에 사라지는 하루,  \n",
            "서서히 닫히는 날의 문턱,  \n",
            "그 너머로 숨겨진 밤의 이야기.\n"
          ]
        }
      ]
    },
    {
      "cell_type": "code",
      "source": [
        "print(store)"
      ],
      "metadata": {
        "colab": {
          "base_uri": "https://localhost:8080/"
        },
        "id": "tjEjexIXdpGB",
        "outputId": "e4bc6cda-4847-4224-9b11-ea22680db677"
      },
      "execution_count": 32,
      "outputs": [
        {
          "output_type": "stream",
          "name": "stdout",
          "text": [
            "{'test': InMemoryChatMessageHistory(messages=[HumanMessage(content='당신은 어디에서 만들었습니까?', additional_kwargs={}, response_metadata={}), AIMessage(content='안녕하세요! 저는 다양한 개발자와 연구자들의 노력을 통해 만들어졌습니다. 저의 기반 기술은 OpenAI에서 개발되었으며, 여러 응용 프로그램에서 사용되도록 개선되었습니다. 궁금한 점이 더 있다면 언제든지 물어보세요!', additional_kwargs={'refusal': None}, response_metadata={'token_usage': {'completion_tokens': 58, 'prompt_tokens': 66, 'total_tokens': 124, 'completion_tokens_details': {'accepted_prediction_tokens': 0, 'audio_tokens': 0, 'reasoning_tokens': 0, 'rejected_prediction_tokens': 0}, 'prompt_tokens_details': {'audio_tokens': 0, 'cached_tokens': 0}}, 'model_name': 'gpt-4o-2024-08-06', 'system_fingerprint': 'fp_07871e2ad8', 'id': 'chatcmpl-BkVnqkmREsBDgr7NU4U72aftz2gvy', 'service_tier': 'default', 'finish_reason': 'stop', 'logprobs': None}, id='run--7a022adc-ce7a-41f3-a0e1-cac4f64f3cb3-0', usage_metadata={'input_tokens': 66, 'output_tokens': 58, 'total_tokens': 124, 'input_token_details': {'audio': 0, 'cache_read': 0}, 'output_token_details': {'audio': 0, 'reasoning': 0}}), HumanMessage(content='푸른 바다를 주제로 감성적이고 짧은 시를 하나 지어주세요', additional_kwargs={}, response_metadata={}), AIMessage(content='푸른 바다, 그 끝없는 수평선,  \\n바닷바람에 실려 오는 속삭임들,  \\n은빛 물결 춤추며 속삭이는 꿈,  \\n고요한 깊이 속에 숨은 이야기들.', additional_kwargs={'refusal': None}, response_metadata={'token_usage': {'completion_tokens': 53, 'prompt_tokens': 427, 'total_tokens': 480, 'completion_tokens_details': {'accepted_prediction_tokens': 0, 'audio_tokens': 0, 'reasoning_tokens': 0, 'rejected_prediction_tokens': 0}, 'prompt_tokens_details': {'audio_tokens': 0, 'cached_tokens': 0}}, 'model_name': 'gpt-4o-2024-08-06', 'system_fingerprint': 'fp_07871e2ad8', 'id': 'chatcmpl-BkVnw4TEysWxAB0ExGBNoiwhx4Jzz', 'service_tier': 'default', 'finish_reason': 'stop', 'logprobs': None}, id='run--a014f6b3-6327-48b1-b2f1-b0702e197a60-0', usage_metadata={'input_tokens': 427, 'output_tokens': 53, 'total_tokens': 480, 'input_token_details': {'audio': 0, 'cache_read': 0}, 'output_token_details': {'audio': 0, 'reasoning': 0}}), HumanMessage(content='석양을 주제로도 해줘', additional_kwargs={}, response_metadata={}), AIMessage(content='석양이 물든 하늘, 금빛으로 물결치고,  \\n잔잔한 노을 속에 사라지는 하루,  \\n서서히 닫히는 날의 문턱,  \\n그 너머로 숨겨진 밤의 이야기.', additional_kwargs={'refusal': None}, response_metadata={'token_usage': {'completion_tokens': 55, 'prompt_tokens': 774, 'total_tokens': 829, 'completion_tokens_details': {'accepted_prediction_tokens': 0, 'audio_tokens': 0, 'reasoning_tokens': 0, 'rejected_prediction_tokens': 0}, 'prompt_tokens_details': {'audio_tokens': 0, 'cached_tokens': 0}}, 'model_name': 'gpt-4o-2024-08-06', 'system_fingerprint': 'fp_07871e2ad8', 'id': 'chatcmpl-BkVnz9X6CIDfGgyA4mBf1BFCzajdH', 'service_tier': 'default', 'finish_reason': 'stop', 'logprobs': None}, id='run--296b0721-4768-4b47-9f32-fe4f1e82cd1f-0', usage_metadata={'input_tokens': 774, 'output_tokens': 55, 'total_tokens': 829, 'input_token_details': {'audio': 0, 'cache_read': 0}, 'output_token_details': {'audio': 0, 'reasoning': 0}})])}\n"
          ]
        }
      ]
    }
  ]
}