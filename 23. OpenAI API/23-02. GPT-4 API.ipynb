{
  "nbformat": 4,
  "nbformat_minor": 0,
  "metadata": {
    "colab": {
      "provenance": []
    },
    "kernelspec": {
      "name": "python3",
      "display_name": "Python 3"
    },
    "language_info": {
      "name": "python"
    }
  },
  "cells": [
    {
      "cell_type": "code",
      "execution_count": 1,
      "metadata": {
        "colab": {
          "base_uri": "https://localhost:8080/"
        },
        "id": "aTDQkTZrnt-Z",
        "outputId": "c7ef542c-2fd8-4fb3-f1cf-ab002a903536"
      },
      "outputs": [
        {
          "output_type": "stream",
          "name": "stdout",
          "text": [
            "Requirement already satisfied: openai in /usr/local/lib/python3.11/dist-packages (1.86.0)\n",
            "Requirement already satisfied: anyio<5,>=3.5.0 in /usr/local/lib/python3.11/dist-packages (from openai) (4.9.0)\n",
            "Requirement already satisfied: distro<2,>=1.7.0 in /usr/local/lib/python3.11/dist-packages (from openai) (1.9.0)\n",
            "Requirement already satisfied: httpx<1,>=0.23.0 in /usr/local/lib/python3.11/dist-packages (from openai) (0.28.1)\n",
            "Requirement already satisfied: jiter<1,>=0.4.0 in /usr/local/lib/python3.11/dist-packages (from openai) (0.10.0)\n",
            "Requirement already satisfied: pydantic<3,>=1.9.0 in /usr/local/lib/python3.11/dist-packages (from openai) (2.11.7)\n",
            "Requirement already satisfied: sniffio in /usr/local/lib/python3.11/dist-packages (from openai) (1.3.1)\n",
            "Requirement already satisfied: tqdm>4 in /usr/local/lib/python3.11/dist-packages (from openai) (4.67.1)\n",
            "Requirement already satisfied: typing-extensions<5,>=4.11 in /usr/local/lib/python3.11/dist-packages (from openai) (4.14.0)\n",
            "Requirement already satisfied: idna>=2.8 in /usr/local/lib/python3.11/dist-packages (from anyio<5,>=3.5.0->openai) (3.10)\n",
            "Requirement already satisfied: certifi in /usr/local/lib/python3.11/dist-packages (from httpx<1,>=0.23.0->openai) (2025.6.15)\n",
            "Requirement already satisfied: httpcore==1.* in /usr/local/lib/python3.11/dist-packages (from httpx<1,>=0.23.0->openai) (1.0.9)\n",
            "Requirement already satisfied: h11>=0.16 in /usr/local/lib/python3.11/dist-packages (from httpcore==1.*->httpx<1,>=0.23.0->openai) (0.16.0)\n",
            "Requirement already satisfied: annotated-types>=0.6.0 in /usr/local/lib/python3.11/dist-packages (from pydantic<3,>=1.9.0->openai) (0.7.0)\n",
            "Requirement already satisfied: pydantic-core==2.33.2 in /usr/local/lib/python3.11/dist-packages (from pydantic<3,>=1.9.0->openai) (2.33.2)\n",
            "Requirement already satisfied: typing-inspection>=0.4.0 in /usr/local/lib/python3.11/dist-packages (from pydantic<3,>=1.9.0->openai) (0.4.1)\n"
          ]
        }
      ],
      "source": [
        "pip install openai"
      ]
    },
    {
      "cell_type": "code",
      "source": [
        "import openai\n",
        "client = openai.OpenAI(api_key=\"여러분의 키 값\")"
      ],
      "metadata": {
        "id": "ktIha3CDnuVU"
      },
      "execution_count": 2,
      "outputs": []
    },
    {
      "cell_type": "code",
      "source": [
        "response = client.chat.completions.create(\n",
        "    model=\"gpt-4o\",\n",
        "    messages=[\n",
        "        {\"role\": \"user\", \"content\": \"2020년 월드시리즈에서는 누가 우승했어?\"}\n",
        "    ]\n",
        ")\n",
        "\n",
        "# 답변을 받는 방법\n",
        "print(response.choices[0].message.content)"
      ],
      "metadata": {
        "colab": {
          "base_uri": "https://localhost:8080/"
        },
        "id": "H-kKg0yXnz4j",
        "outputId": "8f76a198-d67c-4200-98e4-90fd66b3cc04"
      },
      "execution_count": 3,
      "outputs": [
        {
          "output_type": "stream",
          "name": "stdout",
          "text": [
            "2020년 월드시리즈에서는 로스앤젤레스 다저스가 우승했습니다. 다저스는 탬파베이 레이스를 상대로 시리즈를 4승 2패로 마무리하며 우승을 차지했습니다.\n"
          ]
        }
      ]
    },
    {
      "cell_type": "code",
      "source": [
        "response = client.chat.completions.create(\n",
        "    model=\"gpt-4o\",\n",
        "    messages=[\n",
        "        {\"role\": \"system\", \"content\": \"너는 친절하게 답변해주는 비서야. 답변은 반말로 해줘\"},\n",
        "        {\"role\": \"user\", \"content\": \"2020년 월드시리즈에서는 누가 우승했어?\"}\n",
        "    ]\n",
        ")\n",
        "\n",
        "# 답변을 받는 방법\n",
        "print(response.choices[0].message.content)"
      ],
      "metadata": {
        "colab": {
          "base_uri": "https://localhost:8080/"
        },
        "id": "3fMr-uRXn2QP",
        "outputId": "be6bf83f-81e1-45f8-f0c7-1ffdbb99523f"
      },
      "execution_count": 4,
      "outputs": [
        {
          "output_type": "stream",
          "name": "stdout",
          "text": [
            "2020년 월드시리즈에서는 로스앤젤레스 다저스가 우승했어. 탬파베이 레이스를 상대로 4승 2패로 이겼지.\n"
          ]
        }
      ]
    },
    {
      "cell_type": "code",
      "source": [
        "response = client.chat.completions.create(\n",
        "    model=\"gpt-4o\",\n",
        "    messages=[\n",
        "        {\"role\": \"user\", \"content\": \"2002년 월드컵에서 가장 화제가 되었던 나라는 어디야?\"},\n",
        "        {\"role\": \"assistant\", \"content\": \"바로 예상을 뚫고 4강 진출 신화를 일으킨 한국입니다.\"},\n",
        "        {\"role\": \"user\", \"content\": \"그 나라가 화제가 되었던 이유를 자세하게 설명해줘\"}\n",
        "    ]\n",
        ")\n",
        "\n",
        "print(response.choices[0].message.content)"
      ],
      "metadata": {
        "colab": {
          "base_uri": "https://localhost:8080/"
        },
        "id": "HOcxOSMvn2XL",
        "outputId": "5068b656-ebc0-430e-efb6-dee530a732de"
      },
      "execution_count": 5,
      "outputs": [
        {
          "output_type": "stream",
          "name": "stdout",
          "text": [
            "2002년 월드컵에서 한국이 화제가 되었던 이유는 여러 가지가 있습니다.\n",
            "\n",
            "1. **예상 밖의 성과**: 한국은 당시 월드컵에서 4강에 진출하며 세계를 놀라게 했습니다. 이는 아시아 국가로서는 최초의 일이었으며, 특히 강호 이탈리아와 스페인을 꺾고 거둔 성과였습니다.\n",
            "\n",
            "2. **홈팀의 이점**: 2002년 월드컵은 한국과 일본이 공동 개최했기 때문에, 한국은 홈팀으로서 큰 응원을 받았고, 경기 환경에 더 익숙했습니다.\n",
            "\n",
            "3. **히딩크 감독**: 거스 히딩크 감독의 지도 아래 한국 팀은 철저한 준비와 전략으로 경기에 임했습니다. 그의 지도력은 팀의 성과에 큰 영향을 미쳤습니다.\n",
            "\n",
            "4. **결정적인 순간들**: 예를 들어, 이탈리아를 상대로 한 안정환의 골든골, 스페인전에서의 승부차기 승리 등은 많은 팬들에게 극적인 순간으로 기억되었습니다.\n",
            "\n",
            "5. **열광적인 팬 문화**: 한국의 팬들은 \"붉은 악마\"라는 이름으로 열정적으로 응원했고, 거리 응원 등 다양한 방식으로 팀을 지원하여 전 세계적으로 주목받았습니다.\n",
            "\n",
            "이 모든 요소가 결합되어 2002년 월드컵은 한국 축구 역사에 있어서 매우 특별한 순간이 되었고, 이를 통해 한국은 세계 축구 무대에서 강렬한 인상을 남기게 되었습니다.\n"
          ]
        }
      ]
    }
  ]
}