{
  "nbformat": 4,
  "nbformat_minor": 0,
  "metadata": {
    "colab": {
      "provenance": []
    },
    "kernelspec": {
      "name": "python3",
      "display_name": "Python 3"
    },
    "language_info": {
      "name": "python"
    },
    "widgets": {
      "application/vnd.jupyter.widget-state+json": {
        "5d175fa8f57140bdb94ea0c27986ba56": {
          "model_module": "@jupyter-widgets/controls",
          "model_name": "HBoxModel",
          "model_module_version": "1.5.0",
          "state": {
            "_dom_classes": [],
            "_model_module": "@jupyter-widgets/controls",
            "_model_module_version": "1.5.0",
            "_model_name": "HBoxModel",
            "_view_count": null,
            "_view_module": "@jupyter-widgets/controls",
            "_view_module_version": "1.5.0",
            "_view_name": "HBoxView",
            "box_style": "",
            "children": [
              "IPY_MODEL_51321c5d15ba468d9b4cec0737c10117",
              "IPY_MODEL_95b1645f930f4e53bc2dfaf050e2eaee",
              "IPY_MODEL_d2b7b262cc524f11ab632e33badc3c73"
            ],
            "layout": "IPY_MODEL_01dc3dd1208f4f05ad36db82bd3ab9e0"
          }
        },
        "51321c5d15ba468d9b4cec0737c10117": {
          "model_module": "@jupyter-widgets/controls",
          "model_name": "HTMLModel",
          "model_module_version": "1.5.0",
          "state": {
            "_dom_classes": [],
            "_model_module": "@jupyter-widgets/controls",
            "_model_module_version": "1.5.0",
            "_model_name": "HTMLModel",
            "_view_count": null,
            "_view_module": "@jupyter-widgets/controls",
            "_view_module_version": "1.5.0",
            "_view_name": "HTMLView",
            "description": "",
            "description_tooltip": null,
            "layout": "IPY_MODEL_a5cf67beb5bc44a08aaf698cf180d591",
            "placeholder": "​",
            "style": "IPY_MODEL_f6c367f0bbd347fa8e5e0b5011b0c26d",
            "value": "README.md: 100%"
          }
        },
        "95b1645f930f4e53bc2dfaf050e2eaee": {
          "model_module": "@jupyter-widgets/controls",
          "model_name": "FloatProgressModel",
          "model_module_version": "1.5.0",
          "state": {
            "_dom_classes": [],
            "_model_module": "@jupyter-widgets/controls",
            "_model_module_version": "1.5.0",
            "_model_name": "FloatProgressModel",
            "_view_count": null,
            "_view_module": "@jupyter-widgets/controls",
            "_view_module_version": "1.5.0",
            "_view_name": "ProgressView",
            "bar_style": "success",
            "description": "",
            "description_tooltip": null,
            "layout": "IPY_MODEL_c710065acfa7426fbc174608a72c0037",
            "max": 909,
            "min": 0,
            "orientation": "horizontal",
            "style": "IPY_MODEL_aed43dbbe861453e8982cda3d84b4a75",
            "value": 909
          }
        },
        "d2b7b262cc524f11ab632e33badc3c73": {
          "model_module": "@jupyter-widgets/controls",
          "model_name": "HTMLModel",
          "model_module_version": "1.5.0",
          "state": {
            "_dom_classes": [],
            "_model_module": "@jupyter-widgets/controls",
            "_model_module_version": "1.5.0",
            "_model_name": "HTMLModel",
            "_view_count": null,
            "_view_module": "@jupyter-widgets/controls",
            "_view_module_version": "1.5.0",
            "_view_name": "HTMLView",
            "description": "",
            "description_tooltip": null,
            "layout": "IPY_MODEL_0e0a32d288094e5ca06fc44a98177ff9",
            "placeholder": "​",
            "style": "IPY_MODEL_6013c621198d43e781f6cf1193c8614d",
            "value": " 909/909 [00:00&lt;00:00, 25.4kB/s]"
          }
        },
        "01dc3dd1208f4f05ad36db82bd3ab9e0": {
          "model_module": "@jupyter-widgets/base",
          "model_name": "LayoutModel",
          "model_module_version": "1.2.0",
          "state": {
            "_model_module": "@jupyter-widgets/base",
            "_model_module_version": "1.2.0",
            "_model_name": "LayoutModel",
            "_view_count": null,
            "_view_module": "@jupyter-widgets/base",
            "_view_module_version": "1.2.0",
            "_view_name": "LayoutView",
            "align_content": null,
            "align_items": null,
            "align_self": null,
            "border": null,
            "bottom": null,
            "display": null,
            "flex": null,
            "flex_flow": null,
            "grid_area": null,
            "grid_auto_columns": null,
            "grid_auto_flow": null,
            "grid_auto_rows": null,
            "grid_column": null,
            "grid_gap": null,
            "grid_row": null,
            "grid_template_areas": null,
            "grid_template_columns": null,
            "grid_template_rows": null,
            "height": null,
            "justify_content": null,
            "justify_items": null,
            "left": null,
            "margin": null,
            "max_height": null,
            "max_width": null,
            "min_height": null,
            "min_width": null,
            "object_fit": null,
            "object_position": null,
            "order": null,
            "overflow": null,
            "overflow_x": null,
            "overflow_y": null,
            "padding": null,
            "right": null,
            "top": null,
            "visibility": null,
            "width": null
          }
        },
        "a5cf67beb5bc44a08aaf698cf180d591": {
          "model_module": "@jupyter-widgets/base",
          "model_name": "LayoutModel",
          "model_module_version": "1.2.0",
          "state": {
            "_model_module": "@jupyter-widgets/base",
            "_model_module_version": "1.2.0",
            "_model_name": "LayoutModel",
            "_view_count": null,
            "_view_module": "@jupyter-widgets/base",
            "_view_module_version": "1.2.0",
            "_view_name": "LayoutView",
            "align_content": null,
            "align_items": null,
            "align_self": null,
            "border": null,
            "bottom": null,
            "display": null,
            "flex": null,
            "flex_flow": null,
            "grid_area": null,
            "grid_auto_columns": null,
            "grid_auto_flow": null,
            "grid_auto_rows": null,
            "grid_column": null,
            "grid_gap": null,
            "grid_row": null,
            "grid_template_areas": null,
            "grid_template_columns": null,
            "grid_template_rows": null,
            "height": null,
            "justify_content": null,
            "justify_items": null,
            "left": null,
            "margin": null,
            "max_height": null,
            "max_width": null,
            "min_height": null,
            "min_width": null,
            "object_fit": null,
            "object_position": null,
            "order": null,
            "overflow": null,
            "overflow_x": null,
            "overflow_y": null,
            "padding": null,
            "right": null,
            "top": null,
            "visibility": null,
            "width": null
          }
        },
        "f6c367f0bbd347fa8e5e0b5011b0c26d": {
          "model_module": "@jupyter-widgets/controls",
          "model_name": "DescriptionStyleModel",
          "model_module_version": "1.5.0",
          "state": {
            "_model_module": "@jupyter-widgets/controls",
            "_model_module_version": "1.5.0",
            "_model_name": "DescriptionStyleModel",
            "_view_count": null,
            "_view_module": "@jupyter-widgets/base",
            "_view_module_version": "1.2.0",
            "_view_name": "StyleView",
            "description_width": ""
          }
        },
        "c710065acfa7426fbc174608a72c0037": {
          "model_module": "@jupyter-widgets/base",
          "model_name": "LayoutModel",
          "model_module_version": "1.2.0",
          "state": {
            "_model_module": "@jupyter-widgets/base",
            "_model_module_version": "1.2.0",
            "_model_name": "LayoutModel",
            "_view_count": null,
            "_view_module": "@jupyter-widgets/base",
            "_view_module_version": "1.2.0",
            "_view_name": "LayoutView",
            "align_content": null,
            "align_items": null,
            "align_self": null,
            "border": null,
            "bottom": null,
            "display": null,
            "flex": null,
            "flex_flow": null,
            "grid_area": null,
            "grid_auto_columns": null,
            "grid_auto_flow": null,
            "grid_auto_rows": null,
            "grid_column": null,
            "grid_gap": null,
            "grid_row": null,
            "grid_template_areas": null,
            "grid_template_columns": null,
            "grid_template_rows": null,
            "height": null,
            "justify_content": null,
            "justify_items": null,
            "left": null,
            "margin": null,
            "max_height": null,
            "max_width": null,
            "min_height": null,
            "min_width": null,
            "object_fit": null,
            "object_position": null,
            "order": null,
            "overflow": null,
            "overflow_x": null,
            "overflow_y": null,
            "padding": null,
            "right": null,
            "top": null,
            "visibility": null,
            "width": null
          }
        },
        "aed43dbbe861453e8982cda3d84b4a75": {
          "model_module": "@jupyter-widgets/controls",
          "model_name": "ProgressStyleModel",
          "model_module_version": "1.5.0",
          "state": {
            "_model_module": "@jupyter-widgets/controls",
            "_model_module_version": "1.5.0",
            "_model_name": "ProgressStyleModel",
            "_view_count": null,
            "_view_module": "@jupyter-widgets/base",
            "_view_module_version": "1.2.0",
            "_view_name": "StyleView",
            "bar_color": null,
            "description_width": ""
          }
        },
        "0e0a32d288094e5ca06fc44a98177ff9": {
          "model_module": "@jupyter-widgets/base",
          "model_name": "LayoutModel",
          "model_module_version": "1.2.0",
          "state": {
            "_model_module": "@jupyter-widgets/base",
            "_model_module_version": "1.2.0",
            "_model_name": "LayoutModel",
            "_view_count": null,
            "_view_module": "@jupyter-widgets/base",
            "_view_module_version": "1.2.0",
            "_view_name": "LayoutView",
            "align_content": null,
            "align_items": null,
            "align_self": null,
            "border": null,
            "bottom": null,
            "display": null,
            "flex": null,
            "flex_flow": null,
            "grid_area": null,
            "grid_auto_columns": null,
            "grid_auto_flow": null,
            "grid_auto_rows": null,
            "grid_column": null,
            "grid_gap": null,
            "grid_row": null,
            "grid_template_areas": null,
            "grid_template_columns": null,
            "grid_template_rows": null,
            "height": null,
            "justify_content": null,
            "justify_items": null,
            "left": null,
            "margin": null,
            "max_height": null,
            "max_width": null,
            "min_height": null,
            "min_width": null,
            "object_fit": null,
            "object_position": null,
            "order": null,
            "overflow": null,
            "overflow_x": null,
            "overflow_y": null,
            "padding": null,
            "right": null,
            "top": null,
            "visibility": null,
            "width": null
          }
        },
        "6013c621198d43e781f6cf1193c8614d": {
          "model_module": "@jupyter-widgets/controls",
          "model_name": "DescriptionStyleModel",
          "model_module_version": "1.5.0",
          "state": {
            "_model_module": "@jupyter-widgets/controls",
            "_model_module_version": "1.5.0",
            "_model_name": "DescriptionStyleModel",
            "_view_count": null,
            "_view_module": "@jupyter-widgets/base",
            "_view_module_version": "1.2.0",
            "_view_name": "StyleView",
            "description_width": ""
          }
        },
        "79f9759da7f94ccfa3ecd9dcd3cb7ec2": {
          "model_module": "@jupyter-widgets/controls",
          "model_name": "HBoxModel",
          "model_module_version": "1.5.0",
          "state": {
            "_dom_classes": [],
            "_model_module": "@jupyter-widgets/controls",
            "_model_module_version": "1.5.0",
            "_model_name": "HBoxModel",
            "_view_count": null,
            "_view_module": "@jupyter-widgets/controls",
            "_view_module_version": "1.5.0",
            "_view_name": "HBoxView",
            "box_style": "",
            "children": [
              "IPY_MODEL_95b4847c16904f4a8bd7fd3d30ff7849",
              "IPY_MODEL_72c5f6b85e7e4003a9d6058ed907de60",
              "IPY_MODEL_df12f8dfb6724fb8bb1c4eda5fe3702e"
            ],
            "layout": "IPY_MODEL_1d632adbd29d44c5b338c65d54a948bb"
          }
        },
        "95b4847c16904f4a8bd7fd3d30ff7849": {
          "model_module": "@jupyter-widgets/controls",
          "model_name": "HTMLModel",
          "model_module_version": "1.5.0",
          "state": {
            "_dom_classes": [],
            "_model_module": "@jupyter-widgets/controls",
            "_model_module_version": "1.5.0",
            "_model_name": "HTMLModel",
            "_view_count": null,
            "_view_module": "@jupyter-widgets/controls",
            "_view_module_version": "1.5.0",
            "_view_name": "HTMLView",
            "description": "",
            "description_tooltip": null,
            "layout": "IPY_MODEL_5c26cf8ff9b44e44aa44af0cb536ed53",
            "placeholder": "​",
            "style": "IPY_MODEL_0f5a295e1d9e41e0a67faaa5e8498758",
            "value": "train-00000-of-00001.parquet: 100%"
          }
        },
        "72c5f6b85e7e4003a9d6058ed907de60": {
          "model_module": "@jupyter-widgets/controls",
          "model_name": "FloatProgressModel",
          "model_module_version": "1.5.0",
          "state": {
            "_dom_classes": [],
            "_model_module": "@jupyter-widgets/controls",
            "_model_module_version": "1.5.0",
            "_model_name": "FloatProgressModel",
            "_view_count": null,
            "_view_module": "@jupyter-widgets/controls",
            "_view_module_version": "1.5.0",
            "_view_name": "ProgressView",
            "bar_style": "success",
            "description": "",
            "description_tooltip": null,
            "layout": "IPY_MODEL_6ac25ad628fe4080b94085d9cc3fe48e",
            "max": 13043604,
            "min": 0,
            "orientation": "horizontal",
            "style": "IPY_MODEL_8a2b55e4c3934e74a29380b2b91eb551",
            "value": 13043604
          }
        },
        "df12f8dfb6724fb8bb1c4eda5fe3702e": {
          "model_module": "@jupyter-widgets/controls",
          "model_name": "HTMLModel",
          "model_module_version": "1.5.0",
          "state": {
            "_dom_classes": [],
            "_model_module": "@jupyter-widgets/controls",
            "_model_module_version": "1.5.0",
            "_model_name": "HTMLModel",
            "_view_count": null,
            "_view_module": "@jupyter-widgets/controls",
            "_view_module_version": "1.5.0",
            "_view_name": "HTMLView",
            "description": "",
            "description_tooltip": null,
            "layout": "IPY_MODEL_e2ef6801c7db43a29d6e526afcd9b834",
            "placeholder": "​",
            "style": "IPY_MODEL_36a3b32cb98743aeac1b7ec24d4adbfc",
            "value": " 13.0M/13.0M [00:00&lt;00:00, 22.9MB/s]"
          }
        },
        "1d632adbd29d44c5b338c65d54a948bb": {
          "model_module": "@jupyter-widgets/base",
          "model_name": "LayoutModel",
          "model_module_version": "1.2.0",
          "state": {
            "_model_module": "@jupyter-widgets/base",
            "_model_module_version": "1.2.0",
            "_model_name": "LayoutModel",
            "_view_count": null,
            "_view_module": "@jupyter-widgets/base",
            "_view_module_version": "1.2.0",
            "_view_name": "LayoutView",
            "align_content": null,
            "align_items": null,
            "align_self": null,
            "border": null,
            "bottom": null,
            "display": null,
            "flex": null,
            "flex_flow": null,
            "grid_area": null,
            "grid_auto_columns": null,
            "grid_auto_flow": null,
            "grid_auto_rows": null,
            "grid_column": null,
            "grid_gap": null,
            "grid_row": null,
            "grid_template_areas": null,
            "grid_template_columns": null,
            "grid_template_rows": null,
            "height": null,
            "justify_content": null,
            "justify_items": null,
            "left": null,
            "margin": null,
            "max_height": null,
            "max_width": null,
            "min_height": null,
            "min_width": null,
            "object_fit": null,
            "object_position": null,
            "order": null,
            "overflow": null,
            "overflow_x": null,
            "overflow_y": null,
            "padding": null,
            "right": null,
            "top": null,
            "visibility": null,
            "width": null
          }
        },
        "5c26cf8ff9b44e44aa44af0cb536ed53": {
          "model_module": "@jupyter-widgets/base",
          "model_name": "LayoutModel",
          "model_module_version": "1.2.0",
          "state": {
            "_model_module": "@jupyter-widgets/base",
            "_model_module_version": "1.2.0",
            "_model_name": "LayoutModel",
            "_view_count": null,
            "_view_module": "@jupyter-widgets/base",
            "_view_module_version": "1.2.0",
            "_view_name": "LayoutView",
            "align_content": null,
            "align_items": null,
            "align_self": null,
            "border": null,
            "bottom": null,
            "display": null,
            "flex": null,
            "flex_flow": null,
            "grid_area": null,
            "grid_auto_columns": null,
            "grid_auto_flow": null,
            "grid_auto_rows": null,
            "grid_column": null,
            "grid_gap": null,
            "grid_row": null,
            "grid_template_areas": null,
            "grid_template_columns": null,
            "grid_template_rows": null,
            "height": null,
            "justify_content": null,
            "justify_items": null,
            "left": null,
            "margin": null,
            "max_height": null,
            "max_width": null,
            "min_height": null,
            "min_width": null,
            "object_fit": null,
            "object_position": null,
            "order": null,
            "overflow": null,
            "overflow_x": null,
            "overflow_y": null,
            "padding": null,
            "right": null,
            "top": null,
            "visibility": null,
            "width": null
          }
        },
        "0f5a295e1d9e41e0a67faaa5e8498758": {
          "model_module": "@jupyter-widgets/controls",
          "model_name": "DescriptionStyleModel",
          "model_module_version": "1.5.0",
          "state": {
            "_model_module": "@jupyter-widgets/controls",
            "_model_module_version": "1.5.0",
            "_model_name": "DescriptionStyleModel",
            "_view_count": null,
            "_view_module": "@jupyter-widgets/base",
            "_view_module_version": "1.2.0",
            "_view_name": "StyleView",
            "description_width": ""
          }
        },
        "6ac25ad628fe4080b94085d9cc3fe48e": {
          "model_module": "@jupyter-widgets/base",
          "model_name": "LayoutModel",
          "model_module_version": "1.2.0",
          "state": {
            "_model_module": "@jupyter-widgets/base",
            "_model_module_version": "1.2.0",
            "_model_name": "LayoutModel",
            "_view_count": null,
            "_view_module": "@jupyter-widgets/base",
            "_view_module_version": "1.2.0",
            "_view_name": "LayoutView",
            "align_content": null,
            "align_items": null,
            "align_self": null,
            "border": null,
            "bottom": null,
            "display": null,
            "flex": null,
            "flex_flow": null,
            "grid_area": null,
            "grid_auto_columns": null,
            "grid_auto_flow": null,
            "grid_auto_rows": null,
            "grid_column": null,
            "grid_gap": null,
            "grid_row": null,
            "grid_template_areas": null,
            "grid_template_columns": null,
            "grid_template_rows": null,
            "height": null,
            "justify_content": null,
            "justify_items": null,
            "left": null,
            "margin": null,
            "max_height": null,
            "max_width": null,
            "min_height": null,
            "min_width": null,
            "object_fit": null,
            "object_position": null,
            "order": null,
            "overflow": null,
            "overflow_x": null,
            "overflow_y": null,
            "padding": null,
            "right": null,
            "top": null,
            "visibility": null,
            "width": null
          }
        },
        "8a2b55e4c3934e74a29380b2b91eb551": {
          "model_module": "@jupyter-widgets/controls",
          "model_name": "ProgressStyleModel",
          "model_module_version": "1.5.0",
          "state": {
            "_model_module": "@jupyter-widgets/controls",
            "_model_module_version": "1.5.0",
            "_model_name": "ProgressStyleModel",
            "_view_count": null,
            "_view_module": "@jupyter-widgets/base",
            "_view_module_version": "1.2.0",
            "_view_name": "StyleView",
            "bar_color": null,
            "description_width": ""
          }
        },
        "e2ef6801c7db43a29d6e526afcd9b834": {
          "model_module": "@jupyter-widgets/base",
          "model_name": "LayoutModel",
          "model_module_version": "1.2.0",
          "state": {
            "_model_module": "@jupyter-widgets/base",
            "_model_module_version": "1.2.0",
            "_model_name": "LayoutModel",
            "_view_count": null,
            "_view_module": "@jupyter-widgets/base",
            "_view_module_version": "1.2.0",
            "_view_name": "LayoutView",
            "align_content": null,
            "align_items": null,
            "align_self": null,
            "border": null,
            "bottom": null,
            "display": null,
            "flex": null,
            "flex_flow": null,
            "grid_area": null,
            "grid_auto_columns": null,
            "grid_auto_flow": null,
            "grid_auto_rows": null,
            "grid_column": null,
            "grid_gap": null,
            "grid_row": null,
            "grid_template_areas": null,
            "grid_template_columns": null,
            "grid_template_rows": null,
            "height": null,
            "justify_content": null,
            "justify_items": null,
            "left": null,
            "margin": null,
            "max_height": null,
            "max_width": null,
            "min_height": null,
            "min_width": null,
            "object_fit": null,
            "object_position": null,
            "order": null,
            "overflow": null,
            "overflow_x": null,
            "overflow_y": null,
            "padding": null,
            "right": null,
            "top": null,
            "visibility": null,
            "width": null
          }
        },
        "36a3b32cb98743aeac1b7ec24d4adbfc": {
          "model_module": "@jupyter-widgets/controls",
          "model_name": "DescriptionStyleModel",
          "model_module_version": "1.5.0",
          "state": {
            "_model_module": "@jupyter-widgets/controls",
            "_model_module_version": "1.5.0",
            "_model_name": "DescriptionStyleModel",
            "_view_count": null,
            "_view_module": "@jupyter-widgets/base",
            "_view_module_version": "1.2.0",
            "_view_name": "StyleView",
            "description_width": ""
          }
        },
        "493463d5d8fe413b90f260d8f641bff7": {
          "model_module": "@jupyter-widgets/controls",
          "model_name": "HBoxModel",
          "model_module_version": "1.5.0",
          "state": {
            "_dom_classes": [],
            "_model_module": "@jupyter-widgets/controls",
            "_model_module_version": "1.5.0",
            "_model_name": "HBoxModel",
            "_view_count": null,
            "_view_module": "@jupyter-widgets/controls",
            "_view_module_version": "1.5.0",
            "_view_name": "HBoxView",
            "box_style": "",
            "children": [
              "IPY_MODEL_c344b3fdf3714260a82cb24bed84e33c",
              "IPY_MODEL_bbb78546913e4144b54b9843f078ef08",
              "IPY_MODEL_752cc0bde4064f73acf7a31110a8627e"
            ],
            "layout": "IPY_MODEL_4c7d7d13dfb449808c3b109697c0ca14"
          }
        },
        "c344b3fdf3714260a82cb24bed84e33c": {
          "model_module": "@jupyter-widgets/controls",
          "model_name": "HTMLModel",
          "model_module_version": "1.5.0",
          "state": {
            "_dom_classes": [],
            "_model_module": "@jupyter-widgets/controls",
            "_model_module_version": "1.5.0",
            "_model_name": "HTMLModel",
            "_view_count": null,
            "_view_module": "@jupyter-widgets/controls",
            "_view_module_version": "1.5.0",
            "_view_name": "HTMLView",
            "description": "",
            "description_tooltip": null,
            "layout": "IPY_MODEL_4bda1016bcea4aef872ebf8f75a4dc8b",
            "placeholder": "​",
            "style": "IPY_MODEL_c6d91fffc7384aa68bc8f5ba189624da",
            "value": "Generating train split: 100%"
          }
        },
        "bbb78546913e4144b54b9843f078ef08": {
          "model_module": "@jupyter-widgets/controls",
          "model_name": "FloatProgressModel",
          "model_module_version": "1.5.0",
          "state": {
            "_dom_classes": [],
            "_model_module": "@jupyter-widgets/controls",
            "_model_module_version": "1.5.0",
            "_model_name": "FloatProgressModel",
            "_view_count": null,
            "_view_module": "@jupyter-widgets/controls",
            "_view_module_version": "1.5.0",
            "_view_name": "ProgressView",
            "bar_style": "success",
            "description": "",
            "description_tooltip": null,
            "layout": "IPY_MODEL_beb3eae62eaa4b61b1f1288bab6174fd",
            "max": 1884,
            "min": 0,
            "orientation": "horizontal",
            "style": "IPY_MODEL_578f098b2a7e435ea1c5e6100cce45ea",
            "value": 1884
          }
        },
        "752cc0bde4064f73acf7a31110a8627e": {
          "model_module": "@jupyter-widgets/controls",
          "model_name": "HTMLModel",
          "model_module_version": "1.5.0",
          "state": {
            "_dom_classes": [],
            "_model_module": "@jupyter-widgets/controls",
            "_model_module_version": "1.5.0",
            "_model_name": "HTMLModel",
            "_view_count": null,
            "_view_module": "@jupyter-widgets/controls",
            "_view_module_version": "1.5.0",
            "_view_name": "HTMLView",
            "description": "",
            "description_tooltip": null,
            "layout": "IPY_MODEL_b5d4355d101246e98ea9a9a935574b86",
            "placeholder": "​",
            "style": "IPY_MODEL_2803dd88da424bf8a97f8ce98cf2740e",
            "value": " 1884/1884 [00:00&lt;00:00, 1327.48 examples/s]"
          }
        },
        "4c7d7d13dfb449808c3b109697c0ca14": {
          "model_module": "@jupyter-widgets/base",
          "model_name": "LayoutModel",
          "model_module_version": "1.2.0",
          "state": {
            "_model_module": "@jupyter-widgets/base",
            "_model_module_version": "1.2.0",
            "_model_name": "LayoutModel",
            "_view_count": null,
            "_view_module": "@jupyter-widgets/base",
            "_view_module_version": "1.2.0",
            "_view_name": "LayoutView",
            "align_content": null,
            "align_items": null,
            "align_self": null,
            "border": null,
            "bottom": null,
            "display": null,
            "flex": null,
            "flex_flow": null,
            "grid_area": null,
            "grid_auto_columns": null,
            "grid_auto_flow": null,
            "grid_auto_rows": null,
            "grid_column": null,
            "grid_gap": null,
            "grid_row": null,
            "grid_template_areas": null,
            "grid_template_columns": null,
            "grid_template_rows": null,
            "height": null,
            "justify_content": null,
            "justify_items": null,
            "left": null,
            "margin": null,
            "max_height": null,
            "max_width": null,
            "min_height": null,
            "min_width": null,
            "object_fit": null,
            "object_position": null,
            "order": null,
            "overflow": null,
            "overflow_x": null,
            "overflow_y": null,
            "padding": null,
            "right": null,
            "top": null,
            "visibility": null,
            "width": null
          }
        },
        "4bda1016bcea4aef872ebf8f75a4dc8b": {
          "model_module": "@jupyter-widgets/base",
          "model_name": "LayoutModel",
          "model_module_version": "1.2.0",
          "state": {
            "_model_module": "@jupyter-widgets/base",
            "_model_module_version": "1.2.0",
            "_model_name": "LayoutModel",
            "_view_count": null,
            "_view_module": "@jupyter-widgets/base",
            "_view_module_version": "1.2.0",
            "_view_name": "LayoutView",
            "align_content": null,
            "align_items": null,
            "align_self": null,
            "border": null,
            "bottom": null,
            "display": null,
            "flex": null,
            "flex_flow": null,
            "grid_area": null,
            "grid_auto_columns": null,
            "grid_auto_flow": null,
            "grid_auto_rows": null,
            "grid_column": null,
            "grid_gap": null,
            "grid_row": null,
            "grid_template_areas": null,
            "grid_template_columns": null,
            "grid_template_rows": null,
            "height": null,
            "justify_content": null,
            "justify_items": null,
            "left": null,
            "margin": null,
            "max_height": null,
            "max_width": null,
            "min_height": null,
            "min_width": null,
            "object_fit": null,
            "object_position": null,
            "order": null,
            "overflow": null,
            "overflow_x": null,
            "overflow_y": null,
            "padding": null,
            "right": null,
            "top": null,
            "visibility": null,
            "width": null
          }
        },
        "c6d91fffc7384aa68bc8f5ba189624da": {
          "model_module": "@jupyter-widgets/controls",
          "model_name": "DescriptionStyleModel",
          "model_module_version": "1.5.0",
          "state": {
            "_model_module": "@jupyter-widgets/controls",
            "_model_module_version": "1.5.0",
            "_model_name": "DescriptionStyleModel",
            "_view_count": null,
            "_view_module": "@jupyter-widgets/base",
            "_view_module_version": "1.2.0",
            "_view_name": "StyleView",
            "description_width": ""
          }
        },
        "beb3eae62eaa4b61b1f1288bab6174fd": {
          "model_module": "@jupyter-widgets/base",
          "model_name": "LayoutModel",
          "model_module_version": "1.2.0",
          "state": {
            "_model_module": "@jupyter-widgets/base",
            "_model_module_version": "1.2.0",
            "_model_name": "LayoutModel",
            "_view_count": null,
            "_view_module": "@jupyter-widgets/base",
            "_view_module_version": "1.2.0",
            "_view_name": "LayoutView",
            "align_content": null,
            "align_items": null,
            "align_self": null,
            "border": null,
            "bottom": null,
            "display": null,
            "flex": null,
            "flex_flow": null,
            "grid_area": null,
            "grid_auto_columns": null,
            "grid_auto_flow": null,
            "grid_auto_rows": null,
            "grid_column": null,
            "grid_gap": null,
            "grid_row": null,
            "grid_template_areas": null,
            "grid_template_columns": null,
            "grid_template_rows": null,
            "height": null,
            "justify_content": null,
            "justify_items": null,
            "left": null,
            "margin": null,
            "max_height": null,
            "max_width": null,
            "min_height": null,
            "min_width": null,
            "object_fit": null,
            "object_position": null,
            "order": null,
            "overflow": null,
            "overflow_x": null,
            "overflow_y": null,
            "padding": null,
            "right": null,
            "top": null,
            "visibility": null,
            "width": null
          }
        },
        "578f098b2a7e435ea1c5e6100cce45ea": {
          "model_module": "@jupyter-widgets/controls",
          "model_name": "ProgressStyleModel",
          "model_module_version": "1.5.0",
          "state": {
            "_model_module": "@jupyter-widgets/controls",
            "_model_module_version": "1.5.0",
            "_model_name": "ProgressStyleModel",
            "_view_count": null,
            "_view_module": "@jupyter-widgets/base",
            "_view_module_version": "1.2.0",
            "_view_name": "StyleView",
            "bar_color": null,
            "description_width": ""
          }
        },
        "b5d4355d101246e98ea9a9a935574b86": {
          "model_module": "@jupyter-widgets/base",
          "model_name": "LayoutModel",
          "model_module_version": "1.2.0",
          "state": {
            "_model_module": "@jupyter-widgets/base",
            "_model_module_version": "1.2.0",
            "_model_name": "LayoutModel",
            "_view_count": null,
            "_view_module": "@jupyter-widgets/base",
            "_view_module_version": "1.2.0",
            "_view_name": "LayoutView",
            "align_content": null,
            "align_items": null,
            "align_self": null,
            "border": null,
            "bottom": null,
            "display": null,
            "flex": null,
            "flex_flow": null,
            "grid_area": null,
            "grid_auto_columns": null,
            "grid_auto_flow": null,
            "grid_auto_rows": null,
            "grid_column": null,
            "grid_gap": null,
            "grid_row": null,
            "grid_template_areas": null,
            "grid_template_columns": null,
            "grid_template_rows": null,
            "height": null,
            "justify_content": null,
            "justify_items": null,
            "left": null,
            "margin": null,
            "max_height": null,
            "max_width": null,
            "min_height": null,
            "min_width": null,
            "object_fit": null,
            "object_position": null,
            "order": null,
            "overflow": null,
            "overflow_x": null,
            "overflow_y": null,
            "padding": null,
            "right": null,
            "top": null,
            "visibility": null,
            "width": null
          }
        },
        "2803dd88da424bf8a97f8ce98cf2740e": {
          "model_module": "@jupyter-widgets/controls",
          "model_name": "DescriptionStyleModel",
          "model_module_version": "1.5.0",
          "state": {
            "_model_module": "@jupyter-widgets/controls",
            "_model_module_version": "1.5.0",
            "_model_name": "DescriptionStyleModel",
            "_view_count": null,
            "_view_module": "@jupyter-widgets/base",
            "_view_module_version": "1.2.0",
            "_view_name": "StyleView",
            "description_width": ""
          }
        }
      }
    }
  },
  "cells": [
    {
      "cell_type": "code",
      "source": [
        "pip install datasets"
      ],
      "metadata": {
        "colab": {
          "base_uri": "https://localhost:8080/"
        },
        "id": "EwVmarOSpmEH",
        "outputId": "e6dcd806-a03b-4e1b-f0ba-639bd7705781"
      },
      "execution_count": null,
      "outputs": [
        {
          "output_type": "stream",
          "name": "stdout",
          "text": [
            "Collecting datasets\n",
            "  Downloading datasets-3.4.1-py3-none-any.whl.metadata (19 kB)\n",
            "Requirement already satisfied: filelock in /usr/local/lib/python3.11/dist-packages (from datasets) (3.18.0)\n",
            "Requirement already satisfied: numpy>=1.17 in /usr/local/lib/python3.11/dist-packages (from datasets) (2.0.2)\n",
            "Requirement already satisfied: pyarrow>=15.0.0 in /usr/local/lib/python3.11/dist-packages (from datasets) (18.1.0)\n",
            "Collecting dill<0.3.9,>=0.3.0 (from datasets)\n",
            "  Downloading dill-0.3.8-py3-none-any.whl.metadata (10 kB)\n",
            "Requirement already satisfied: pandas in /usr/local/lib/python3.11/dist-packages (from datasets) (2.2.2)\n",
            "Requirement already satisfied: requests>=2.32.2 in /usr/local/lib/python3.11/dist-packages (from datasets) (2.32.3)\n",
            "Requirement already satisfied: tqdm>=4.66.3 in /usr/local/lib/python3.11/dist-packages (from datasets) (4.67.1)\n",
            "Collecting xxhash (from datasets)\n",
            "  Downloading xxhash-3.5.0-cp311-cp311-manylinux_2_17_x86_64.manylinux2014_x86_64.whl.metadata (12 kB)\n",
            "Collecting multiprocess<0.70.17 (from datasets)\n",
            "  Downloading multiprocess-0.70.16-py311-none-any.whl.metadata (7.2 kB)\n",
            "Collecting fsspec<=2024.12.0,>=2023.1.0 (from fsspec[http]<=2024.12.0,>=2023.1.0->datasets)\n",
            "  Downloading fsspec-2024.12.0-py3-none-any.whl.metadata (11 kB)\n",
            "Requirement already satisfied: aiohttp in /usr/local/lib/python3.11/dist-packages (from datasets) (3.11.14)\n",
            "Requirement already satisfied: huggingface-hub>=0.24.0 in /usr/local/lib/python3.11/dist-packages (from datasets) (0.29.3)\n",
            "Requirement already satisfied: packaging in /usr/local/lib/python3.11/dist-packages (from datasets) (24.2)\n",
            "Requirement already satisfied: pyyaml>=5.1 in /usr/local/lib/python3.11/dist-packages (from datasets) (6.0.2)\n",
            "Requirement already satisfied: aiohappyeyeballs>=2.3.0 in /usr/local/lib/python3.11/dist-packages (from aiohttp->datasets) (2.6.1)\n",
            "Requirement already satisfied: aiosignal>=1.1.2 in /usr/local/lib/python3.11/dist-packages (from aiohttp->datasets) (1.3.2)\n",
            "Requirement already satisfied: attrs>=17.3.0 in /usr/local/lib/python3.11/dist-packages (from aiohttp->datasets) (25.3.0)\n",
            "Requirement already satisfied: frozenlist>=1.1.1 in /usr/local/lib/python3.11/dist-packages (from aiohttp->datasets) (1.5.0)\n",
            "Requirement already satisfied: multidict<7.0,>=4.5 in /usr/local/lib/python3.11/dist-packages (from aiohttp->datasets) (6.2.0)\n",
            "Requirement already satisfied: propcache>=0.2.0 in /usr/local/lib/python3.11/dist-packages (from aiohttp->datasets) (0.3.0)\n",
            "Requirement already satisfied: yarl<2.0,>=1.17.0 in /usr/local/lib/python3.11/dist-packages (from aiohttp->datasets) (1.18.3)\n",
            "Requirement already satisfied: typing-extensions>=3.7.4.3 in /usr/local/lib/python3.11/dist-packages (from huggingface-hub>=0.24.0->datasets) (4.12.2)\n",
            "Requirement already satisfied: charset-normalizer<4,>=2 in /usr/local/lib/python3.11/dist-packages (from requests>=2.32.2->datasets) (3.4.1)\n",
            "Requirement already satisfied: idna<4,>=2.5 in /usr/local/lib/python3.11/dist-packages (from requests>=2.32.2->datasets) (3.10)\n",
            "Requirement already satisfied: urllib3<3,>=1.21.1 in /usr/local/lib/python3.11/dist-packages (from requests>=2.32.2->datasets) (2.3.0)\n",
            "Requirement already satisfied: certifi>=2017.4.17 in /usr/local/lib/python3.11/dist-packages (from requests>=2.32.2->datasets) (2025.1.31)\n",
            "Requirement already satisfied: python-dateutil>=2.8.2 in /usr/local/lib/python3.11/dist-packages (from pandas->datasets) (2.8.2)\n",
            "Requirement already satisfied: pytz>=2020.1 in /usr/local/lib/python3.11/dist-packages (from pandas->datasets) (2025.1)\n",
            "Requirement already satisfied: tzdata>=2022.7 in /usr/local/lib/python3.11/dist-packages (from pandas->datasets) (2025.1)\n",
            "Requirement already satisfied: six>=1.5 in /usr/local/lib/python3.11/dist-packages (from python-dateutil>=2.8.2->pandas->datasets) (1.17.0)\n",
            "Downloading datasets-3.4.1-py3-none-any.whl (487 kB)\n",
            "\u001b[2K   \u001b[90m━━━━━━━━━━━━━━━━━━━━━━━━━━━━━━━━━━━━━━━━\u001b[0m \u001b[32m487.4/487.4 kB\u001b[0m \u001b[31m10.2 MB/s\u001b[0m eta \u001b[36m0:00:00\u001b[0m\n",
            "\u001b[?25hDownloading dill-0.3.8-py3-none-any.whl (116 kB)\n",
            "\u001b[2K   \u001b[90m━━━━━━━━━━━━━━━━━━━━━━━━━━━━━━━━━━━━━━━━\u001b[0m \u001b[32m116.3/116.3 kB\u001b[0m \u001b[31m5.8 MB/s\u001b[0m eta \u001b[36m0:00:00\u001b[0m\n",
            "\u001b[?25hDownloading fsspec-2024.12.0-py3-none-any.whl (183 kB)\n",
            "\u001b[2K   \u001b[90m━━━━━━━━━━━━━━━━━━━━━━━━━━━━━━━━━━━━━━━━\u001b[0m \u001b[32m183.9/183.9 kB\u001b[0m \u001b[31m4.0 MB/s\u001b[0m eta \u001b[36m0:00:00\u001b[0m\n",
            "\u001b[?25hDownloading multiprocess-0.70.16-py311-none-any.whl (143 kB)\n",
            "\u001b[2K   \u001b[90m━━━━━━━━━━━━━━━━━━━━━━━━━━━━━━━━━━━━━━━━\u001b[0m \u001b[32m143.5/143.5 kB\u001b[0m \u001b[31m9.6 MB/s\u001b[0m eta \u001b[36m0:00:00\u001b[0m\n",
            "\u001b[?25hDownloading xxhash-3.5.0-cp311-cp311-manylinux_2_17_x86_64.manylinux2014_x86_64.whl (194 kB)\n",
            "\u001b[2K   \u001b[90m━━━━━━━━━━━━━━━━━━━━━━━━━━━━━━━━━━━━━━━━\u001b[0m \u001b[32m194.8/194.8 kB\u001b[0m \u001b[31m5.7 MB/s\u001b[0m eta \u001b[36m0:00:00\u001b[0m\n",
            "\u001b[?25hInstalling collected packages: xxhash, fsspec, dill, multiprocess, datasets\n",
            "  Attempting uninstall: fsspec\n",
            "    Found existing installation: fsspec 2025.3.0\n",
            "    Uninstalling fsspec-2025.3.0:\n",
            "      Successfully uninstalled fsspec-2025.3.0\n",
            "\u001b[31mERROR: pip's dependency resolver does not currently take into account all the packages that are installed. This behaviour is the source of the following dependency conflicts.\n",
            "gcsfs 2025.3.0 requires fsspec==2025.3.0, but you have fsspec 2024.12.0 which is incompatible.\n",
            "torch 2.6.0+cu124 requires nvidia-cublas-cu12==12.4.5.8; platform_system == \"Linux\" and platform_machine == \"x86_64\", but you have nvidia-cublas-cu12 12.5.3.2 which is incompatible.\n",
            "torch 2.6.0+cu124 requires nvidia-cuda-cupti-cu12==12.4.127; platform_system == \"Linux\" and platform_machine == \"x86_64\", but you have nvidia-cuda-cupti-cu12 12.5.82 which is incompatible.\n",
            "torch 2.6.0+cu124 requires nvidia-cuda-nvrtc-cu12==12.4.127; platform_system == \"Linux\" and platform_machine == \"x86_64\", but you have nvidia-cuda-nvrtc-cu12 12.5.82 which is incompatible.\n",
            "torch 2.6.0+cu124 requires nvidia-cuda-runtime-cu12==12.4.127; platform_system == \"Linux\" and platform_machine == \"x86_64\", but you have nvidia-cuda-runtime-cu12 12.5.82 which is incompatible.\n",
            "torch 2.6.0+cu124 requires nvidia-cudnn-cu12==9.1.0.70; platform_system == \"Linux\" and platform_machine == \"x86_64\", but you have nvidia-cudnn-cu12 9.3.0.75 which is incompatible.\n",
            "torch 2.6.0+cu124 requires nvidia-cufft-cu12==11.2.1.3; platform_system == \"Linux\" and platform_machine == \"x86_64\", but you have nvidia-cufft-cu12 11.2.3.61 which is incompatible.\n",
            "torch 2.6.0+cu124 requires nvidia-curand-cu12==10.3.5.147; platform_system == \"Linux\" and platform_machine == \"x86_64\", but you have nvidia-curand-cu12 10.3.6.82 which is incompatible.\n",
            "torch 2.6.0+cu124 requires nvidia-cusolver-cu12==11.6.1.9; platform_system == \"Linux\" and platform_machine == \"x86_64\", but you have nvidia-cusolver-cu12 11.6.3.83 which is incompatible.\n",
            "torch 2.6.0+cu124 requires nvidia-cusparse-cu12==12.3.1.170; platform_system == \"Linux\" and platform_machine == \"x86_64\", but you have nvidia-cusparse-cu12 12.5.1.3 which is incompatible.\n",
            "torch 2.6.0+cu124 requires nvidia-nvjitlink-cu12==12.4.127; platform_system == \"Linux\" and platform_machine == \"x86_64\", but you have nvidia-nvjitlink-cu12 12.5.82 which is incompatible.\u001b[0m\u001b[31m\n",
            "\u001b[0mSuccessfully installed datasets-3.4.1 dill-0.3.8 fsspec-2024.12.0 multiprocess-0.70.16 xxhash-3.5.0\n"
          ]
        }
      ]
    },
    {
      "cell_type": "code",
      "execution_count": null,
      "metadata": {
        "id": "-krXdpbapg5d"
      },
      "outputs": [],
      "source": [
        "import numpy as np\n",
        "import matplotlib.pyplot as plt\n",
        "from datasets import load_dataset"
      ]
    },
    {
      "cell_type": "code",
      "source": [
        "dataset = load_dataset(\"iamjoon/klue-mrc-ko-rag-dataset\")"
      ],
      "metadata": {
        "id": "A88ZgTbCDGR3",
        "colab": {
          "base_uri": "https://localhost:8080/",
          "height": 240,
          "referenced_widgets": [
            "5d175fa8f57140bdb94ea0c27986ba56",
            "51321c5d15ba468d9b4cec0737c10117",
            "95b1645f930f4e53bc2dfaf050e2eaee",
            "d2b7b262cc524f11ab632e33badc3c73",
            "01dc3dd1208f4f05ad36db82bd3ab9e0",
            "a5cf67beb5bc44a08aaf698cf180d591",
            "f6c367f0bbd347fa8e5e0b5011b0c26d",
            "c710065acfa7426fbc174608a72c0037",
            "aed43dbbe861453e8982cda3d84b4a75",
            "0e0a32d288094e5ca06fc44a98177ff9",
            "6013c621198d43e781f6cf1193c8614d",
            "79f9759da7f94ccfa3ecd9dcd3cb7ec2",
            "95b4847c16904f4a8bd7fd3d30ff7849",
            "72c5f6b85e7e4003a9d6058ed907de60",
            "df12f8dfb6724fb8bb1c4eda5fe3702e",
            "1d632adbd29d44c5b338c65d54a948bb",
            "5c26cf8ff9b44e44aa44af0cb536ed53",
            "0f5a295e1d9e41e0a67faaa5e8498758",
            "6ac25ad628fe4080b94085d9cc3fe48e",
            "8a2b55e4c3934e74a29380b2b91eb551",
            "e2ef6801c7db43a29d6e526afcd9b834",
            "36a3b32cb98743aeac1b7ec24d4adbfc",
            "493463d5d8fe413b90f260d8f641bff7",
            "c344b3fdf3714260a82cb24bed84e33c",
            "bbb78546913e4144b54b9843f078ef08",
            "752cc0bde4064f73acf7a31110a8627e",
            "4c7d7d13dfb449808c3b109697c0ca14",
            "4bda1016bcea4aef872ebf8f75a4dc8b",
            "c6d91fffc7384aa68bc8f5ba189624da",
            "beb3eae62eaa4b61b1f1288bab6174fd",
            "578f098b2a7e435ea1c5e6100cce45ea",
            "b5d4355d101246e98ea9a9a935574b86",
            "2803dd88da424bf8a97f8ce98cf2740e"
          ]
        },
        "outputId": "13da2aea-b9cb-488b-87f3-e68bc3cf6cad"
      },
      "execution_count": null,
      "outputs": [
        {
          "output_type": "stream",
          "name": "stderr",
          "text": [
            "/usr/local/lib/python3.11/dist-packages/huggingface_hub/utils/_auth.py:94: UserWarning: \n",
            "The secret `HF_TOKEN` does not exist in your Colab secrets.\n",
            "To authenticate with the Hugging Face Hub, create a token in your settings tab (https://huggingface.co/settings/tokens), set it as secret in your Google Colab and restart your session.\n",
            "You will be able to reuse this secret in all of your notebooks.\n",
            "Please note that authentication is recommended but still optional to access public models or datasets.\n",
            "  warnings.warn(\n"
          ]
        },
        {
          "output_type": "display_data",
          "data": {
            "text/plain": [
              "README.md:   0%|          | 0.00/909 [00:00<?, ?B/s]"
            ],
            "application/vnd.jupyter.widget-view+json": {
              "version_major": 2,
              "version_minor": 0,
              "model_id": "5d175fa8f57140bdb94ea0c27986ba56"
            }
          },
          "metadata": {}
        },
        {
          "output_type": "display_data",
          "data": {
            "text/plain": [
              "train-00000-of-00001.parquet:   0%|          | 0.00/13.0M [00:00<?, ?B/s]"
            ],
            "application/vnd.jupyter.widget-view+json": {
              "version_major": 2,
              "version_minor": 0,
              "model_id": "79f9759da7f94ccfa3ecd9dcd3cb7ec2"
            }
          },
          "metadata": {}
        },
        {
          "output_type": "display_data",
          "data": {
            "text/plain": [
              "Generating train split:   0%|          | 0/1884 [00:00<?, ? examples/s]"
            ],
            "application/vnd.jupyter.widget-view+json": {
              "version_major": 2,
              "version_minor": 0,
              "model_id": "493463d5d8fe413b90f260d8f641bff7"
            }
          },
          "metadata": {}
        }
      ]
    },
    {
      "cell_type": "code",
      "source": [
        "df = dataset['train'].to_pandas()\n",
        "df = df[['question', 'search_result', 'answer', 'extracted_ref_numbers', 'type']]\n",
        "df.head()"
      ],
      "metadata": {
        "colab": {
          "base_uri": "https://localhost:8080/",
          "height": 380
        },
        "id": "ovXecb0Gp0Bp",
        "outputId": "613bd673-6a33-485b-8f77-292f2e611857"
      },
      "execution_count": null,
      "outputs": [
        {
          "output_type": "execute_result",
          "data": {
            "text/plain": [
              "                              question  \\\n",
              "0  북태평양 기단과 오호츠크해 기단이 만나 국내에 머무르는 기간은?   \n",
              "1          지능형 생산자동화 기반기술을 개발중인 스타트업은?   \n",
              "2          개막전에서 3안타 2실점을 기록해서 패한 선수는?   \n",
              "3              컵라면 매출에서 불닭볶음면을 이긴 상품은?   \n",
              "4     정부에게 환경과 관련해서 우선적으로 원조 받고 있는 곳은?   \n",
              "\n",
              "                                       search_result  \\\n",
              "0  [열대우림 '장마전선'은 벵골만과 서북태평양에서 동아시아 몬순의 하위시스템으로 조성...   \n",
              "1  [부산시와 (재)부산정보산업진흥원(원장 이인숙)이 ‘2020~2021년 지역SW서비...   \n",
              "2  [;한큐 - 사카모토 도시조\\n* 타석에서의 상황 : 헛스윙, 볼, 헛스윙, 파울,...   \n",
              "3  [유명 맛집 이름을 달고 나온 편의점 자체상표(PB) 라면이 인기를 끌고 있다. ‘...   \n",
              "4  [정부가 전기자동차를 보급하는 방식을 바꾼다. 주로 일반 소비자와 관공서에 판매하던...   \n",
              "\n",
              "                                              answer extracted_ref_numbers  \\\n",
              "0  북태평양 기단과 오호츠크해 기단이 만나 형성되는 장마전선은 한반도에 약 한 달가량 ...                   [2]   \n",
              "1  지능형 생산자동화 기반기술을 개발 중인 스타트업으로는 삼보테크놀로지가 있습니다. 삼...                   [1]   \n",
              "2  개막전에서 3안타 2실점을 기록해서 패한 선수는 사이타마 세이부 라이온스의 와쿠이 ...                   [2]   \n",
              "3  세븐일레븐에서 판매하는 '교동반점 짬뽕'이 삼양식품의 '불닭볶음면'을 제치고 컵라면...                   [1]   \n",
              "4  정부가 환경과 관련하여 우선적으로 원조를 받고 있는 곳은 주로 전기자동차 보급과 관...                   [1]   \n",
              "\n",
              "           type  \n",
              "0  mrc_question  \n",
              "1  mrc_question  \n",
              "2  mrc_question  \n",
              "3  mrc_question  \n",
              "4  mrc_question  "
            ],
            "text/html": [
              "\n",
              "  <div id=\"df-510ac346-c273-4640-8207-c74bff09fbb0\" class=\"colab-df-container\">\n",
              "    <div>\n",
              "<style scoped>\n",
              "    .dataframe tbody tr th:only-of-type {\n",
              "        vertical-align: middle;\n",
              "    }\n",
              "\n",
              "    .dataframe tbody tr th {\n",
              "        vertical-align: top;\n",
              "    }\n",
              "\n",
              "    .dataframe thead th {\n",
              "        text-align: right;\n",
              "    }\n",
              "</style>\n",
              "<table border=\"1\" class=\"dataframe\">\n",
              "  <thead>\n",
              "    <tr style=\"text-align: right;\">\n",
              "      <th></th>\n",
              "      <th>question</th>\n",
              "      <th>search_result</th>\n",
              "      <th>answer</th>\n",
              "      <th>extracted_ref_numbers</th>\n",
              "      <th>type</th>\n",
              "    </tr>\n",
              "  </thead>\n",
              "  <tbody>\n",
              "    <tr>\n",
              "      <th>0</th>\n",
              "      <td>북태평양 기단과 오호츠크해 기단이 만나 국내에 머무르는 기간은?</td>\n",
              "      <td>[열대우림 '장마전선'은 벵골만과 서북태평양에서 동아시아 몬순의 하위시스템으로 조성...</td>\n",
              "      <td>북태평양 기단과 오호츠크해 기단이 만나 형성되는 장마전선은 한반도에 약 한 달가량 ...</td>\n",
              "      <td>[2]</td>\n",
              "      <td>mrc_question</td>\n",
              "    </tr>\n",
              "    <tr>\n",
              "      <th>1</th>\n",
              "      <td>지능형 생산자동화 기반기술을 개발중인 스타트업은?</td>\n",
              "      <td>[부산시와 (재)부산정보산업진흥원(원장 이인숙)이 ‘2020~2021년 지역SW서비...</td>\n",
              "      <td>지능형 생산자동화 기반기술을 개발 중인 스타트업으로는 삼보테크놀로지가 있습니다. 삼...</td>\n",
              "      <td>[1]</td>\n",
              "      <td>mrc_question</td>\n",
              "    </tr>\n",
              "    <tr>\n",
              "      <th>2</th>\n",
              "      <td>개막전에서 3안타 2실점을 기록해서 패한 선수는?</td>\n",
              "      <td>[;한큐 - 사카모토 도시조\\n* 타석에서의 상황 : 헛스윙, 볼, 헛스윙, 파울,...</td>\n",
              "      <td>개막전에서 3안타 2실점을 기록해서 패한 선수는 사이타마 세이부 라이온스의 와쿠이 ...</td>\n",
              "      <td>[2]</td>\n",
              "      <td>mrc_question</td>\n",
              "    </tr>\n",
              "    <tr>\n",
              "      <th>3</th>\n",
              "      <td>컵라면 매출에서 불닭볶음면을 이긴 상품은?</td>\n",
              "      <td>[유명 맛집 이름을 달고 나온 편의점 자체상표(PB) 라면이 인기를 끌고 있다. ‘...</td>\n",
              "      <td>세븐일레븐에서 판매하는 '교동반점 짬뽕'이 삼양식품의 '불닭볶음면'을 제치고 컵라면...</td>\n",
              "      <td>[1]</td>\n",
              "      <td>mrc_question</td>\n",
              "    </tr>\n",
              "    <tr>\n",
              "      <th>4</th>\n",
              "      <td>정부에게 환경과 관련해서 우선적으로 원조 받고 있는 곳은?</td>\n",
              "      <td>[정부가 전기자동차를 보급하는 방식을 바꾼다. 주로 일반 소비자와 관공서에 판매하던...</td>\n",
              "      <td>정부가 환경과 관련하여 우선적으로 원조를 받고 있는 곳은 주로 전기자동차 보급과 관...</td>\n",
              "      <td>[1]</td>\n",
              "      <td>mrc_question</td>\n",
              "    </tr>\n",
              "  </tbody>\n",
              "</table>\n",
              "</div>\n",
              "    <div class=\"colab-df-buttons\">\n",
              "\n",
              "  <div class=\"colab-df-container\">\n",
              "    <button class=\"colab-df-convert\" onclick=\"convertToInteractive('df-510ac346-c273-4640-8207-c74bff09fbb0')\"\n",
              "            title=\"Convert this dataframe to an interactive table.\"\n",
              "            style=\"display:none;\">\n",
              "\n",
              "  <svg xmlns=\"http://www.w3.org/2000/svg\" height=\"24px\" viewBox=\"0 -960 960 960\">\n",
              "    <path d=\"M120-120v-720h720v720H120Zm60-500h600v-160H180v160Zm220 220h160v-160H400v160Zm0 220h160v-160H400v160ZM180-400h160v-160H180v160Zm440 0h160v-160H620v160ZM180-180h160v-160H180v160Zm440 0h160v-160H620v160Z\"/>\n",
              "  </svg>\n",
              "    </button>\n",
              "\n",
              "  <style>\n",
              "    .colab-df-container {\n",
              "      display:flex;\n",
              "      gap: 12px;\n",
              "    }\n",
              "\n",
              "    .colab-df-convert {\n",
              "      background-color: #E8F0FE;\n",
              "      border: none;\n",
              "      border-radius: 50%;\n",
              "      cursor: pointer;\n",
              "      display: none;\n",
              "      fill: #1967D2;\n",
              "      height: 32px;\n",
              "      padding: 0 0 0 0;\n",
              "      width: 32px;\n",
              "    }\n",
              "\n",
              "    .colab-df-convert:hover {\n",
              "      background-color: #E2EBFA;\n",
              "      box-shadow: 0px 1px 2px rgba(60, 64, 67, 0.3), 0px 1px 3px 1px rgba(60, 64, 67, 0.15);\n",
              "      fill: #174EA6;\n",
              "    }\n",
              "\n",
              "    .colab-df-buttons div {\n",
              "      margin-bottom: 4px;\n",
              "    }\n",
              "\n",
              "    [theme=dark] .colab-df-convert {\n",
              "      background-color: #3B4455;\n",
              "      fill: #D2E3FC;\n",
              "    }\n",
              "\n",
              "    [theme=dark] .colab-df-convert:hover {\n",
              "      background-color: #434B5C;\n",
              "      box-shadow: 0px 1px 3px 1px rgba(0, 0, 0, 0.15);\n",
              "      filter: drop-shadow(0px 1px 2px rgba(0, 0, 0, 0.3));\n",
              "      fill: #FFFFFF;\n",
              "    }\n",
              "  </style>\n",
              "\n",
              "    <script>\n",
              "      const buttonEl =\n",
              "        document.querySelector('#df-510ac346-c273-4640-8207-c74bff09fbb0 button.colab-df-convert');\n",
              "      buttonEl.style.display =\n",
              "        google.colab.kernel.accessAllowed ? 'block' : 'none';\n",
              "\n",
              "      async function convertToInteractive(key) {\n",
              "        const element = document.querySelector('#df-510ac346-c273-4640-8207-c74bff09fbb0');\n",
              "        const dataTable =\n",
              "          await google.colab.kernel.invokeFunction('convertToInteractive',\n",
              "                                                    [key], {});\n",
              "        if (!dataTable) return;\n",
              "\n",
              "        const docLinkHtml = 'Like what you see? Visit the ' +\n",
              "          '<a target=\"_blank\" href=https://colab.research.google.com/notebooks/data_table.ipynb>data table notebook</a>'\n",
              "          + ' to learn more about interactive tables.';\n",
              "        element.innerHTML = '';\n",
              "        dataTable['output_type'] = 'display_data';\n",
              "        await google.colab.output.renderOutput(dataTable, element);\n",
              "        const docLink = document.createElement('div');\n",
              "        docLink.innerHTML = docLinkHtml;\n",
              "        element.appendChild(docLink);\n",
              "      }\n",
              "    </script>\n",
              "  </div>\n",
              "\n",
              "\n",
              "<div id=\"df-d22f4958-d1b9-4025-af04-6dbcdf1d3fbd\">\n",
              "  <button class=\"colab-df-quickchart\" onclick=\"quickchart('df-d22f4958-d1b9-4025-af04-6dbcdf1d3fbd')\"\n",
              "            title=\"Suggest charts\"\n",
              "            style=\"display:none;\">\n",
              "\n",
              "<svg xmlns=\"http://www.w3.org/2000/svg\" height=\"24px\"viewBox=\"0 0 24 24\"\n",
              "     width=\"24px\">\n",
              "    <g>\n",
              "        <path d=\"M19 3H5c-1.1 0-2 .9-2 2v14c0 1.1.9 2 2 2h14c1.1 0 2-.9 2-2V5c0-1.1-.9-2-2-2zM9 17H7v-7h2v7zm4 0h-2V7h2v10zm4 0h-2v-4h2v4z\"/>\n",
              "    </g>\n",
              "</svg>\n",
              "  </button>\n",
              "\n",
              "<style>\n",
              "  .colab-df-quickchart {\n",
              "      --bg-color: #E8F0FE;\n",
              "      --fill-color: #1967D2;\n",
              "      --hover-bg-color: #E2EBFA;\n",
              "      --hover-fill-color: #174EA6;\n",
              "      --disabled-fill-color: #AAA;\n",
              "      --disabled-bg-color: #DDD;\n",
              "  }\n",
              "\n",
              "  [theme=dark] .colab-df-quickchart {\n",
              "      --bg-color: #3B4455;\n",
              "      --fill-color: #D2E3FC;\n",
              "      --hover-bg-color: #434B5C;\n",
              "      --hover-fill-color: #FFFFFF;\n",
              "      --disabled-bg-color: #3B4455;\n",
              "      --disabled-fill-color: #666;\n",
              "  }\n",
              "\n",
              "  .colab-df-quickchart {\n",
              "    background-color: var(--bg-color);\n",
              "    border: none;\n",
              "    border-radius: 50%;\n",
              "    cursor: pointer;\n",
              "    display: none;\n",
              "    fill: var(--fill-color);\n",
              "    height: 32px;\n",
              "    padding: 0;\n",
              "    width: 32px;\n",
              "  }\n",
              "\n",
              "  .colab-df-quickchart:hover {\n",
              "    background-color: var(--hover-bg-color);\n",
              "    box-shadow: 0 1px 2px rgba(60, 64, 67, 0.3), 0 1px 3px 1px rgba(60, 64, 67, 0.15);\n",
              "    fill: var(--button-hover-fill-color);\n",
              "  }\n",
              "\n",
              "  .colab-df-quickchart-complete:disabled,\n",
              "  .colab-df-quickchart-complete:disabled:hover {\n",
              "    background-color: var(--disabled-bg-color);\n",
              "    fill: var(--disabled-fill-color);\n",
              "    box-shadow: none;\n",
              "  }\n",
              "\n",
              "  .colab-df-spinner {\n",
              "    border: 2px solid var(--fill-color);\n",
              "    border-color: transparent;\n",
              "    border-bottom-color: var(--fill-color);\n",
              "    animation:\n",
              "      spin 1s steps(1) infinite;\n",
              "  }\n",
              "\n",
              "  @keyframes spin {\n",
              "    0% {\n",
              "      border-color: transparent;\n",
              "      border-bottom-color: var(--fill-color);\n",
              "      border-left-color: var(--fill-color);\n",
              "    }\n",
              "    20% {\n",
              "      border-color: transparent;\n",
              "      border-left-color: var(--fill-color);\n",
              "      border-top-color: var(--fill-color);\n",
              "    }\n",
              "    30% {\n",
              "      border-color: transparent;\n",
              "      border-left-color: var(--fill-color);\n",
              "      border-top-color: var(--fill-color);\n",
              "      border-right-color: var(--fill-color);\n",
              "    }\n",
              "    40% {\n",
              "      border-color: transparent;\n",
              "      border-right-color: var(--fill-color);\n",
              "      border-top-color: var(--fill-color);\n",
              "    }\n",
              "    60% {\n",
              "      border-color: transparent;\n",
              "      border-right-color: var(--fill-color);\n",
              "    }\n",
              "    80% {\n",
              "      border-color: transparent;\n",
              "      border-right-color: var(--fill-color);\n",
              "      border-bottom-color: var(--fill-color);\n",
              "    }\n",
              "    90% {\n",
              "      border-color: transparent;\n",
              "      border-bottom-color: var(--fill-color);\n",
              "    }\n",
              "  }\n",
              "</style>\n",
              "\n",
              "  <script>\n",
              "    async function quickchart(key) {\n",
              "      const quickchartButtonEl =\n",
              "        document.querySelector('#' + key + ' button');\n",
              "      quickchartButtonEl.disabled = true;  // To prevent multiple clicks.\n",
              "      quickchartButtonEl.classList.add('colab-df-spinner');\n",
              "      try {\n",
              "        const charts = await google.colab.kernel.invokeFunction(\n",
              "            'suggestCharts', [key], {});\n",
              "      } catch (error) {\n",
              "        console.error('Error during call to suggestCharts:', error);\n",
              "      }\n",
              "      quickchartButtonEl.classList.remove('colab-df-spinner');\n",
              "      quickchartButtonEl.classList.add('colab-df-quickchart-complete');\n",
              "    }\n",
              "    (() => {\n",
              "      let quickchartButtonEl =\n",
              "        document.querySelector('#df-d22f4958-d1b9-4025-af04-6dbcdf1d3fbd button');\n",
              "      quickchartButtonEl.style.display =\n",
              "        google.colab.kernel.accessAllowed ? 'block' : 'none';\n",
              "    })();\n",
              "  </script>\n",
              "</div>\n",
              "\n",
              "    </div>\n",
              "  </div>\n"
            ],
            "application/vnd.google.colaboratory.intrinsic+json": {
              "type": "dataframe",
              "variable_name": "df",
              "summary": "{\n  \"name\": \"df\",\n  \"rows\": 1884,\n  \"fields\": [\n    {\n      \"column\": \"question\",\n      \"properties\": {\n        \"dtype\": \"string\",\n        \"num_unique_values\": 1884,\n        \"samples\": [\n          \"\\uc2a4\\ud30c\\ud06c\\ud50c\\ub7ec\\uc2a4 \\uc120\\ub9893\\ud638\\uc810\\uc758 \\uac1c\\uc7a5 \\uae30\\ub150\\uc2dd\\uc5d0 \\uc5b4\\ub5a4 \\uc778\\ubb3c\\uc774 \\ucc38\\uc5ec\\ud588\\ub098\\uc694?\",\n          \"\\uc0dd\\uc874\\uc790\\uac00 17\\uba85\\uc774\\ub77c\\ub294 \\uc124\\uc744 \\ucc98\\uc74c \\uc81c\\uae30\\ud55c \\uc0ac\\ub78c\\uc740 \\ub204\\uad6c\\uc778\\uac00?\",\n          \"\\uace0\\uad6c\\ub824\\uc640 \\ub2f9\\ub098\\ub77c\\uc758 \\uc804\\uc7c1\\uc5d0\\uc11c \\ud574\\uc0c1 \\uc804\\ud22c\\uc758 \\uc911\\uc694\\uc131\\uc740 \\ubb34\\uc5c7\\uc774\\uc5c8\\ub098\\uc694?\"\n        ],\n        \"semantic_type\": \"\",\n        \"description\": \"\"\n      }\n    },\n    {\n      \"column\": \"search_result\",\n      \"properties\": {\n        \"dtype\": \"object\",\n        \"semantic_type\": \"\",\n        \"description\": \"\"\n      }\n    },\n    {\n      \"column\": \"answer\",\n      \"properties\": {\n        \"dtype\": \"string\",\n        \"num_unique_values\": 1884,\n        \"samples\": [\n          \"\\uac80\\uc0c9 \\uacb0\\uacfc\\uc5d0\\ub294 \\uc2a4\\ud30c\\ud06c\\ud50c\\ub7ec\\uc2a4 \\uc120\\ub9893\\ud638\\uc810\\uc758 \\uac1c\\uc7a5 \\uae30\\ub150\\uc2dd\\uc5d0 \\uc5b4\\ub5a4 \\uc778\\ubb3c\\uc774 \\ucc38\\uc5ec\\ud588\\ub294\\uc9c0\\uc5d0 \\ub300\\ud55c \\uc815\\ubcf4\\ub97c \\ucc3e\\uc744 \\uc218 \\uc5c6\\uc2b5\\ub2c8\\ub2e4.\",\n          \"\\uac80\\uc0c9 \\uacb0\\uacfc\\uc5d0\\ub294 \\uc0dd\\uc874\\uc790\\uac00 17\\uba85\\uc774\\ub77c\\ub294 \\uc124\\uc744 \\ucc98\\uc74c \\uc81c\\uae30\\ud55c \\uc0ac\\ub78c\\uc774 \\ub204\\uad6c\\uc778\\uc9c0\\uc5d0 \\ub300\\ud55c \\uc815\\ubcf4\\ub97c \\ucc3e\\uc744 \\uc218 \\uc5c6\\uc2b5\\ub2c8\\ub2e4.\",\n          \"\\uace0\\uad6c\\ub824\\uc640 \\ub2f9\\ub098\\ub77c\\uc758 \\uc804\\uc7c1\\uc5d0\\uc11c \\ud574\\uc0c1 \\uc804\\ud22c\\ub294 \\ub9e4\\uc6b0 \\uc911\\uc694\\ud55c \\uc5ed\\ud560\\uc744 \\ud588\\uc2b5\\ub2c8\\ub2e4. \\ub2f9\\ub098\\ub77c\\ub294 \\uace0\\uad6c\\ub824\\ub97c \\uacf5\\uaca9\\ud558\\uae30 \\uc704\\ud574 \\ud574\\uc0c1 \\uacbd\\ub85c\\ub97c \\uc801\\uadf9\\uc801\\uc73c\\ub85c \\ud65c\\uc6a9\\ud588\\uc2b5\\ub2c8\\ub2e4. \\uc608\\ub97c \\ub4e4\\uc5b4, \\ub2f9 \\ud0dc\\uc885\\uc740 \\ud574\\ub85c\\ub97c \\ud1b5\\ud55c \\ub300\\ub300\\uc801\\uc778 \\uce68\\uacf5\\uc744 \\uacc4\\ud68d\\ud558\\uace0, \\uac15\\ub0a8 12\\uc8fc\\uc758 \\uacf5\\uc778\\ub4e4\\uc744 \\uc9d5\\ubc1c\\ud558\\uc5ec \\ud070 \\ubc30 \\uc218\\ubc31 \\ucc99\\uc744 \\ub9cc\\ub4e4\\uc5b4 \\uace0\\uad6c\\ub824\\ub97c \\uacf5\\uaca9\\ud558\\ub824 \\ud588\\uc2b5\\ub2c8\\ub2e4 [[ref1]]. \\ub610\\ud55c, 2\\ucc28 \\uace0\\uad6c\\ub824-\\ub2f9 \\uc804\\uc7c1 \\ub54c \\ub2f9\\ub098\\ub77c\\ub294 \\ud574\\uc0c1\\uc744 \\ud1b5\\ud574 \\uc555\\ub85d\\uac15 \\ud558\\uad6c\\uc640 \\uc218\\ub3c4 \\ud3c9\\uc591\\uc744 \\uacf5\\uaca9\\ud588\\uc2b5\\ub2c8\\ub2e4. \\uc774 \\uacfc\\uc815\\uc5d0\\uc11c \\ub2f9\\ub098\\ub77c\\uc758 \\uc218\\uad70\\uc740 \\ud3c9\\uc591\\uc73c\\ub85c \\uc9c1\\uacf5\\ud558\\ub824 \\ud588\\uc73c\\ub098, \\uad70\\ub7c9\\uacfc \\ubcd1\\uae30 \\uacf5\\uae09\\uc758 \\uc2e4\\ud328\\ub85c \\uc778\\ud574 \\uc5b4\\ub824\\uc6c0\\uc744 \\uacaa\\uc5c8\\uc2b5\\ub2c8\\ub2e4 [[ref2]].\\n\\n\\ud574\\uc0c1 \\uc804\\ud22c\\uc758 \\uc911\\uc694\\uc131\\uc740 \\uace0\\uad6c\\ub824\\uc758 \\uc804\\ub7b5\\uc801 \\uc694\\ucda9\\uc9c0\\uc778 \\uc555\\ub85d\\uac15 \\ud558\\uad6c\\uc640 \\ud3c9\\uc591\\uc744 \\ubc29\\uc5b4\\ud558\\ub294 \\ub370 \\ud070 \\uc601\\ud5a5\\uc744 \\ubbf8\\ucce4\\uc2b5\\ub2c8\\ub2e4. \\ub2f9\\ub098\\ub77c\\uc758 \\uc218\\uad70\\uc774 \\uc555\\ub85d\\uac15\\uc744 \\uac74\\ub108\\uc624\\uc9c0 \\ubabb\\ud558\\uac8c \\ud568\\uc73c\\ub85c\\uc368 \\uace0\\uad6c\\ub824\\ub294 \\ubc29\\uc5b4\\uc120\\uc744 \\uc720\\uc9c0\\ud560 \\uc218 \\uc788\\uc5c8\\uc2b5\\ub2c8\\ub2e4 [[ref2]]. \\ub610\\ud55c, \\ub2f9\\ub098\\ub77c\\uc758 \\ud574\\uc0c1 \\uce68\\uacf5 \\uacc4\\ud68d\\uc740 \\uace0\\uad6c\\ub824\\uc758 \\ubc29\\uc5b4 \\uc804\\ub7b5\\uc5d0 \\ud070 \\uc601\\ud5a5\\uc744 \\ubbf8\\ucce4\\uc73c\\uba70, \\uace0\\uad6c\\ub824\\ub294 \\uc774\\ub97c \\ub300\\ube44\\ud574 \\ud574\\uc0c1 \\ubc29\\uc5b4\\ub97c \\uac15\\ud654\\ud588\\uc2b5\\ub2c8\\ub2e4.\\n\\n\\uacb0\\ub860\\uc801\\uc73c\\ub85c, \\ud574\\uc0c1 \\uc804\\ud22c\\ub294 \\uace0\\uad6c\\ub824\\uc640 \\ub2f9\\ub098\\ub77c\\uc758 \\uc804\\uc7c1\\uc5d0\\uc11c \\uc911\\uc694\\ud55c \\uc804\\ub7b5\\uc801 \\uc694\\uc18c\\ub85c \\uc791\\uc6a9\\ud588\\uc73c\\uba70, \\uc591\\uce21\\uc758 \\uc804\\uc7c1 \\uacb0\\uacfc\\uc5d0 \\ud070 \\uc601\\ud5a5\\uc744 \\ubbf8\\ucce4\\uc2b5\\ub2c8\\ub2e4.\"\n        ],\n        \"semantic_type\": \"\",\n        \"description\": \"\"\n      }\n    },\n    {\n      \"column\": \"extracted_ref_numbers\",\n      \"properties\": {\n        \"dtype\": \"object\",\n        \"semantic_type\": \"\",\n        \"description\": \"\"\n      }\n    },\n    {\n      \"column\": \"type\",\n      \"properties\": {\n        \"dtype\": \"category\",\n        \"num_unique_values\": 5,\n        \"samples\": [\n          \"mrc_question_with_1_to_4_negative\",\n          \"no_answer\",\n          \"synthetic_question\"\n        ],\n        \"semantic_type\": \"\",\n        \"description\": \"\"\n      }\n    }\n  ]\n}"
            }
          },
          "metadata": {},
          "execution_count": 4
        }
      ]
    },
    {
      "cell_type": "code",
      "source": [
        "print('데이터 타입 종류:',df['type'].unique())"
      ],
      "metadata": {
        "colab": {
          "base_uri": "https://localhost:8080/"
        },
        "id": "swDIASyVtfsa",
        "outputId": "5ea70701-6c42-4928-b2a4-e2bba92cf8b1"
      },
      "execution_count": null,
      "outputs": [
        {
          "output_type": "stream",
          "name": "stdout",
          "text": [
            "데이터 타입 종류: ['mrc_question' 'mrc_question_with_1_to_4_negative' 'synthetic_question'\n",
            " 'paraphrased_question' 'no_answer']\n"
          ]
        }
      ]
    },
    {
      "cell_type": "code",
      "source": [
        "print('5번 샘플의 타입:', df['type'].loc[5])\n",
        "print('5번 샘플의 질문:', df['question'].loc[5])"
      ],
      "metadata": {
        "colab": {
          "base_uri": "https://localhost:8080/"
        },
        "id": "l4hxsRx-oWLt",
        "outputId": "76e88b03-cb38-47b5-8954-49a90c4c43b5"
      },
      "execution_count": null,
      "outputs": [
        {
          "output_type": "stream",
          "name": "stdout",
          "text": [
            "5번 샘플의 타입: mrc_question\n",
            "5번 샘플의 질문: 에티하드 웰니스 프로그램의 일환으로 위생에 관한 정보를 제공하는 것은 누구인가?\n"
          ]
        }
      ]
    },
    {
      "cell_type": "code",
      "source": [
        "print('5번 샘플의 답변:', df['answer'].loc[5])"
      ],
      "metadata": {
        "colab": {
          "base_uri": "https://localhost:8080/"
        },
        "id": "C7vuhGRTp63D",
        "outputId": "0bc15d51-0e47-4673-f70b-28f69efe9a5d"
      },
      "execution_count": null,
      "outputs": [
        {
          "output_type": "stream",
          "name": "stdout",
          "text": [
            "5번 샘플의 답변: 에티하드 웰니스 프로그램의 일환으로 위생에 관한 정보를 제공하는 사람은 특별 훈련 과정을 거친 에티하드항공의 웰니스 엠버서더입니다. 이들은 여행 전 과정에 걸쳐 조언과 건강 및 위생 조치에 대한 세부 사항을 공유하며 맞춤화된 정보를 제공합니다 [[ref3]].\n"
          ]
        }
      ]
    },
    {
      "cell_type": "code",
      "source": [
        "print('5번 샘플의 답변에서 인용한 문서 번호:', df['extracted_ref_numbers'].loc[5])"
      ],
      "metadata": {
        "colab": {
          "base_uri": "https://localhost:8080/"
        },
        "id": "0nKzxCqGyVv_",
        "outputId": "37925ba6-144e-4318-fe71-d63d0e852efa"
      },
      "execution_count": null,
      "outputs": [
        {
          "output_type": "stream",
          "name": "stdout",
          "text": [
            "5번 샘플의 답변에서 인용한 문서 번호: [3]\n"
          ]
        }
      ]
    },
    {
      "cell_type": "code",
      "source": [
        "print('5번 샘플의 검색 결과 개수:', len(df['search_result'].loc[5]))"
      ],
      "metadata": {
        "colab": {
          "base_uri": "https://localhost:8080/"
        },
        "id": "8G_x-54Br4Q0",
        "outputId": "914b92ca-51d3-414b-f417-c7ab1094be8b"
      },
      "execution_count": null,
      "outputs": [
        {
          "output_type": "stream",
          "name": "stdout",
          "text": [
            "5번 샘플의 검색 결과 개수: 5\n"
          ]
        }
      ]
    },
    {
      "cell_type": "code",
      "source": [
        "print('5번 샘플의 검색 결과 중 세번째 문서:', df['search_result'].loc[5][2])"
      ],
      "metadata": {
        "colab": {
          "base_uri": "https://localhost:8080/"
        },
        "id": "kkHBofD_s35R",
        "outputId": "ab59ad0c-7fc6-444b-fb04-1b61fd734892"
      },
      "execution_count": null,
      "outputs": [
        {
          "output_type": "stream",
          "name": "stdout",
          "text": [
            "5번 샘플의 검색 결과 중 세번째 문서: 아랍 에미리트의 국영항공사 에티하드항공이 지난 10월 21일 열린 ’2020비즈니스 트래블러 중동 어워드(Business Traveller Middle East Awards 2020)에서 ‘최고의 이코노미 클래스(Best Economy Class)’와 ‘최고의 상용고객 프로그램(Best Frequent Flyer Programme’)’상의 영예를 안았다. 이는 2012년과 2013년에 열린 비즈니스 트래블러 중동 어워드에서 각각 최고의 이코노미 클래스, 최고의 상용 고객프로그램 분야의 첫 수상을 한 이래로 2회째 수상 기록이다. 지난 해, 에티하드항공은 다양한 수상 경력을 지닌 비즈니스, 퍼스트, 더 레지던스 캐빈에서 펼쳐 온 혁신과 마찬가지로 이코노미석에서도 기내식 선택권을 넓히고 무선 기내 엔터테인먼트, 인체공학적 디자인으로 설계된 좌석과 여유로운 레그룸을 가진 이코노미석 도입을 비롯해 옆 좌석 비우기, 보다 넉넉한 이코노미 스페이스 석 선택 옵션, 선호좌석 선택 사항을 제공하는 등 기내 경험에 대한 더욱 다양한 선택권을 제공해 왔다. 이를 통해 승객이 개인의 필요와 요구에 맞는 맞춤화된 선택을 할 수 있도록 돕고 만족도 높은 항공 여행을 할 수 있도록 서비스와 상품 개선에 투자를 지속해 왔다. 또한, 에티하드항공은 항공사의 건강 및 위생 프로그램인 ‘에티하드 웰니스’프로그램을 통해 신종코로나바이러스로 인한 전례 없는 시기에 필수적인 여행을 해야만 하는 여행자들에게 마음의 평화와 여행에 대한 자신감을 심어주기 위해 펼친 다양한 노력이 고객의 긍정적인 평가를 받았다고 전했다. 예약 과정에서부터 공항 이용은 물론 항공여행에 이르기까지 인공지능 기술을 비롯한 최신 기술을 과감히 도입해 광범위한 예방 조치를 시행하고 있으며 업계 최초로 선보인 에티하드 웰니스 프로그램에서는 특별 훈련 과정을 거친 에티하드항공의 웰니스 엠버서더가 여행 전 과정에 걸친 조언과 건강 및 위생 조치에 대한 세부 사항을 공유하며 맞춤화된 정보를 제공한다. 한 해 동안, 에티하드항공은 에티하드 게스트 회원의 경험을 향상시키고 혜택의 범위를 확장함으로써 더 나은 가치를 선사하기 위한 노력을 펼쳐왔다. 최근에는 “당신의 특별한 손님(Your Special Guest)” 캠페인과 함께 삶의 소중한 사람을 지정해 선물을 보내주는 캠페인을 펼치며 비대면의 시대에서도 따뜻한 마음과 정을 표현할 수 있는 기회를 제공했다. 더불어 코로나19로 인한 팬데믹 상황을 고려해 추가 마일리지를 지급하거나 항공권 예약 및 변경에 있어 유연한 정책 도입을 도입함은 물론 파트너십의 범위를 확장해 회원 등급을 유지하기 위한 마일리지를 적립할 수 있는 방법을 다양화 했다. 한편, 신종코로나바이러스 상황으로 인해 올해 2020비즈니스 트래블러 중동 어워드는 온라인으로 개최되었으며 독자의 투표를 기반으로 선정됐다.\n"
          ]
        }
      ]
    },
    {
      "cell_type": "code",
      "source": [
        "df['search_result_len'] = df['search_result'].apply(len)\n",
        "df['extracted_ref_len'] = df['extracted_ref_numbers'].apply(len)"
      ],
      "metadata": {
        "id": "ZkwlZkEXGEHK"
      },
      "execution_count": null,
      "outputs": []
    },
    {
      "cell_type": "code",
      "source": [
        "def plot_lengths_by_type(df, plot_type):\n",
        "    \"\"\"\n",
        "    특정 type의 데이터에 대해 extracted_ref_len과 search_result_len의 분포를 시각화하고 값 출력.\n",
        "\n",
        "    Parameters:\n",
        "    df (pd.DataFrame): 데이터프레임\n",
        "    plot_type (str): 시각화할 데이터의 type 값 (예: 'qa', 'summarize' 등)\n",
        "    \"\"\"\n",
        "    # 유효한 type 값인지 검증\n",
        "    if plot_type not in df['type'].unique():\n",
        "        print(f\"'{plot_type}'는 유효하지 않은 타입입니다. 데이터프레임에 존재하는 타입을 확인하세요.\")\n",
        "        return\n",
        "\n",
        "    # 해당 type의 데이터만 필터링하고 전체 개수 계산\n",
        "    df_type = df[df['type'] == plot_type]\n",
        "    total_count = len(df_type)\n",
        "\n",
        "    # 길이별 값 계산\n",
        "    # extracted_ref_len: 실제 인용된 문서의 개수\n",
        "    # search_result_len: 검색으로 조회된 문서의 개수\n",
        "    extracted_counts = df_type['extracted_ref_len'].value_counts().sort_index()\n",
        "    search_counts = df_type['search_result_len'].value_counts().sort_index()\n",
        "\n",
        "    # 분석 결과 출력\n",
        "    # 전체 데이터 수와 각 길이별 분포를 출력\n",
        "    print(f\"타입: {plot_type}\")\n",
        "    print(f\"전체 데이터 수: {total_count:,}개\")\n",
        "    print(\"\\n문서 인용 분포:\")\n",
        "    for length, count in extracted_counts.items():\n",
        "        print(f\"{length}개의 문서를 인용한 샘플: {count}개\")\n",
        "    print(\"\\n검색된 문서 분포:\")\n",
        "    for length, count in search_counts.items():\n",
        "        print(f\"검색 문서로 {length}개가 존재하는 경우: {count}개\")\n",
        "\n",
        "    # 시각화를 위한 subplot 생성\n",
        "    # figsize(5, 2.5): 적당한 크기의 그래프를 위한 설정\n",
        "    fig, axes = plt.subplots(1, 2, figsize=(5, 2.5))\n",
        "\n",
        "    # 두 그래프 사이의 간격 설정 (타이틀이나 레이블이 겹치지 않도록)\n",
        "    plt.subplots_adjust(wspace=0.6)\n",
        "\n",
        "    # 왼쪽 그래프: 인용된 문서 수 분포\n",
        "    extracted_counts.plot(\n",
        "        kind='bar',\n",
        "        ax=axes[0],\n",
        "        xlabel='extracted_ref_len',  # 인용된 문서의 개수\n",
        "        ylabel='Count',             # 해당 개수의 출현 빈도\n",
        "        grid=True                   # 격자 표시\n",
        "    )\n",
        "\n",
        "    # 오른쪽 그래프: 검색된 문서 수 분포\n",
        "    search_counts.plot(\n",
        "        kind='bar',\n",
        "        ax=axes[1],\n",
        "        xlabel='search_result_len',  # 검색된 문서의 개수\n",
        "        ylabel='Count',             # 해당 개수의 출현 빈도\n",
        "        grid=True                   # 격자 표시\n",
        "    )\n",
        "\n",
        "    # 그래프의 레이아웃 자동 조정\n",
        "    plt.tight_layout()\n",
        "    plt.show()"
      ],
      "metadata": {
        "id": "GshYoeb0ExAz"
      },
      "execution_count": null,
      "outputs": []
    },
    {
      "cell_type": "code",
      "source": [
        "plot_lengths_by_type(df, 'mrc_question')"
      ],
      "metadata": {
        "colab": {
          "base_uri": "https://localhost:8080/",
          "height": 453
        },
        "id": "kMm_8MekAVL_",
        "outputId": "3f2e2b18-eb06-48a8-ac8e-1dc3a13a54fd"
      },
      "execution_count": null,
      "outputs": [
        {
          "output_type": "stream",
          "name": "stdout",
          "text": [
            "타입: mrc_question\n",
            "전체 데이터 수: 491개\n",
            "\n",
            "문서 인용 분포:\n",
            "1개의 문서를 인용한 샘플: 439개\n",
            "2개의 문서를 인용한 샘플: 44개\n",
            "3개의 문서를 인용한 샘플: 7개\n",
            "4개의 문서를 인용한 샘플: 1개\n",
            "\n",
            "검색된 문서 분포:\n",
            "검색 문서로 5개가 존재하는 경우: 491개\n"
          ]
        },
        {
          "output_type": "display_data",
          "data": {
            "text/plain": [
              "<Figure size 500x250 with 2 Axes>"
            ],
            "image/png": "[encoded data removed]"
          },
          "metadata": {}
        }
      ]
    },
    {
      "cell_type": "code",
      "source": [
        "plot_lengths_by_type(df, 'mrc_question_with_1_to_4_negative')"
      ],
      "metadata": {
        "colab": {
          "base_uri": "https://localhost:8080/",
          "height": 506
        },
        "id": "awT8HTdyTdpK",
        "outputId": "ba5b17e2-fff0-4100-ec66-0cc67d3b2978"
      },
      "execution_count": null,
      "outputs": [
        {
          "output_type": "stream",
          "name": "stdout",
          "text": [
            "타입: mrc_question_with_1_to_4_negative\n",
            "전체 데이터 수: 296개\n",
            "\n",
            "문서 인용 분포:\n",
            "1개의 문서를 인용한 샘플: 282개\n",
            "2개의 문서를 인용한 샘플: 12개\n",
            "3개의 문서를 인용한 샘플: 1개\n",
            "4개의 문서를 인용한 샘플: 1개\n",
            "\n",
            "검색된 문서 분포:\n",
            "검색 문서로 1개가 존재하는 경우: 80개\n",
            "검색 문서로 2개가 존재하는 경우: 75개\n",
            "검색 문서로 3개가 존재하는 경우: 59개\n",
            "검색 문서로 4개가 존재하는 경우: 82개\n"
          ]
        },
        {
          "output_type": "display_data",
          "data": {
            "text/plain": [
              "<Figure size 500x250 with 2 Axes>"
            ],
            "image/png": "[encoded data removed]"
          },
          "metadata": {}
        }
      ]
    },
    {
      "cell_type": "code",
      "source": [
        "print('데이터의 유형:', df['type'].loc[787])\n",
        "print('질문:', df['question'].loc[787])\n",
        "print('답변:', df['answer'].loc[787])\n",
        "print('답변에서 인용한 문서:', df['extracted_ref_numbers'].loc[787])"
      ],
      "metadata": {
        "colab": {
          "base_uri": "https://localhost:8080/"
        },
        "id": "eWdtxQtOzZuE",
        "outputId": "35f7064c-c810-4eda-e929-c8257885ddb8"
      },
      "execution_count": null,
      "outputs": [
        {
          "output_type": "stream",
          "name": "stdout",
          "text": [
            "데이터의 유형: synthetic_question\n",
            "질문: 한국전력 본사 부지 매각이 서울 강남 지역에 미칠 영향은 무엇인가요?\n",
            "답변: 한국전력 본사 부지 매각이 서울 강남 지역에 미칠 영향은 여러 가지로 분석될 수 있습니다.\n",
            "\n",
            "첫째, 한국전력 본사 부지는 서울 강남권의 마지막 대규모 개발 부지 중 하나로, 매각이 성사되면 대규모 개발 프로젝트가 진행될 가능성이 큽니다. 이는 강남 지역의 부동산 시장에 큰 영향을 미칠 수 있습니다. 예를 들어, 삼성전자와 현대자동차 등 대기업들이 이 부지에 관심을 보이고 있으며, 이들이 부지를 매입해 고층 빌딩이나 연구개발(R&D) 센터, 본사 등을 건설할 경우 강남 지역의 상업 및 업무 환경이 크게 변화할 수 있습니다 [[ref1]], [[ref3]], [[ref4]].\n",
            "\n",
            "둘째, 부지 매각 후 개발이 진행되면 강남 지역의 부동산 가치가 상승할 가능성이 있습니다. 특히, 서울시가 이 부지를 일반상업지역으로 용도 변경할 계획이 있어, 용적률이 높아지면 더 많은 건물이 들어설 수 있게 됩니다. 이는 강남 지역의 상업적 가치를 더욱 높일 수 있습니다 [[ref4]].\n",
            "\n",
            "셋째, 한국전력 본사 부지에는 지하 변전소가 있어, 이를 처리하는 문제도 중요한 변수로 작용할 것입니다. 변전소를 이전하거나 지하 더 깊은 곳으로 옮기는 등의 작업이 필요할 수 있으며, 이는 개발 비용에 반영될 것입니다. 이러한 기술적 문제들이 해결되면 개발 속도가 빨라질 수 있습니다 [[ref3]].\n",
            "\n",
            "넷째, 부지 매각 방식이 공개 경쟁입찰로 결정됨에 따라, 매각 대금이 최대한 높아질 가능성이 있습니다. 이는 한국전력의 재무 상황 개선에도 긍정적인 영향을 미칠 수 있습니다 [[ref4]].\n",
            "\n",
            "이와 같이 한국전력 본사 부지 매각은 강남 지역의 부동산 시장, 상업 환경, 그리고 한국전력의 재무 상황 등에 다양한 영향을 미칠 것으로 예상됩니다.\n",
            "답변에서 인용한 문서: [1 3 4]\n"
          ]
        }
      ]
    },
    {
      "cell_type": "code",
      "source": [
        "plot_lengths_by_type(df, 'synthetic_question')"
      ],
      "metadata": {
        "colab": {
          "base_uri": "https://localhost:8080/",
          "height": 471
        },
        "id": "V_baak9X158i",
        "outputId": "dd2ecfb8-8442-4aad-ff81-940bf7791023"
      },
      "execution_count": null,
      "outputs": [
        {
          "output_type": "stream",
          "name": "stdout",
          "text": [
            "타입: synthetic_question\n",
            "전체 데이터 수: 497개\n",
            "\n",
            "문서 인용 분포:\n",
            "1개의 문서를 인용한 샘플: 157개\n",
            "2개의 문서를 인용한 샘플: 196개\n",
            "3개의 문서를 인용한 샘플: 102개\n",
            "4개의 문서를 인용한 샘플: 35개\n",
            "5개의 문서를 인용한 샘플: 7개\n",
            "\n",
            "검색된 문서 분포:\n",
            "검색 문서로 5개가 존재하는 경우: 497개\n"
          ]
        },
        {
          "output_type": "display_data",
          "data": {
            "text/plain": [
              "<Figure size 500x250 with 2 Axes>"
            ],
            "image/png": "[encoded data removed]"
          },
          "metadata": {}
        }
      ]
    },
    {
      "cell_type": "code",
      "source": [
        "print('데이터의 유형:', df['type'].loc[1285])\n",
        "print('질문:', df['question'].loc[1285])"
      ],
      "metadata": {
        "colab": {
          "base_uri": "https://localhost:8080/"
        },
        "id": "KJa9Smg-21Jj",
        "outputId": "f2815733-baab-4dcb-9b59-e6ac6c38b3e0"
      },
      "execution_count": null,
      "outputs": [
        {
          "output_type": "stream",
          "name": "stdout",
          "text": [
            "데이터의 유형: paraphrased_question\n",
            "질문: 송파구청장이 사시에 합격한 연도\n"
          ]
        }
      ]
    },
    {
      "cell_type": "code",
      "source": [
        "plot_lengths_by_type(df, 'paraphrased_question')"
      ],
      "metadata": {
        "colab": {
          "base_uri": "https://localhost:8080/",
          "height": 456
        },
        "id": "LN2lg6mUTdAK",
        "outputId": "a9a55fd2-32a5-408f-8162-77947ac7070d"
      },
      "execution_count": null,
      "outputs": [
        {
          "output_type": "stream",
          "name": "stdout",
          "text": [
            "타입: paraphrased_question\n",
            "전체 데이터 수: 196개\n",
            "\n",
            "문서 인용 분포:\n",
            "1개의 문서를 인용한 샘플: 177개\n",
            "2개의 문서를 인용한 샘플: 13개\n",
            "3개의 문서를 인용한 샘플: 4개\n",
            "4개의 문서를 인용한 샘플: 2개\n",
            "\n",
            "검색된 문서 분포:\n",
            "검색 문서로 5개가 존재하는 경우: 196개\n"
          ]
        },
        {
          "output_type": "display_data",
          "data": {
            "text/plain": [
              "<Figure size 500x250 with 2 Axes>"
            ],
            "image/png": "[encoded data removed]"
          },
          "metadata": {}
        }
      ]
    },
    {
      "cell_type": "code",
      "source": [
        "print('데이터의 유형:', df['type'].loc[1480])\n",
        "print('질문:', df['question'].loc[1480])\n",
        "print('답변:', df['answer'].loc[1480])\n",
        "print('답변에서 인용한 문서:', df['extracted_ref_numbers'].loc[1480])"
      ],
      "metadata": {
        "colab": {
          "base_uri": "https://localhost:8080/"
        },
        "id": "I8o1t76E_E1t",
        "outputId": "10424457-7336-4813-d904-48b67410f6b0"
      },
      "execution_count": null,
      "outputs": [
        {
          "output_type": "stream",
          "name": "stdout",
          "text": [
            "데이터의 유형: no_answer\n",
            "질문: 원종 설립 당시 일본 정부의 반응은 어떠했나요?\n",
            "답변: 검색 결과에는 원종 설립 당시 일본 정부의 반응을 찾을 수 없습니다.\n",
            "답변에서 인용한 문서: []\n"
          ]
        }
      ]
    },
    {
      "cell_type": "code",
      "source": [
        "plot_lengths_by_type(df, 'no_answer')"
      ],
      "metadata": {
        "colab": {
          "base_uri": "https://localhost:8080/",
          "height": 402
        },
        "id": "POI7D4caT1ze",
        "outputId": "a8654557-4d44-4418-d5c7-5ced80ce19c0"
      },
      "execution_count": null,
      "outputs": [
        {
          "output_type": "stream",
          "name": "stdout",
          "text": [
            "타입: no_answer\n",
            "전체 데이터 수: 404개\n",
            "\n",
            "문서 인용 분포:\n",
            "0개의 문서를 인용한 샘플: 404개\n",
            "\n",
            "검색된 문서 분포:\n",
            "검색 문서로 5개가 존재하는 경우: 404개\n"
          ]
        },
        {
          "output_type": "display_data",
          "data": {
            "text/plain": [
              "<Figure size 500x250 with 2 Axes>"
            ],
            "image/png": "[encoded data removed]"
          },
          "metadata": {}
        }
      ]
    }
  ]
}