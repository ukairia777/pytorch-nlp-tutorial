{
 "cells": [
  {
   "cell_type": "code",
   "execution_count": 2,
   "id": "06f386e2-8e3b-4b65-962d-6334972a9e41",
   "metadata": {},
   "outputs": [
    {
     "name": "stdout",
     "output_type": "stream",
     "text": [
      "Requirement already satisfied: qwen-vl-utils in /usr/local/lib/python3.10/dist-packages (0.0.11)\n",
      "Requirement already satisfied: av in /usr/local/lib/python3.10/dist-packages (from qwen-vl-utils) (14.4.0)\n",
      "Requirement already satisfied: packaging in /usr/local/lib/python3.10/dist-packages (from qwen-vl-utils) (23.2)\n",
      "Requirement already satisfied: pillow in /usr/local/lib/python3.10/dist-packages (from qwen-vl-utils) (11.2.1)\n",
      "Requirement already satisfied: requests in /usr/local/lib/python3.10/dist-packages (from qwen-vl-utils) (2.32.4)\n",
      "Requirement already satisfied: charset_normalizer<4,>=2 in /usr/local/lib/python3.10/dist-packages (from requests->qwen-vl-utils) (2.1.1)\n",
      "Requirement already satisfied: idna<4,>=2.5 in /usr/local/lib/python3.10/dist-packages (from requests->qwen-vl-utils) (3.4)\n",
      "Requirement already satisfied: urllib3<3,>=1.21.1 in /usr/local/lib/python3.10/dist-packages (from requests->qwen-vl-utils) (1.26.13)\n",
      "Requirement already satisfied: certifi>=2017.4.17 in /usr/local/lib/python3.10/dist-packages (from requests->qwen-vl-utils) (2022.12.7)\n",
      "\u001b[33mWARNING: Running pip as the 'root' user can result in broken permissions and conflicting behaviour with the system package manager. It is recommended to use a virtual environment instead: https://pip.pypa.io/warnings/venv\u001b[0m\u001b[33m\n",
      "\u001b[0m\n",
      "\u001b[1m[\u001b[0m\u001b[34;49mnotice\u001b[0m\u001b[1;39;49m]\u001b[0m\u001b[39;49m A new release of pip is available: \u001b[0m\u001b[31;49m23.3.1\u001b[0m\u001b[39;49m -> \u001b[0m\u001b[32;49m25.1.1\u001b[0m\n",
      "\u001b[1m[\u001b[0m\u001b[34;49mnotice\u001b[0m\u001b[1;39;49m]\u001b[0m\u001b[39;49m To update, run: \u001b[0m\u001b[32;49mpython -m pip install --upgrade pip\u001b[0m\n",
      "Collecting transformers==4.49\n",
      "  Downloading transformers-4.49.0-py3-none-any.whl.metadata (44 kB)\n",
      "\u001b[2K     \u001b[90m━━━━━━━━━━━━━━━━━━━━━━━━━━━━━━━━━━━━━━━━\u001b[0m \u001b[32m44.0/44.0 kB\u001b[0m \u001b[31m2.8 MB/s\u001b[0m eta \u001b[36m0:00:00\u001b[0m\n",
      "\u001b[?25hRequirement already satisfied: filelock in /usr/local/lib/python3.10/dist-packages (from transformers==4.49) (3.18.0)\n",
      "Requirement already satisfied: huggingface-hub<1.0,>=0.26.0 in /usr/local/lib/python3.10/dist-packages (from transformers==4.49) (0.32.5)\n",
      "Requirement already satisfied: numpy>=1.17 in /usr/local/lib/python3.10/dist-packages (from transformers==4.49) (1.26.4)\n",
      "Requirement already satisfied: packaging>=20.0 in /usr/local/lib/python3.10/dist-packages (from transformers==4.49) (23.2)\n",
      "Requirement already satisfied: pyyaml>=5.1 in /usr/local/lib/python3.10/dist-packages (from transformers==4.49) (6.0.1)\n",
      "Requirement already satisfied: regex!=2019.12.17 in /usr/local/lib/python3.10/dist-packages (from transformers==4.49) (2024.11.6)\n",
      "Requirement already satisfied: requests in /usr/local/lib/python3.10/dist-packages (from transformers==4.49) (2.32.4)\n",
      "Requirement already satisfied: tokenizers<0.22,>=0.21 in /usr/local/lib/python3.10/dist-packages (from transformers==4.49) (0.21.1)\n",
      "Requirement already satisfied: safetensors>=0.4.1 in /usr/local/lib/python3.10/dist-packages (from transformers==4.49) (0.5.3)\n",
      "Requirement already satisfied: tqdm>=4.27 in /usr/local/lib/python3.10/dist-packages (from transformers==4.49) (4.67.1)\n",
      "Requirement already satisfied: fsspec>=2023.5.0 in /usr/local/lib/python3.10/dist-packages (from huggingface-hub<1.0,>=0.26.0->transformers==4.49) (2024.6.1)\n",
      "Requirement already satisfied: typing-extensions>=3.7.4.3 in /usr/local/lib/python3.10/dist-packages (from huggingface-hub<1.0,>=0.26.0->transformers==4.49) (4.14.0)\n",
      "Requirement already satisfied: hf-xet<2.0.0,>=1.1.2 in /usr/local/lib/python3.10/dist-packages (from huggingface-hub<1.0,>=0.26.0->transformers==4.49) (1.1.3)\n",
      "Requirement already satisfied: charset_normalizer<4,>=2 in /usr/local/lib/python3.10/dist-packages (from requests->transformers==4.49) (2.1.1)\n",
      "Requirement already satisfied: idna<4,>=2.5 in /usr/local/lib/python3.10/dist-packages (from requests->transformers==4.49) (3.4)\n",
      "Requirement already satisfied: urllib3<3,>=1.21.1 in /usr/local/lib/python3.10/dist-packages (from requests->transformers==4.49) (1.26.13)\n",
      "Requirement already satisfied: certifi>=2017.4.17 in /usr/local/lib/python3.10/dist-packages (from requests->transformers==4.49) (2022.12.7)\n",
      "Downloading transformers-4.49.0-py3-none-any.whl (10.0 MB)\n",
      "\u001b[2K   \u001b[90m━━━━━━━━━━━━━━━━━━━━━━━━━━━━━━━━━━━━━━━━\u001b[0m \u001b[32m10.0/10.0 MB\u001b[0m \u001b[31m120.0 MB/s\u001b[0m eta \u001b[36m0:00:00\u001b[0m \u001b[36m0:00:01\u001b[0m\n",
      "\u001b[?25hInstalling collected packages: transformers\n",
      "  Attempting uninstall: transformers\n",
      "    Found existing installation: transformers 4.52.4\n",
      "    Uninstalling transformers-4.52.4:\n",
      "      Successfully uninstalled transformers-4.52.4\n",
      "Successfully installed transformers-4.49.0\n",
      "\u001b[33mWARNING: Running pip as the 'root' user can result in broken permissions and conflicting behaviour with the system package manager. It is recommended to use a virtual environment instead: https://pip.pypa.io/warnings/venv\u001b[0m\u001b[33m\n",
      "\u001b[0m\n",
      "\u001b[1m[\u001b[0m\u001b[34;49mnotice\u001b[0m\u001b[1;39;49m]\u001b[0m\u001b[39;49m A new release of pip is available: \u001b[0m\u001b[31;49m23.3.1\u001b[0m\u001b[39;49m -> \u001b[0m\u001b[32;49m25.1.1\u001b[0m\n",
      "\u001b[1m[\u001b[0m\u001b[34;49mnotice\u001b[0m\u001b[1;39;49m]\u001b[0m\u001b[39;49m To update, run: \u001b[0m\u001b[32;49mpython -m pip install --upgrade pip\u001b[0m\n",
      "Requirement already satisfied: vllm==0.8.1 in /usr/local/lib/python3.10/dist-packages (0.8.1)\n",
      "Requirement already satisfied: cachetools in /usr/local/lib/python3.10/dist-packages (from vllm==0.8.1) (6.0.0)\n",
      "Requirement already satisfied: psutil in /usr/local/lib/python3.10/dist-packages (from vllm==0.8.1) (5.9.6)\n",
      "Requirement already satisfied: sentencepiece in /usr/local/lib/python3.10/dist-packages (from vllm==0.8.1) (0.2.0)\n",
      "Requirement already satisfied: numpy<2.0.0 in /usr/local/lib/python3.10/dist-packages (from vllm==0.8.1) (1.26.4)\n",
      "Requirement already satisfied: requests>=2.26.0 in /usr/local/lib/python3.10/dist-packages (from vllm==0.8.1) (2.32.4)\n",
      "Requirement already satisfied: tqdm in /usr/local/lib/python3.10/dist-packages (from vllm==0.8.1) (4.67.1)\n",
      "Requirement already satisfied: blake3 in /usr/local/lib/python3.10/dist-packages (from vllm==0.8.1) (1.0.5)\n",
      "Requirement already satisfied: py-cpuinfo in /usr/local/lib/python3.10/dist-packages (from vllm==0.8.1) (9.0.0)\n",
      "Requirement already satisfied: transformers>=4.48.2 in /usr/local/lib/python3.10/dist-packages (from vllm==0.8.1) (4.49.0)\n",
      "Requirement already satisfied: tokenizers>=0.19.1 in /usr/local/lib/python3.10/dist-packages (from vllm==0.8.1) (0.21.1)\n",
      "Requirement already satisfied: protobuf in /usr/local/lib/python3.10/dist-packages (from vllm==0.8.1) (4.25.8)\n",
      "Requirement already satisfied: fastapi>=0.115.0 in /usr/local/lib/python3.10/dist-packages (from fastapi[standard]>=0.115.0->vllm==0.8.1) (0.115.12)\n",
      "Requirement already satisfied: aiohttp in /usr/local/lib/python3.10/dist-packages (from vllm==0.8.1) (3.12.12)\n",
      "Requirement already satisfied: openai>=1.52.0 in /usr/local/lib/python3.10/dist-packages (from vllm==0.8.1) (1.86.0)\n",
      "Requirement already satisfied: pydantic>=2.9 in /usr/local/lib/python3.10/dist-packages (from vllm==0.8.1) (2.11.5)\n",
      "Requirement already satisfied: prometheus_client>=0.18.0 in /usr/local/lib/python3.10/dist-packages (from vllm==0.8.1) (0.18.0)\n",
      "Requirement already satisfied: pillow in /usr/local/lib/python3.10/dist-packages (from vllm==0.8.1) (11.2.1)\n",
      "Requirement already satisfied: prometheus-fastapi-instrumentator>=7.0.0 in /usr/local/lib/python3.10/dist-packages (from vllm==0.8.1) (7.1.0)\n",
      "Requirement already satisfied: tiktoken>=0.6.0 in /usr/local/lib/python3.10/dist-packages (from vllm==0.8.1) (0.9.0)\n",
      "Requirement already satisfied: lm-format-enforcer<0.11,>=0.10.11 in /usr/local/lib/python3.10/dist-packages (from vllm==0.8.1) (0.10.11)\n",
      "Requirement already satisfied: outlines==0.1.11 in /usr/local/lib/python3.10/dist-packages (from vllm==0.8.1) (0.1.11)\n",
      "Requirement already satisfied: lark==1.2.2 in /usr/local/lib/python3.10/dist-packages (from vllm==0.8.1) (1.2.2)\n",
      "Requirement already satisfied: xgrammar==0.1.16 in /usr/local/lib/python3.10/dist-packages (from vllm==0.8.1) (0.1.16)\n",
      "Requirement already satisfied: typing_extensions>=4.10 in /usr/local/lib/python3.10/dist-packages (from vllm==0.8.1) (4.14.0)\n",
      "Requirement already satisfied: filelock>=3.16.1 in /usr/local/lib/python3.10/dist-packages (from vllm==0.8.1) (3.18.0)\n",
      "Requirement already satisfied: partial-json-parser in /usr/local/lib/python3.10/dist-packages (from vllm==0.8.1) (0.2.1.1.post5)\n",
      "Requirement already satisfied: pyzmq in /usr/local/lib/python3.10/dist-packages (from vllm==0.8.1) (24.0.1)\n",
      "Requirement already satisfied: msgspec in /usr/local/lib/python3.10/dist-packages (from vllm==0.8.1) (0.19.0)\n",
      "Requirement already satisfied: gguf==0.10.0 in /usr/local/lib/python3.10/dist-packages (from vllm==0.8.1) (0.10.0)\n",
      "Requirement already satisfied: importlib_metadata in /usr/local/lib/python3.10/dist-packages (from vllm==0.8.1) (8.0.0)\n",
      "Requirement already satisfied: mistral_common>=1.5.4 in /usr/local/lib/python3.10/dist-packages (from mistral_common[opencv]>=1.5.4->vllm==0.8.1) (1.6.0)\n",
      "Requirement already satisfied: pyyaml in /usr/local/lib/python3.10/dist-packages (from vllm==0.8.1) (6.0.1)\n",
      "Requirement already satisfied: einops in /usr/local/lib/python3.10/dist-packages (from vllm==0.8.1) (0.8.1)\n",
      "Requirement already satisfied: compressed-tensors==0.9.2 in /usr/local/lib/python3.10/dist-packages (from vllm==0.8.1) (0.9.2)\n",
      "Requirement already satisfied: depyf==0.18.0 in /usr/local/lib/python3.10/dist-packages (from vllm==0.8.1) (0.18.0)\n",
      "Requirement already satisfied: cloudpickle in /usr/local/lib/python3.10/dist-packages (from vllm==0.8.1) (3.1.1)\n",
      "Requirement already satisfied: watchfiles in /usr/local/lib/python3.10/dist-packages (from vllm==0.8.1) (1.0.5)\n",
      "Requirement already satisfied: python-json-logger in /usr/local/lib/python3.10/dist-packages (from vllm==0.8.1) (2.0.7)\n",
      "Requirement already satisfied: scipy in /usr/local/lib/python3.10/dist-packages (from vllm==0.8.1) (1.15.3)\n",
      "Requirement already satisfied: ninja in /usr/local/lib/python3.10/dist-packages (from vllm==0.8.1) (1.11.1.4)\n",
      "Requirement already satisfied: numba==0.60.0 in /usr/local/lib/python3.10/dist-packages (from vllm==0.8.1) (0.60.0)\n",
      "Requirement already satisfied: ray>=2.43.0 in /usr/local/lib/python3.10/dist-packages (from ray[cgraph]>=2.43.0->vllm==0.8.1) (2.46.0)\n",
      "Requirement already satisfied: torch==2.6.0 in /usr/local/lib/python3.10/dist-packages (from vllm==0.8.1) (2.6.0)\n",
      "Requirement already satisfied: torchaudio==2.6.0 in /usr/local/lib/python3.10/dist-packages (from vllm==0.8.1) (2.6.0)\n",
      "Requirement already satisfied: torchvision==0.21.0 in /usr/local/lib/python3.10/dist-packages (from vllm==0.8.1) (0.21.0)\n",
      "Requirement already satisfied: xformers==0.0.29.post2 in /usr/local/lib/python3.10/dist-packages (from vllm==0.8.1) (0.0.29.post2)\n",
      "Requirement already satisfied: astor in /usr/local/lib/python3.10/dist-packages (from depyf==0.18.0->vllm==0.8.1) (0.8.1)\n",
      "Requirement already satisfied: dill in /usr/local/lib/python3.10/dist-packages (from depyf==0.18.0->vllm==0.8.1) (0.3.8)\n",
      "Requirement already satisfied: llvmlite<0.44,>=0.43.0dev0 in /usr/local/lib/python3.10/dist-packages (from numba==0.60.0->vllm==0.8.1) (0.43.0)\n",
      "Requirement already satisfied: interegular in /usr/local/lib/python3.10/dist-packages (from outlines==0.1.11->vllm==0.8.1) (0.3.3)\n",
      "Requirement already satisfied: jinja2 in /usr/local/lib/python3.10/dist-packages (from outlines==0.1.11->vllm==0.8.1) (3.1.6)\n",
      "Requirement already satisfied: nest_asyncio in /usr/local/lib/python3.10/dist-packages (from outlines==0.1.11->vllm==0.8.1) (1.5.8)\n",
      "Requirement already satisfied: diskcache in /usr/local/lib/python3.10/dist-packages (from outlines==0.1.11->vllm==0.8.1) (5.6.3)\n",
      "Requirement already satisfied: referencing in /usr/local/lib/python3.10/dist-packages (from outlines==0.1.11->vllm==0.8.1) (0.30.2)\n",
      "Requirement already satisfied: jsonschema in /usr/local/lib/python3.10/dist-packages (from outlines==0.1.11->vllm==0.8.1) (4.24.0)\n",
      "Requirement already satisfied: pycountry in /usr/local/lib/python3.10/dist-packages (from outlines==0.1.11->vllm==0.8.1) (24.6.1)\n",
      "Requirement already satisfied: airportsdata in /usr/local/lib/python3.10/dist-packages (from outlines==0.1.11->vllm==0.8.1) (20250523)\n",
      "Requirement already satisfied: outlines_core==0.1.26 in /usr/local/lib/python3.10/dist-packages (from outlines==0.1.11->vllm==0.8.1) (0.1.26)\n",
      "Requirement already satisfied: networkx in /usr/local/lib/python3.10/dist-packages (from torch==2.6.0->vllm==0.8.1) (3.0)\n",
      "Requirement already satisfied: fsspec in /usr/local/lib/python3.10/dist-packages (from torch==2.6.0->vllm==0.8.1) (2024.6.1)\n",
      "Requirement already satisfied: nvidia-cuda-nvrtc-cu12==12.4.127 in /usr/local/lib/python3.10/dist-packages (from torch==2.6.0->vllm==0.8.1) (12.4.127)\n",
      "Requirement already satisfied: nvidia-cuda-runtime-cu12==12.4.127 in /usr/local/lib/python3.10/dist-packages (from torch==2.6.0->vllm==0.8.1) (12.4.127)\n",
      "Requirement already satisfied: nvidia-cuda-cupti-cu12==12.4.127 in /usr/local/lib/python3.10/dist-packages (from torch==2.6.0->vllm==0.8.1) (12.4.127)\n",
      "Requirement already satisfied: nvidia-cudnn-cu12==9.1.0.70 in /usr/local/lib/python3.10/dist-packages (from torch==2.6.0->vllm==0.8.1) (9.1.0.70)\n",
      "Requirement already satisfied: nvidia-cublas-cu12==12.4.5.8 in /usr/local/lib/python3.10/dist-packages (from torch==2.6.0->vllm==0.8.1) (12.4.5.8)\n",
      "Requirement already satisfied: nvidia-cufft-cu12==11.2.1.3 in /usr/local/lib/python3.10/dist-packages (from torch==2.6.0->vllm==0.8.1) (11.2.1.3)\n",
      "Requirement already satisfied: nvidia-curand-cu12==10.3.5.147 in /usr/local/lib/python3.10/dist-packages (from torch==2.6.0->vllm==0.8.1) (10.3.5.147)\n",
      "Requirement already satisfied: nvidia-cusolver-cu12==11.6.1.9 in /usr/local/lib/python3.10/dist-packages (from torch==2.6.0->vllm==0.8.1) (11.6.1.9)\n",
      "Requirement already satisfied: nvidia-cusparse-cu12==12.3.1.170 in /usr/local/lib/python3.10/dist-packages (from torch==2.6.0->vllm==0.8.1) (12.3.1.170)\n",
      "Requirement already satisfied: nvidia-cusparselt-cu12==0.6.2 in /usr/local/lib/python3.10/dist-packages (from torch==2.6.0->vllm==0.8.1) (0.6.2)\n",
      "Requirement already satisfied: nvidia-nccl-cu12==2.21.5 in /usr/local/lib/python3.10/dist-packages (from torch==2.6.0->vllm==0.8.1) (2.21.5)\n",
      "Requirement already satisfied: nvidia-nvtx-cu12==12.4.127 in /usr/local/lib/python3.10/dist-packages (from torch==2.6.0->vllm==0.8.1) (12.4.127)\n",
      "Requirement already satisfied: nvidia-nvjitlink-cu12==12.4.127 in /usr/local/lib/python3.10/dist-packages (from torch==2.6.0->vllm==0.8.1) (12.4.127)\n",
      "Requirement already satisfied: triton==3.2.0 in /usr/local/lib/python3.10/dist-packages (from torch==2.6.0->vllm==0.8.1) (3.2.0)\n",
      "Requirement already satisfied: sympy==1.13.1 in /usr/local/lib/python3.10/dist-packages (from torch==2.6.0->vllm==0.8.1) (1.13.1)\n",
      "Requirement already satisfied: mpmath<1.4,>=1.1.0 in /usr/local/lib/python3.10/dist-packages (from sympy==1.13.1->torch==2.6.0->vllm==0.8.1) (1.3.0)\n",
      "Requirement already satisfied: starlette<0.47.0,>=0.40.0 in /usr/local/lib/python3.10/dist-packages (from fastapi>=0.115.0->fastapi[standard]>=0.115.0->vllm==0.8.1) (0.46.2)\n",
      "Requirement already satisfied: fastapi-cli>=0.0.5 in /usr/local/lib/python3.10/dist-packages (from fastapi-cli[standard]>=0.0.5; extra == \"standard\"->fastapi[standard]>=0.115.0->vllm==0.8.1) (0.0.7)\n",
      "Requirement already satisfied: httpx>=0.23.0 in /usr/local/lib/python3.10/dist-packages (from fastapi[standard]>=0.115.0->vllm==0.8.1) (0.28.1)\n",
      "Requirement already satisfied: python-multipart>=0.0.18 in /usr/local/lib/python3.10/dist-packages (from fastapi[standard]>=0.115.0->vllm==0.8.1) (0.0.20)\n",
      "Requirement already satisfied: email-validator>=2.0.0 in /usr/local/lib/python3.10/dist-packages (from fastapi[standard]>=0.115.0->vllm==0.8.1) (2.2.0)\n",
      "Requirement already satisfied: uvicorn>=0.12.0 in /usr/local/lib/python3.10/dist-packages (from uvicorn[standard]>=0.12.0; extra == \"standard\"->fastapi[standard]>=0.115.0->vllm==0.8.1) (0.34.3)\n",
      "Requirement already satisfied: packaging in /usr/local/lib/python3.10/dist-packages (from lm-format-enforcer<0.11,>=0.10.11->vllm==0.8.1) (23.2)\n",
      "Requirement already satisfied: opencv-python-headless>=4.0.0 in /usr/local/lib/python3.10/dist-packages (from mistral_common[opencv]>=1.5.4->vllm==0.8.1) (4.11.0.86)\n",
      "Requirement already satisfied: anyio<5,>=3.5.0 in /usr/local/lib/python3.10/dist-packages (from openai>=1.52.0->vllm==0.8.1) (4.0.0)\n",
      "Requirement already satisfied: distro<2,>=1.7.0 in /usr/lib/python3/dist-packages (from openai>=1.52.0->vllm==0.8.1) (1.7.0)\n",
      "Requirement already satisfied: jiter<1,>=0.4.0 in /usr/local/lib/python3.10/dist-packages (from openai>=1.52.0->vllm==0.8.1) (0.10.0)\n",
      "Requirement already satisfied: sniffio in /usr/local/lib/python3.10/dist-packages (from openai>=1.52.0->vllm==0.8.1) (1.3.0)\n",
      "Requirement already satisfied: annotated-types>=0.6.0 in /usr/local/lib/python3.10/dist-packages (from pydantic>=2.9->vllm==0.8.1) (0.7.0)\n",
      "Requirement already satisfied: pydantic-core==2.33.2 in /usr/local/lib/python3.10/dist-packages (from pydantic>=2.9->vllm==0.8.1) (2.33.2)\n",
      "Requirement already satisfied: typing-inspection>=0.4.0 in /usr/local/lib/python3.10/dist-packages (from pydantic>=2.9->vllm==0.8.1) (0.4.1)\n",
      "Requirement already satisfied: click>=7.0 in /usr/local/lib/python3.10/dist-packages (from ray>=2.43.0->ray[cgraph]>=2.43.0->vllm==0.8.1) (8.2.1)\n",
      "Requirement already satisfied: msgpack<2.0.0,>=1.0.0 in /usr/local/lib/python3.10/dist-packages (from ray>=2.43.0->ray[cgraph]>=2.43.0->vllm==0.8.1) (1.1.0)\n",
      "Requirement already satisfied: cupy-cuda12x in /usr/local/lib/python3.10/dist-packages (from ray[cgraph]>=2.43.0->vllm==0.8.1) (13.4.1)\n",
      "Requirement already satisfied: charset_normalizer<4,>=2 in /usr/local/lib/python3.10/dist-packages (from requests>=2.26.0->vllm==0.8.1) (2.1.1)\n",
      "Requirement already satisfied: idna<4,>=2.5 in /usr/local/lib/python3.10/dist-packages (from requests>=2.26.0->vllm==0.8.1) (3.4)\n",
      "Requirement already satisfied: urllib3<3,>=1.21.1 in /usr/local/lib/python3.10/dist-packages (from requests>=2.26.0->vllm==0.8.1) (1.26.13)\n",
      "Requirement already satisfied: certifi>=2017.4.17 in /usr/local/lib/python3.10/dist-packages (from requests>=2.26.0->vllm==0.8.1) (2022.12.7)\n",
      "Requirement already satisfied: regex>=2022.1.18 in /usr/local/lib/python3.10/dist-packages (from tiktoken>=0.6.0->vllm==0.8.1) (2024.11.6)\n",
      "Requirement already satisfied: huggingface-hub<1.0,>=0.16.4 in /usr/local/lib/python3.10/dist-packages (from tokenizers>=0.19.1->vllm==0.8.1) (0.32.5)\n",
      "Requirement already satisfied: safetensors>=0.4.1 in /usr/local/lib/python3.10/dist-packages (from transformers>=4.48.2->vllm==0.8.1) (0.5.3)\n",
      "Requirement already satisfied: aiohappyeyeballs>=2.5.0 in /usr/local/lib/python3.10/dist-packages (from aiohttp->vllm==0.8.1) (2.6.1)\n",
      "Requirement already satisfied: aiosignal>=1.1.2 in /usr/local/lib/python3.10/dist-packages (from aiohttp->vllm==0.8.1) (1.3.2)\n",
      "Requirement already satisfied: async-timeout<6.0,>=4.0 in /usr/local/lib/python3.10/dist-packages (from aiohttp->vllm==0.8.1) (5.0.1)\n",
      "Requirement already satisfied: attrs>=17.3.0 in /usr/local/lib/python3.10/dist-packages (from aiohttp->vllm==0.8.1) (23.1.0)\n",
      "Requirement already satisfied: frozenlist>=1.1.1 in /usr/local/lib/python3.10/dist-packages (from aiohttp->vllm==0.8.1) (1.7.0)\n",
      "Requirement already satisfied: multidict<7.0,>=4.5 in /usr/local/lib/python3.10/dist-packages (from aiohttp->vllm==0.8.1) (6.4.4)\n",
      "Requirement already satisfied: propcache>=0.2.0 in /usr/local/lib/python3.10/dist-packages (from aiohttp->vllm==0.8.1) (0.3.2)\n",
      "Requirement already satisfied: yarl<2.0,>=1.17.0 in /usr/local/lib/python3.10/dist-packages (from aiohttp->vllm==0.8.1) (1.20.1)\n",
      "Requirement already satisfied: zipp>=0.5 in /usr/lib/python3/dist-packages (from importlib_metadata->vllm==0.8.1) (1.0.0)\n",
      "Requirement already satisfied: exceptiongroup>=1.0.2 in /usr/local/lib/python3.10/dist-packages (from anyio<5,>=3.5.0->openai>=1.52.0->vllm==0.8.1) (1.1.3)\n",
      "Requirement already satisfied: dnspython>=2.0.0 in /usr/local/lib/python3.10/dist-packages (from email-validator>=2.0.0->fastapi[standard]>=0.115.0->vllm==0.8.1) (2.7.0)\n",
      "Requirement already satisfied: typer>=0.12.3 in /usr/local/lib/python3.10/dist-packages (from fastapi-cli>=0.0.5->fastapi-cli[standard]>=0.0.5; extra == \"standard\"->fastapi[standard]>=0.115.0->vllm==0.8.1) (0.16.0)\n",
      "Requirement already satisfied: rich-toolkit>=0.11.1 in /usr/local/lib/python3.10/dist-packages (from fastapi-cli>=0.0.5->fastapi-cli[standard]>=0.0.5; extra == \"standard\"->fastapi[standard]>=0.115.0->vllm==0.8.1) (0.14.7)\n",
      "Requirement already satisfied: httpcore==1.* in /usr/local/lib/python3.10/dist-packages (from httpx>=0.23.0->fastapi[standard]>=0.115.0->vllm==0.8.1) (1.0.9)\n",
      "Requirement already satisfied: h11>=0.16 in /usr/local/lib/python3.10/dist-packages (from httpcore==1.*->httpx>=0.23.0->fastapi[standard]>=0.115.0->vllm==0.8.1) (0.16.0)\n",
      "Requirement already satisfied: hf-xet<2.0.0,>=1.1.2 in /usr/local/lib/python3.10/dist-packages (from huggingface-hub<1.0,>=0.16.4->tokenizers>=0.19.1->vllm==0.8.1) (1.1.3)\n",
      "Requirement already satisfied: MarkupSafe>=2.0 in /usr/local/lib/python3.10/dist-packages (from jinja2->outlines==0.1.11->vllm==0.8.1) (2.1.2)\n",
      "Requirement already satisfied: jsonschema-specifications>=2023.03.6 in /usr/local/lib/python3.10/dist-packages (from jsonschema->outlines==0.1.11->vllm==0.8.1) (2023.7.1)\n",
      "Requirement already satisfied: rpds-py>=0.7.1 in /usr/local/lib/python3.10/dist-packages (from jsonschema->outlines==0.1.11->vllm==0.8.1) (0.12.0)\n",
      "Requirement already satisfied: httptools>=0.6.3 in /usr/local/lib/python3.10/dist-packages (from uvicorn[standard]>=0.12.0; extra == \"standard\"->fastapi[standard]>=0.115.0->vllm==0.8.1) (0.6.4)\n",
      "Requirement already satisfied: python-dotenv>=0.13 in /usr/local/lib/python3.10/dist-packages (from uvicorn[standard]>=0.12.0; extra == \"standard\"->fastapi[standard]>=0.115.0->vllm==0.8.1) (1.1.0)\n",
      "Requirement already satisfied: uvloop>=0.15.1 in /usr/local/lib/python3.10/dist-packages (from uvicorn[standard]>=0.12.0; extra == \"standard\"->fastapi[standard]>=0.115.0->vllm==0.8.1) (0.21.0)\n",
      "Requirement already satisfied: websockets>=10.4 in /usr/local/lib/python3.10/dist-packages (from uvicorn[standard]>=0.12.0; extra == \"standard\"->fastapi[standard]>=0.115.0->vllm==0.8.1) (15.0.1)\n",
      "Requirement already satisfied: fastrlock>=0.5 in /usr/local/lib/python3.10/dist-packages (from cupy-cuda12x->ray[cgraph]>=2.43.0->vllm==0.8.1) (0.8.3)\n",
      "Requirement already satisfied: rich>=13.7.1 in /usr/local/lib/python3.10/dist-packages (from rich-toolkit>=0.11.1->fastapi-cli>=0.0.5->fastapi-cli[standard]>=0.0.5; extra == \"standard\"->fastapi[standard]>=0.115.0->vllm==0.8.1) (14.0.0)\n",
      "Requirement already satisfied: shellingham>=1.3.0 in /usr/local/lib/python3.10/dist-packages (from typer>=0.12.3->fastapi-cli>=0.0.5->fastapi-cli[standard]>=0.0.5; extra == \"standard\"->fastapi[standard]>=0.115.0->vllm==0.8.1) (1.5.4)\n",
      "Requirement already satisfied: markdown-it-py>=2.2.0 in /usr/local/lib/python3.10/dist-packages (from rich>=13.7.1->rich-toolkit>=0.11.1->fastapi-cli>=0.0.5->fastapi-cli[standard]>=0.0.5; extra == \"standard\"->fastapi[standard]>=0.115.0->vllm==0.8.1) (3.0.0)\n",
      "Requirement already satisfied: pygments<3.0.0,>=2.13.0 in /usr/local/lib/python3.10/dist-packages (from rich>=13.7.1->rich-toolkit>=0.11.1->fastapi-cli>=0.0.5->fastapi-cli[standard]>=0.0.5; extra == \"standard\"->fastapi[standard]>=0.115.0->vllm==0.8.1) (2.16.1)\n",
      "Requirement already satisfied: mdurl~=0.1 in /usr/local/lib/python3.10/dist-packages (from markdown-it-py>=2.2.0->rich>=13.7.1->rich-toolkit>=0.11.1->fastapi-cli>=0.0.5->fastapi-cli[standard]>=0.0.5; extra == \"standard\"->fastapi[standard]>=0.115.0->vllm==0.8.1) (0.1.2)\n",
      "\u001b[33mWARNING: Running pip as the 'root' user can result in broken permissions and conflicting behaviour with the system package manager. It is recommended to use a virtual environment instead: https://pip.pypa.io/warnings/venv\u001b[0m\u001b[33m\n",
      "\u001b[0m\n",
      "\u001b[1m[\u001b[0m\u001b[34;49mnotice\u001b[0m\u001b[1;39;49m]\u001b[0m\u001b[39;49m A new release of pip is available: \u001b[0m\u001b[31;49m23.3.1\u001b[0m\u001b[39;49m -> \u001b[0m\u001b[32;49m25.1.1\u001b[0m\n",
      "\u001b[1m[\u001b[0m\u001b[34;49mnotice\u001b[0m\u001b[1;39;49m]\u001b[0m\u001b[39;49m To update, run: \u001b[0m\u001b[32;49mpython -m pip install --upgrade pip\u001b[0m\n"
     ]
    }
   ],
   "source": [
    "!pip install qwen-vl-utils\n",
    "!pip install transformers==4.49\n",
    "!pip install vllm==0.8.1"
   ]
  },
  {
   "cell_type": "markdown",
   "id": "f8f34bac-aff4-4a04-bd59-f00f2b4d1063",
   "metadata": {},
   "source": [
    "Kernel > Restart Kernel"
   ]
  },
  {
   "cell_type": "markdown",
   "id": "86b92464-7a2c-41b3-9c10-66c41104b1f7",
   "metadata": {},
   "source": [
    "## 1. 모델 로드"
   ]
  },
  {
   "cell_type": "code",
   "execution_count": 1,
   "id": "7a7deebb-d325-406f-a925-cf781eceb9ae",
   "metadata": {},
   "outputs": [
    {
     "name": "stdout",
     "output_type": "stream",
     "text": [
      "INFO 06-11 06:07:20 [__init__.py:256] Automatically detected platform cuda.\n",
      "INFO 06-11 06:07:21 [config.py:2595] Downcasting torch.float32 to torch.float16.\n",
      "INFO 06-11 06:07:28 [config.py:583] This model supports multiple tasks: {'classify', 'embed', 'generate', 'reward', 'score'}. Defaulting to 'generate'.\n",
      "INFO 06-11 06:07:28 [config.py:1693] Chunked prefill is enabled with max_num_batched_tokens=8192.\n",
      "INFO 06-11 06:07:30 [core.py:53] Initializing a V1 LLM engine (v0.8.1) with config: model='iamjoon/Qwen2-VL-7B-Instruct-fashion-product-images-small-checkpoint-68', speculative_config=None, tokenizer='iamjoon/Qwen2-VL-7B-Instruct-fashion-product-images-small-checkpoint-68', skip_tokenizer_init=False, tokenizer_mode=auto, revision=None, override_neuron_config=None, tokenizer_revision=None, trust_remote_code=True, dtype=torch.float16, max_seq_len=32768, download_dir=None, load_format=auto, tensor_parallel_size=1, pipeline_parallel_size=1, disable_custom_all_reduce=False, quantization=None, enforce_eager=False, kv_cache_dtype=auto,  device_config=cuda, decoding_config=DecodingConfig(guided_decoding_backend='xgrammar', reasoning_backend=None), observability_config=ObservabilityConfig(show_hidden_metrics=False, otlp_traces_endpoint=None, collect_model_forward_time=False, collect_model_execute_time=False), seed=None, served_model_name=iamjoon/Qwen2-VL-7B-Instruct-fashion-product-images-small-checkpoint-68, num_scheduler_steps=1, multi_step_stream_outputs=True, enable_prefix_caching=True, chunked_prefill_enabled=True, use_async_output_proc=True, disable_mm_preprocessor_cache=False, mm_processor_kwargs=None, pooler_config=None, compilation_config={\"level\":3,\"custom_ops\":[\"none\"],\"splitting_ops\":[\"vllm.unified_attention\",\"vllm.unified_attention_with_output\"],\"use_inductor\":true,\"compile_sizes\":[],\"use_cudagraph\":true,\"cudagraph_num_of_warmups\":1,\"cudagraph_capture_sizes\":[512,504,496,488,480,472,464,456,448,440,432,424,416,408,400,392,384,376,368,360,352,344,336,328,320,312,304,296,288,280,272,264,256,248,240,232,224,216,208,200,192,184,176,168,160,152,144,136,128,120,112,104,96,88,80,72,64,56,48,40,32,24,16,8,4,2,1],\"max_capture_size\":512}\n",
      "WARNING 06-11 06:07:31 [utils.py:2282] Methods determine_num_available_blocks,device_config,get_cache_block_size_bytes,initialize_cache not implemented in <vllm.v1.worker.gpu_worker.Worker object at 0x74e344722110>\n",
      "INFO 06-11 06:07:33 [parallel_state.py:967] rank 0 in world size 1 is assigned as DP rank 0, PP rank 0, TP rank 0\n",
      "INFO 06-11 06:07:33 [cuda.py:215] Using Flash Attention backend on V1 engine.\n"
     ]
    },
    {
     "name": "stderr",
     "output_type": "stream",
     "text": [
      "Using a slow image processor as `use_fast` is unset and a slow processor was saved with this model. `use_fast=True` will be the default behavior in v4.48, even if the model was saved with a slow processor. This will result in minor differences in outputs. You'll still be able to use a slow processor with `use_fast=False`.\n"
     ]
    },
    {
     "name": "stdout",
     "output_type": "stream",
     "text": [
      "INFO 06-11 06:07:34 [gpu_model_runner.py:1164] Starting to load model iamjoon/Qwen2-VL-7B-Instruct-fashion-product-images-small-checkpoint-68...\n",
      "WARNING 06-11 06:07:34 [vision.py:97] Current `vllm-flash-attn` has a bug inside vision module, so we use xformers backend instead. You can run `pip install flash-attn` to use flash-attention backend.\n",
      "INFO 06-11 06:07:34 [config.py:3222] cudagraph sizes specified by model runner [1, 2, 4, 8, 16, 24, 32, 40, 48, 56, 64, 72, 80, 88, 96, 104, 112, 120, 128, 136, 144, 152, 160, 168, 176, 184, 192, 200, 208, 216, 224, 232, 240, 248, 256, 264, 272, 280, 288, 296, 304, 312, 320, 328, 336, 344, 352, 360, 368, 376, 384, 392, 400, 408, 416, 424, 432, 440, 448, 456, 464, 472, 480, 488, 496, 504, 512] is overridden by config [512, 384, 256, 128, 4, 2, 1, 392, 264, 136, 8, 400, 272, 144, 16, 408, 280, 152, 24, 416, 288, 160, 32, 424, 296, 168, 40, 432, 304, 176, 48, 440, 312, 184, 56, 448, 320, 192, 64, 456, 328, 200, 72, 464, 336, 208, 80, 472, 344, 216, 88, 120, 480, 352, 248, 224, 96, 488, 504, 360, 232, 104, 496, 368, 240, 112, 376]\n",
      "WARNING 06-11 06:07:34 [topk_topp_sampler.py:63] FlashInfer is not available. Falling back to the PyTorch-native implementation of top-p & top-k sampling. For the best performance, please install FlashInfer.\n",
      "INFO 06-11 06:07:34 [weight_utils.py:257] Using model weights format ['*.safetensors']\n"
     ]
    },
    {
     "data": {
      "application/vnd.jupyter.widget-view+json": {
       "model_id": "08be676fc5f244d09ac676a3eb895c66",
       "version_major": 2,
       "version_minor": 0
      },
      "text/plain": [
       "model-00003-of-00018.safetensors:   0%|          | 0.00/1.76G [00:00<?, ?B/s]"
      ]
     },
     "metadata": {},
     "output_type": "display_data"
    },
    {
     "data": {
      "application/vnd.jupyter.widget-view+json": {
       "model_id": "fdb1840a10194144a974cc99c1ca56d4",
       "version_major": 2,
       "version_minor": 0
      },
      "text/plain": [
       "model-00002-of-00018.safetensors:   0%|          | 0.00/2.18G [00:00<?, ?B/s]"
      ]
     },
     "metadata": {},
     "output_type": "display_data"
    },
    {
     "data": {
      "application/vnd.jupyter.widget-view+json": {
       "model_id": "8c9937758d9c4a068a2e51800e3e3b2c",
       "version_major": 2,
       "version_minor": 0
      },
      "text/plain": [
       "model-00005-of-00018.safetensors:   0%|          | 0.00/1.86G [00:00<?, ?B/s]"
      ]
     },
     "metadata": {},
     "output_type": "display_data"
    },
    {
     "data": {
      "application/vnd.jupyter.widget-view+json": {
       "model_id": "c4843a124c584fb08271b62943b26586",
       "version_major": 2,
       "version_minor": 0
      },
      "text/plain": [
       "model-00004-of-00018.safetensors:   0%|          | 0.00/1.86G [00:00<?, ?B/s]"
      ]
     },
     "metadata": {},
     "output_type": "display_data"
    },
    {
     "data": {
      "application/vnd.jupyter.widget-view+json": {
       "model_id": "4f8710d2dde44d3a858e231a13c0ec28",
       "version_major": 2,
       "version_minor": 0
      },
      "text/plain": [
       "model-00001-of-00018.safetensors:   0%|          | 0.00/1.99G [00:00<?, ?B/s]"
      ]
     },
     "metadata": {},
     "output_type": "display_data"
    },
    {
     "data": {
      "application/vnd.jupyter.widget-view+json": {
       "model_id": "37089e9b0a0c4321be96bd7f3660fc78",
       "version_major": 2,
       "version_minor": 0
      },
      "text/plain": [
       "model-00006-of-00018.safetensors:   0%|          | 0.00/1.86G [00:00<?, ?B/s]"
      ]
     },
     "metadata": {},
     "output_type": "display_data"
    },
    {
     "data": {
      "application/vnd.jupyter.widget-view+json": {
       "model_id": "85a6a0277bb5465999b56c8fd95e37f3",
       "version_major": 2,
       "version_minor": 0
      },
      "text/plain": [
       "model-00008-of-00018.safetensors:   0%|          | 0.00/1.86G [00:00<?, ?B/s]"
      ]
     },
     "metadata": {},
     "output_type": "display_data"
    },
    {
     "data": {
      "application/vnd.jupyter.widget-view+json": {
       "model_id": "dddffb71b6ae452ea833f36fc378bb0c",
       "version_major": 2,
       "version_minor": 0
      },
      "text/plain": [
       "model-00007-of-00018.safetensors:   0%|          | 0.00/1.86G [00:00<?, ?B/s]"
      ]
     },
     "metadata": {},
     "output_type": "display_data"
    },
    {
     "data": {
      "application/vnd.jupyter.widget-view+json": {
       "model_id": "b2796d66c87b4f3082b7c713cd792200",
       "version_major": 2,
       "version_minor": 0
      },
      "text/plain": [
       "model-00009-of-00018.safetensors:   0%|          | 0.00/1.86G [00:00<?, ?B/s]"
      ]
     },
     "metadata": {},
     "output_type": "display_data"
    },
    {
     "data": {
      "application/vnd.jupyter.widget-view+json": {
       "model_id": "dfcc26ad90824dbcab8385fd3e3f1572",
       "version_major": 2,
       "version_minor": 0
      },
      "text/plain": [
       "model-00010-of-00018.safetensors:   0%|          | 0.00/1.86G [00:00<?, ?B/s]"
      ]
     },
     "metadata": {},
     "output_type": "display_data"
    },
    {
     "data": {
      "application/vnd.jupyter.widget-view+json": {
       "model_id": "c05b96f508394a1997dbded63aac2d81",
       "version_major": 2,
       "version_minor": 0
      },
      "text/plain": [
       "model-00011-of-00018.safetensors:   0%|          | 0.00/1.86G [00:00<?, ?B/s]"
      ]
     },
     "metadata": {},
     "output_type": "display_data"
    },
    {
     "data": {
      "application/vnd.jupyter.widget-view+json": {
       "model_id": "7ecba038bfee411397ba7496dd411460",
       "version_major": 2,
       "version_minor": 0
      },
      "text/plain": [
       "model-00012-of-00018.safetensors:   0%|          | 0.00/1.86G [00:00<?, ?B/s]"
      ]
     },
     "metadata": {},
     "output_type": "display_data"
    },
    {
     "data": {
      "application/vnd.jupyter.widget-view+json": {
       "model_id": "3808521375e04f51b5022367ae2452ff",
       "version_major": 2,
       "version_minor": 0
      },
      "text/plain": [
       "model-00013-of-00018.safetensors:   0%|          | 0.00/1.86G [00:00<?, ?B/s]"
      ]
     },
     "metadata": {},
     "output_type": "display_data"
    },
    {
     "data": {
      "application/vnd.jupyter.widget-view+json": {
       "model_id": "77b5655b464b4c0fafecdfc91dbba74f",
       "version_major": 2,
       "version_minor": 0
      },
      "text/plain": [
       "model-00014-of-00018.safetensors:   0%|          | 0.00/1.86G [00:00<?, ?B/s]"
      ]
     },
     "metadata": {},
     "output_type": "display_data"
    },
    {
     "data": {
      "application/vnd.jupyter.widget-view+json": {
       "model_id": "d9a5206cf8bf464fa76487b4a44b5bbf",
       "version_major": 2,
       "version_minor": 0
      },
      "text/plain": [
       "model-00015-of-00018.safetensors:   0%|          | 0.00/1.86G [00:00<?, ?B/s]"
      ]
     },
     "metadata": {},
     "output_type": "display_data"
    },
    {
     "data": {
      "application/vnd.jupyter.widget-view+json": {
       "model_id": "8cb0c7f55bd14affb591f16250bcdfda",
       "version_major": 2,
       "version_minor": 0
      },
      "text/plain": [
       "model-00016-of-00018.safetensors:   0%|          | 0.00/1.86G [00:00<?, ?B/s]"
      ]
     },
     "metadata": {},
     "output_type": "display_data"
    },
    {
     "data": {
      "application/vnd.jupyter.widget-view+json": {
       "model_id": "842588e7efc9405daf1bfd974c7b10d4",
       "version_major": 2,
       "version_minor": 0
      },
      "text/plain": [
       "model-00017-of-00018.safetensors:   0%|          | 0.00/2.18G [00:00<?, ?B/s]"
      ]
     },
     "metadata": {},
     "output_type": "display_data"
    },
    {
     "data": {
      "application/vnd.jupyter.widget-view+json": {
       "model_id": "caf41156f2c54609b6f4ae1212e7f7e7",
       "version_major": 2,
       "version_minor": 0
      },
      "text/plain": [
       "model-00018-of-00018.safetensors:   0%|          | 0.00/815M [00:00<?, ?B/s]"
      ]
     },
     "metadata": {},
     "output_type": "display_data"
    },
    {
     "name": "stdout",
     "output_type": "stream",
     "text": [
      "INFO 06-11 06:09:11 [weight_utils.py:273] Time spent downloading weights for iamjoon/Qwen2-VL-7B-Instruct-fashion-product-images-small-checkpoint-68: 96.721148 seconds\n"
     ]
    },
    {
     "data": {
      "application/vnd.jupyter.widget-view+json": {
       "model_id": "6fdfea79de8b42439c5be6b787e44bb6",
       "version_major": 2,
       "version_minor": 0
      },
      "text/plain": [
       "model.safetensors.index.json:   0%|          | 0.00/56.5k [00:00<?, ?B/s]"
      ]
     },
     "metadata": {},
     "output_type": "display_data"
    },
    {
     "data": {
      "application/vnd.jupyter.widget-view+json": {
       "model_id": "2c46dfcb88b14c2eace5099751b819fa",
       "version_major": 2,
       "version_minor": 0
      },
      "text/plain": [
       "Loading safetensors checkpoint shards:   0% Completed | 0/18 [00:00<?, ?it/s]\n"
      ]
     },
     "metadata": {},
     "output_type": "display_data"
    },
    {
     "name": "stdout",
     "output_type": "stream",
     "text": [
      "INFO 06-11 06:09:21 [loader.py:429] Loading weights took 10.06 seconds\n",
      "INFO 06-11 06:09:21 [gpu_model_runner.py:1176] Model loading took 15.5313 GB and 107.460755 seconds\n",
      "INFO 06-11 06:09:21 [gpu_model_runner.py:1421] Encoder cache will be initialized with a budget of 16384 tokens, and profiled with 1 image items of the maximum feature size.\n"
     ]
    },
    {
     "data": {
      "application/vnd.jupyter.widget-view+json": {
       "model_id": "e39b88c6cd674136af8c1390971bc076",
       "version_major": 2,
       "version_minor": 0
      },
      "text/plain": [
       "chat_template.json:   0%|          | 0.00/1.05k [00:00<?, ?B/s]"
      ]
     },
     "metadata": {},
     "output_type": "display_data"
    },
    {
     "name": "stderr",
     "output_type": "stream",
     "text": [
      "Token indices sequence length is longer than the specified maximum sequence length for this model (327680 > 32768). Running this sequence through the model will result in indexing errors\n"
     ]
    },
    {
     "name": "stdout",
     "output_type": "stream",
     "text": [
      "INFO 06-11 06:10:00 [backends.py:409] Using cache directory: /root/.cache/vllm/torch_compile_cache/7c162d842a/rank_0_0 for vLLM's torch.compile\n",
      "INFO 06-11 06:10:00 [backends.py:419] Dynamo bytecode transform time: 5.89 s\n",
      "INFO 06-11 06:10:04 [backends.py:132] Cache the graph of shape None for later use\n",
      "INFO 06-11 06:10:26 [backends.py:144] Compiling a graph for general shape takes 24.78 s\n",
      "INFO 06-11 06:10:42 [monitor.py:33] torch.compile takes 30.67 s in total\n",
      "INFO 06-11 06:10:43 [kv_cache_utils.py:537] GPU KV cache size: 910,736 tokens\n",
      "INFO 06-11 06:10:43 [kv_cache_utils.py:540] Maximum concurrency for 32,768 tokens per request: 27.79x\n",
      "INFO 06-11 06:11:12 [gpu_model_runner.py:1499] Graph capturing finished in 29 secs, took 0.49 GiB\n",
      "INFO 06-11 06:11:13 [core.py:138] init engine (profile, create kv cache, warmup model) took 111.13 seconds\n"
     ]
    }
   ],
   "source": [
    "from transformers import AutoProcessor\n",
    "from vllm import LLM, SamplingParams\n",
    "from qwen_vl_utils import process_vision_info\n",
    "\n",
    "MODEL_PATH = \"iamjoon/Qwen2-VL-7B-Instruct-fashion-product-images-small-checkpoint-68\"\n",
    "\n",
    "llm = LLM(\n",
    "    model=MODEL_PATH,\n",
    "    trust_remote_code=True,\n",
    "    limit_mm_per_prompt={\"image\": 10, \"video\": 10},\n",
    ")"
   ]
  },
  {
   "cell_type": "markdown",
   "id": "ada930f4-0b2a-420b-a8bb-30248f9233ea",
   "metadata": {},
   "source": [
    "## 2. 테스트 데이터 로드 및 전처리"
   ]
  },
  {
   "cell_type": "code",
   "execution_count": 15,
   "id": "6ca0e737-519e-4254-929e-bff70d550c97",
   "metadata": {},
   "outputs": [],
   "source": [
    "import io\n",
    "import json\n",
    "from PIL import Image\n",
    "from datasets import load_dataset\n",
    "from sklearn.model_selection import train_test_split"
   ]
  },
  {
   "cell_type": "code",
   "execution_count": 2,
   "id": "5bee70a2-f683-496f-8db7-5eb5837ec16a",
   "metadata": {},
   "outputs": [],
   "source": [
    "# 시스템(assistant)에게 주어진 역할\n",
    "system_message = \"당신은 이미지와 제품명(name)으로부터 패션/스타일 정보를 추론하는 분류 모델입니다.\"\n",
    "\n",
    "# 실제로 사용자 입력 -> 모델이 답해야 하는 프롬프트\n",
    "prompt = \"\"\"입력 정보:\n",
    "- name: {name}\n",
    "- image: [image]\n",
    "\n",
    "위 정보를 바탕으로, 아래 7가지 key에 대한 값을 JSON 형태로 추론해 주세요:\n",
    "1) gender\n",
    "2) masterCategory\n",
    "3) subCategory\n",
    "4) season\n",
    "5) usage\n",
    "6) baseColour\n",
    "7) articleType\n",
    "\n",
    "출력 시 **아래 JSON 예시 형태**를 반드시 지키세요:\n",
    "{{\n",
    "  \"gender\": \"예시값\",\n",
    "  \"masterCategory\": \"예시값\",\n",
    "  \"subCategory\": \"예시값\",\n",
    "  \"season\": \"예시값\",\n",
    "  \"usage\": \"예시값\",\n",
    "  \"baseColour\": \"예시값\",\n",
    "  \"articleType\": \"예시값\"\n",
    "}}\n",
    "\n",
    "# 예시\n",
    "{{\n",
    "  \"gender\": \"Men\",\n",
    "  \"masterCategory\": \"Accessories\",\n",
    "  \"subCategory\": \"Eyewear\",\n",
    "  \"season\": \"Winter\",\n",
    "  \"usage\": \"Casual\",\n",
    "  \"baseColour\": \"Blue\",\n",
    "  \"articleType\": \"Sunglasses\"\n",
    "}}\n",
    "\n",
    "# 주의\n",
    "- 7개 항목 이외의 정보(텍스트, 문장 등)는 절대 포함하지 마세요.\n",
    "\"\"\""
   ]
  },
  {
   "cell_type": "code",
   "execution_count": 3,
   "id": "30080e5d-a5a4-423f-9dab-a1e58dfd1511",
   "metadata": {},
   "outputs": [],
   "source": [
    "def combine_cols_to_label(example):\n",
    "    # 실제 컬럼명에 맞게 수정\n",
    "    label_dict = {\n",
    "        \"gender\": example[\"gender\"],\n",
    "        \"masterCategory\": example[\"masterCategory\"],\n",
    "        \"subCategory\": example[\"subCategory\"],\n",
    "        \"season\": example[\"season\"],\n",
    "        \"usage\": example[\"usage\"],\n",
    "        \"baseColour\": example[\"baseColour\"],\n",
    "        \"articleType\": example[\"articleType\"],\n",
    "    }\n",
    "    example[\"label\"] = json.dumps(label_dict, ensure_ascii=False)\n",
    "    return example\n",
    "\n",
    "def format_data(sample):\n",
    "   # Image.Image를 PngImageFile로 변환\n",
    "   buffer = io.BytesIO()\n",
    "   sample[\"image\"].save(buffer, format='PNG')\n",
    "   buffer.seek(0)\n",
    "   image = Image.open(buffer)\n",
    "   \n",
    "   return {\n",
    "       \"messages\": [\n",
    "           {\n",
    "               \"role\": \"system\",\n",
    "               \"content\": [\n",
    "                   {\n",
    "                       \"type\": \"text\",\n",
    "                       \"text\": system_message\n",
    "                   }\n",
    "               ],\n",
    "           },\n",
    "           {\n",
    "               \"role\": \"user\",\n",
    "               \"content\": [\n",
    "                   {\n",
    "                       \"type\": \"text\",\n",
    "                       \"text\": prompt.format(name=sample[\"productDisplayName\"]),\n",
    "                   },\n",
    "                   {\n",
    "                       \"type\": \"image\",\n",
    "                       \"image\": image,\n",
    "                   }\n",
    "               ],\n",
    "           },\n",
    "           {\n",
    "               \"role\": \"assistant\",\n",
    "               \"content\": [\n",
    "                   {\n",
    "                       \"type\": \"text\",\n",
    "                       \"text\": sample[\"label\"],\n",
    "                   }\n",
    "               ],\n",
    "           },\n",
    "       ],\n",
    "   }"
   ]
  },
  {
   "cell_type": "code",
   "execution_count": 8,
   "id": "90c72744-ccd6-4039-947a-832044cc8845",
   "metadata": {},
   "outputs": [],
   "source": [
    "dataset = load_dataset(\"ashraq/fashion-product-images-small\", split=\"train\")\n",
    "dataset_add_label = dataset.map(combine_cols_to_label)\n",
    "dataset_add_label = dataset_add_label.shuffle(seed=4242)"
   ]
  },
  {
   "cell_type": "code",
   "execution_count": 13,
   "id": "02a73f94-fc3f-446d-92eb-6162305d055f",
   "metadata": {},
   "outputs": [],
   "source": [
    "formatted_dataset = [format_data(row) for row in dataset_add_label]"
   ]
  },
  {
   "cell_type": "code",
   "execution_count": 16,
   "id": "e55d02aa-2da0-4618-a1cd-f0af4f9bd2f0",
   "metadata": {},
   "outputs": [],
   "source": [
    "# test_size=0.9로 설정하여 전체 데이터의 90%를 테스트 세트로 분리\n",
    "train_dataset, test_dataset = train_test_split(formatted_dataset,\n",
    "                                             test_size=0.9,\n",
    "                                             random_state=42)"
   ]
  },
  {
   "cell_type": "markdown",
   "id": "aae3a61c-a53c-401c-9878-791434d709d5",
   "metadata": {},
   "source": [
    "## 3. 임의의 샘플 한 개 인퍼런스"
   ]
  },
  {
   "cell_type": "code",
   "execution_count": 74,
   "id": "fd397864-04af-4a82-951d-3fe5590ca9f7",
   "metadata": {},
   "outputs": [],
   "source": [
    "from IPython.display import display"
   ]
  },
  {
   "cell_type": "code",
   "execution_count": 17,
   "id": "3d38bbde-5592-4b62-a9e0-fdedc655b094",
   "metadata": {},
   "outputs": [
    {
     "name": "stderr",
     "output_type": "stream",
     "text": [
      "Using a slow image processor as `use_fast` is unset and a slow processor was saved with this model. `use_fast=True` will be the default behavior in v4.48, even if the model was saved with a slow processor. This will result in minor differences in outputs. You'll still be able to use a slow processor with `use_fast=False`.\n"
     ]
    }
   ],
   "source": [
    "model_id = \"Qwen/Qwen2-VL-7B-Instruct\"\n",
    "processor = AutoProcessor.from_pretrained(model_id)"
   ]
  },
  {
   "cell_type": "code",
   "execution_count": 18,
   "id": "c0c6d163-78d2-407a-9923-b603e23950bc",
   "metadata": {},
   "outputs": [],
   "source": [
    "sampling_params = SamplingParams(\n",
    "    temperature=0.1,\n",
    "    top_p=0.001,\n",
    "    repetition_penalty=1.05,\n",
    "    max_tokens=256,\n",
    "    stop_token_ids=[],\n",
    ")"
   ]
  },
  {
   "cell_type": "markdown",
   "id": "a89ae6c1-f399-42ed-877e-f894c53d463b",
   "metadata": {},
   "source": [
    "테스트 데이터 32번에 대해서 모델의 예측을 얻어봅시다."
   ]
  },
  {
   "cell_type": "code",
   "execution_count": 66,
   "id": "f096fbdd-56d8-4ab6-9dd3-cd960120d7b6",
   "metadata": {},
   "outputs": [],
   "source": [
    "test_sample = test_dataset[32][\"messages\"]"
   ]
  },
  {
   "cell_type": "code",
   "execution_count": 67,
   "id": "99bd77ca-5f8f-4455-93f0-2a7ba7f9fc32",
   "metadata": {},
   "outputs": [],
   "source": [
    "test_sample_prompt = processor.apply_chat_template(\n",
    "    test_sample,\n",
    "    tokenize=False,\n",
    "    add_generation_prompt=False,\n",
    ")"
   ]
  },
  {
   "cell_type": "code",
   "execution_count": 68,
   "id": "a0c547d3-892b-459e-995e-ff493c6af8b6",
   "metadata": {},
   "outputs": [],
   "source": [
    "def split_input_and_label(prompt):\n",
    "    input = prompt.split('<|im_start|>assistant')[0] + '<|im_start|>assistant'\n",
    "    label = prompt.split('<|im_start|>assistant')[1]\n",
    "    return input, label"
   ]
  },
  {
   "cell_type": "code",
   "execution_count": 79,
   "id": "9d2e356f-dd90-47ac-a972-5cccd5cd8fe6",
   "metadata": {},
   "outputs": [],
   "source": [
    "test_sample_input, test_sample_label = split_input_and_label(test_sample_prompt)"
   ]
  },
  {
   "cell_type": "code",
   "execution_count": 80,
   "id": "c43db853-deeb-4658-929d-cccd17ff530a",
   "metadata": {},
   "outputs": [
    {
     "name": "stdout",
     "output_type": "stream",
     "text": [
      "<|im_start|>system\n",
      "당신은 이미지와 제품명(name)으로부터 패션/스타일 정보를 추론하는 분류 모델입니다.<|im_end|>\n",
      "<|im_start|>user\n",
      "입력 정보:\n",
      "- name: Colorbar Exclusive Nail Lacquer 19\n",
      "- image: [image]\n",
      "\n",
      "위 정보를 바탕으로, 아래 7가지 key에 대한 값을 JSON 형태로 추론해 주세요:\n",
      "1) gender\n",
      "2) masterCategory\n",
      "3) subCategory\n",
      "4) season\n",
      "5) usage\n",
      "6) baseColour\n",
      "7) articleType\n",
      "\n",
      "출력 시 **아래 JSON 예시 형태**를 반드시 지키세요:\n",
      "{\n",
      "  \"gender\": \"예시값\",\n",
      "  \"masterCategory\": \"예시값\",\n",
      "  \"subCategory\": \"예시값\",\n",
      "  \"season\": \"예시값\",\n",
      "  \"usage\": \"예시값\",\n",
      "  \"baseColour\": \"예시값\",\n",
      "  \"articleType\": \"예시값\"\n",
      "}\n",
      "\n",
      "# 예시\n",
      "{\n",
      "  \"gender\": \"Men\",\n",
      "  \"masterCategory\": \"Accessories\",\n",
      "  \"subCategory\": \"Eyewear\",\n",
      "  \"season\": \"Winter\",\n",
      "  \"usage\": \"Casual\",\n",
      "  \"baseColour\": \"Blue\",\n",
      "  \"articleType\": \"Sunglasses\"\n",
      "}\n",
      "\n",
      "# 주의\n",
      "- 7개 항목 이외의 정보(텍스트, 문장 등)는 절대 포함하지 마세요.\n",
      "<|vision_start|><|image_pad|><|vision_end|><|im_end|>\n",
      "<|im_start|>assistant\n"
     ]
    }
   ],
   "source": [
    "print(test_sample_input)"
   ]
  },
  {
   "cell_type": "code",
   "execution_count": 81,
   "id": "1f71b99e-e748-4a36-9ad9-8e80ae34f45d",
   "metadata": {},
   "outputs": [
    {
     "name": "stdout",
     "output_type": "stream",
     "text": [
      "\n",
      "{\"gender\": \"Women\", \"masterCategory\": \"Personal Care\", \"subCategory\": \"Nails\", \"season\": \"Spring\", \"usage\": \"Casual\", \"baseColour\": \"Blue\", \"articleType\": \"Nail Polish\"}<|im_end|>\n",
      "\n"
     ]
    }
   ],
   "source": [
    "print(test_sample_label)"
   ]
  },
  {
   "cell_type": "code",
   "execution_count": 82,
   "id": "e5f97a56-ad7c-4a08-81ac-dbcf28ae8270",
   "metadata": {},
   "outputs": [],
   "source": [
    "# 이미지만 따로 전처리\n",
    "test_sample_image_inputs, test_sample_video_inputs = process_vision_info(test_sample)"
   ]
  },
  {
   "cell_type": "code",
   "execution_count": 83,
   "id": "8fc85a28-edd0-4eda-8265-41a961a6699f",
   "metadata": {},
   "outputs": [
    {
     "data": {
      "text/plain": [
       "[<PIL.Image.Image image mode=RGB size=56x84>]"
      ]
     },
     "execution_count": 83,
     "metadata": {},
     "output_type": "execute_result"
    }
   ],
   "source": [
    "test_sample_image_inputs"
   ]
  },
  {
   "cell_type": "code",
   "execution_count": 84,
   "id": "8b728b45-3eb2-4d43-af55-0d8e71b79bf9",
   "metadata": {},
   "outputs": [
    {
     "data": {
      "image/jpeg": "[encoded data removed]",
      "image/png": "[encoded data removed]",
      "text/plain": [
       "<PIL.Image.Image image mode=RGB size=56x84>"
      ]
     },
     "metadata": {},
     "output_type": "display_data"
    }
   ],
   "source": [
    "display(test_sample_image_inputs[0])"
   ]
  },
  {
   "cell_type": "code",
   "execution_count": 85,
   "id": "8399963b-d123-4e9f-a709-5d3c56a748bd",
   "metadata": {},
   "outputs": [],
   "source": [
    "# 아무 값도 없음\n",
    "video_inputs"
   ]
  },
  {
   "cell_type": "code",
   "execution_count": 86,
   "id": "3917ee00-37a3-485b-bff9-d0070f975184",
   "metadata": {},
   "outputs": [],
   "source": [
    "mm_data = {}\n",
    "if image_inputs is not None:\n",
    "    mm_data[\"image\"] = image_inputs\n",
    "if video_inputs is not None:\n",
    "    mm_data[\"video\"] = video_inputs\n",
    "\n",
    "llm_inputs = {\n",
    "    \"prompt\": test_sample_input,\n",
    "    \"multi_modal_data\": mm_data,\n",
    "}"
   ]
  },
  {
   "cell_type": "code",
   "execution_count": 88,
   "id": "fc0891de-d06f-43bf-9e2e-d774cb795d71",
   "metadata": {},
   "outputs": [
    {
     "name": "stderr",
     "output_type": "stream",
     "text": [
      "Processed prompts: 100%|██████████| 1/1 [00:00<00:00,  1.41it/s, est. speed input: 438.60 toks/s, output: 74.98 toks/s]"
     ]
    },
    {
     "name": "stdout",
     "output_type": "stream",
     "text": [
      "모델의 예측:\n",
      "{\"gender\": \"Women\", \"masterCategory\": \"Personal Care\", \"subCategory\": \"Nails\", \"season\": \"Spring\", \"usage\": \"Casual\", \"baseColour\": \"Blue\", \"articleType\": \"Nail Polish\"}\n",
      "레이블:\n",
      "{\"gender\": \"Women\", \"masterCategory\": \"Personal Care\", \"subCategory\": \"Nails\", \"season\": \"Spring\", \"usage\": \"Casual\", \"baseColour\": \"Blue\", \"articleType\": \"Nail Polish\"}<|im_end|>\n"
     ]
    },
    {
     "name": "stderr",
     "output_type": "stream",
     "text": [
      "\n"
     ]
    }
   ],
   "source": [
    "outputs = llm.generate([llm_inputs], sampling_params=sampling_params)\n",
    "generated_text = outputs[0].outputs[0].text\n",
    "\n",
    "print('모델의 예측:')\n",
    "print(generated_text.strip())\n",
    "\n",
    "print('레이블:')\n",
    "print(test_sample_label.strip())"
   ]
  },
  {
   "cell_type": "markdown",
   "id": "2484a01e-6802-4a43-b153-7de1358f6837",
   "metadata": {},
   "source": [
    "## 4. 다수의 데이터 호출"
   ]
  },
  {
   "cell_type": "code",
   "execution_count": 89,
   "id": "60539dd1-e32f-4b45-92d6-1d8c073aaf7d",
   "metadata": {},
   "outputs": [
    {
     "name": "stdout",
     "output_type": "stream",
     "text": [
      "배치 인퍼런스 시작...\n"
     ]
    },
    {
     "name": "stderr",
     "output_type": "stream",
     "text": [
      "Processed prompts: 100%|██████████| 50/50 [00:00<00:00, 52.56it/s, est. speed input: 16276.92 toks/s, output: 2776.55 toks/s]"
     ]
    },
    {
     "name": "stdout",
     "output_type": "stream",
     "text": [
      "\n",
      "=== 배치 인퍼런스 결과 ===\n",
      "\n",
      "--- 샘플 1 ---\n",
      "모델의 예측: {\"gender\": \"Women\", \"masterCategory\": \"Apparel\", \"subCategory\": \"Dress\", \"season\": \"Summer\", \"usage\": \"Casual\", \"baseColour\": \"Beige\", \"articleType\": \"Dresses\"}\n",
      "레이블: {\"gender\": \"Women\", \"masterCategory\": \"Apparel\", \"subCategory\": \"Dress\", \"season\": \"Winter\", \"usage\": \"Casual\", \"baseColour\": \"Beige\", \"articleType\": \"Dresses\"}<|im_end|>\n",
      "--------------------------------------------------\n",
      "\n",
      "--- 샘플 2 ---\n",
      "모델의 예측: {\"gender\": \"Women\", \"masterCategory\": \"Accessories\", \"subCategory\": \"Bags\", \"season\": \"Summer\", \"usage\": \"Casual\", \"baseColour\": \"Copper\", \"articleType\": \"Clutches\"}\n",
      "레이블: {\"gender\": \"Women\", \"masterCategory\": \"Accessories\", \"subCategory\": \"Bags\", \"season\": \"Summer\", \"usage\": \"Casual\", \"baseColour\": \"Copper\", \"articleType\": \"Clutches\"}<|im_end|>\n",
      "--------------------------------------------------\n",
      "\n",
      "--- 샘플 3 ---\n",
      "모델의 예측: {\"gender\": \"Men\", \"masterCategory\": \"Apparel\", \"subCategory\": \"Topwear\", \"season\": \"Summer\", \"usage\": \"Casual\", \"baseColour\": \"Blue\", \"articleType\": \"Tshirts\"}\n",
      "레이블: {\"gender\": \"Men\", \"masterCategory\": \"Apparel\", \"subCategory\": \"Topwear\", \"season\": \"Summer\", \"usage\": \"Casual\", \"baseColour\": \"Blue\", \"articleType\": \"Tshirts\"}<|im_end|>\n",
      "--------------------------------------------------\n",
      "\n",
      "--- 샘플 4 ---\n",
      "모델의 예측: {\"gender\": \"Women\", \"masterCategory\": \"Accessories\", \"subCategory\": \"Jewellery\", \"season\": \"Summer\", \"usage\": \"Casual\", \"baseColour\": \"Silver\", \"articleType\": \"Pendant\"}\n",
      "레이블: {\"gender\": \"Women\", \"masterCategory\": \"Accessories\", \"subCategory\": \"Jewellery\", \"season\": \"Summer\", \"usage\": \"Casual\", \"baseColour\": \"Silver\", \"articleType\": \"Pendant\"}<|im_end|>\n",
      "--------------------------------------------------\n",
      "\n",
      "--- 샘플 5 ---\n",
      "모델의 예측: {\"gender\": \"Men\", \"masterCategory\": \"Apparel\", \"subCategory\": \"Topwear\", \"season\": \"Summer\", \"usage\": \"Casual\", \"baseColour\": \"Black\", \"articleType\": \"Tshirts\"}\n",
      "레이블: {\"gender\": \"Men\", \"masterCategory\": \"Apparel\", \"subCategory\": \"Topwear\", \"season\": \"Summer\", \"usage\": \"Casual\", \"baseColour\": \"Black\", \"articleType\": \"Tshirts\"}<|im_end|>\n",
      "--------------------------------------------------\n",
      "\n",
      "--- 샘플 6 ---\n",
      "모델의 예측: {\"gender\": \"Men\", \"masterCategory\": \"Apparel\", \"subCategory\": \"Topwear\", \"season\": \"Fall\", \"usage\": \"Casual\", \"baseColour\": \"Red\", \"articleType\": \"Tshirts\"}\n",
      "레이블: {\"gender\": \"Men\", \"masterCategory\": \"Apparel\", \"subCategory\": \"Topwear\", \"season\": \"Fall\", \"usage\": \"Casual\", \"baseColour\": \"Red\", \"articleType\": \"Tshirts\"}<|im_end|>\n",
      "--------------------------------------------------\n",
      "\n",
      "--- 샘플 7 ---\n",
      "모델의 예측: {\"gender\": \"Women\", \"masterCategory\": \"Accessories\", \"subCategory\": \"Bags\", \"season\": \"Summer\", \"usage\": \"Casual\", \"baseColour\": \"Black\", \"articleType\": \"Handbags\"}\n",
      "레이블: {\"gender\": \"Women\", \"masterCategory\": \"Accessories\", \"subCategory\": \"Bags\", \"season\": \"Winter\", \"usage\": \"Casual\", \"baseColour\": \"Black\", \"articleType\": \"Handbags\"}<|im_end|>\n",
      "--------------------------------------------------\n",
      "\n",
      "--- 샘플 8 ---\n",
      "모델의 예측: {\"gender\": \"Women\", \"masterCategory\": \"Footwear\", \"subCategory\": \"Shoes\", \"season\": \"Fall\", \"usage\": \"Casual\", \"baseColour\": \"White\", \"articleType\": \"Casual Shoes\"}\n",
      "레이블: {\"gender\": \"Women\", \"masterCategory\": \"Footwear\", \"subCategory\": \"Shoes\", \"season\": \"Fall\", \"usage\": \"Casual\", \"baseColour\": \"White\", \"articleType\": \"Casual Shoes\"}<|im_end|>\n",
      "--------------------------------------------------\n",
      "\n",
      "--- 샘플 9 ---\n",
      "모델의 예측: {\"gender\": \"Unisex\", \"masterCategory\": \"Footwear\", \"subCategory\": \"Flip Flops\", \"season\": \"Summer\", \"usage\": \"Casual\", \"baseColour\": \"Black\", \"articleType\": \"Flip Flops\"}\n",
      "레이블: {\"gender\": \"Unisex\", \"masterCategory\": \"Footwear\", \"subCategory\": \"Flip Flops\", \"season\": \"Summer\", \"usage\": \"Casual\", \"baseColour\": \"Black\", \"articleType\": \"Flip Flops\"}<|im_end|>\n",
      "--------------------------------------------------\n",
      "\n",
      "--- 샘플 10 ---\n",
      "모델의 예측: {\"gender\": \"Women\", \"masterCategory\": \"Accessories\", \"subCategory\": \"Watches\", \"season\": \"Winter\", \"usage\": \"Casual\", \"baseColour\": \"Steel\", \"articleType\": \"Watches\"}\n",
      "레이블: {\"gender\": \"Women\", \"masterCategory\": \"Accessories\", \"subCategory\": \"Watches\", \"season\": \"Winter\", \"usage\": \"Casual\", \"baseColour\": \"Black\", \"articleType\": \"Watches\"}<|im_end|>\n",
      "--------------------------------------------------\n",
      "\n",
      "--- 샘플 11 ---\n",
      "모델의 예측: {\"gender\": \"Unisex\", \"masterCategory\": \"Apparel\", \"subCategory\": \"Topwear\", \"season\": \"Fall\", \"usage\": \"Sports\", \"baseColour\": \"Navy Blue\", \"articleType\": \"Tshirts\"}\n",
      "레이블: {\"gender\": \"Unisex\", \"masterCategory\": \"Apparel\", \"subCategory\": \"Topwear\", \"season\": \"Summer\", \"usage\": \"Sports\", \"baseColour\": \"Blue\", \"articleType\": \"Tshirts\"}<|im_end|>\n",
      "--------------------------------------------------\n",
      "\n",
      "--- 샘플 12 ---\n",
      "모델의 예측: {\"gender\": \"Men\", \"masterCategory\": \"Accessories\", \"subCategory\": \"Bags\", \"season\": \"Summer\", \"usage\": \"Casual\", \"baseColour\": \"Black\", \"articleType\": \"Laptop Bag\"}\n",
      "레이블: {\"gender\": \"Men\", \"masterCategory\": \"Accessories\", \"subCategory\": \"Bags\", \"season\": \"Summer\", \"usage\": \"Casual\", \"baseColour\": \"Black\", \"articleType\": \"Laptop Bag\"}<|im_end|>\n",
      "--------------------------------------------------\n",
      "\n",
      "--- 샘플 13 ---\n",
      "모델의 예측: {\"gender\": \"Men\", \"masterCategory\": \"Footwear\", \"subCategory\": \"Shoes\", \"season\": \"Fall\", \"usage\": \"Sports\", \"baseColour\": \"Black\", \"articleType\": \"Sports Shoes\"}\n",
      "레이블: {\"gender\": \"Men\", \"masterCategory\": \"Footwear\", \"subCategory\": \"Shoes\", \"season\": \"Fall\", \"usage\": \"Sports\", \"baseColour\": \"Black\", \"articleType\": \"Sports Shoes\"}<|im_end|>\n",
      "--------------------------------------------------\n",
      "\n",
      "--- 샘플 14 ---\n",
      "모델의 예측: {\"gender\": \"Men\", \"masterCategory\": \"Apparel\", \"subCategory\": \"Topwear\", \"season\": \"Fall\", \"usage\": \"Casual\", \"baseColour\": \"White\", \"articleType\": \"Tshirts\"}\n",
      "레이블: {\"gender\": \"Men\", \"masterCategory\": \"Apparel\", \"subCategory\": \"Topwear\", \"season\": \"Summer\", \"usage\": \"Casual\", \"baseColour\": \"White\", \"articleType\": \"Tshirts\"}<|im_end|>\n",
      "--------------------------------------------------\n",
      "\n",
      "--- 샘플 15 ---\n",
      "모델의 예측: {\"gender\": \"Men\", \"masterCategory\": \"Footwear\", \"subCategory\": \"Shoes\", \"season\": \"Summer\", \"usage\": \"Sports\", \"baseColour\": \"White\", \"articleType\": \"Sports Shoes\"}\n",
      "레이블: {\"gender\": \"Men\", \"masterCategory\": \"Footwear\", \"subCategory\": \"Shoes\", \"season\": \"Summer\", \"usage\": \"Sports\", \"baseColour\": \"White\", \"articleType\": \"Sports Shoes\"}<|im_end|>\n",
      "--------------------------------------------------\n",
      "\n",
      "--- 샘플 16 ---\n",
      "모델의 예측: {\"gender\": \"Men\", \"masterCategory\": \"Apparel\", \"subCategory\": \"Topwear\", \"season\": \"Fall\", \"usage\": \"Sports\", \"baseColour\": \"Black\", \"articleType\": \"Tshirts\"}\n",
      "레이블: {\"gender\": \"Men\", \"masterCategory\": \"Apparel\", \"subCategory\": \"Topwear\", \"season\": \"Summer\", \"usage\": \"Sports\", \"baseColour\": \"Black\", \"articleType\": \"Tshirts\"}<|im_end|>\n",
      "--------------------------------------------------\n",
      "\n",
      "--- 샘플 17 ---\n",
      "모델의 예측: {\"gender\": \"Boys\", \"masterCategory\": \"Apparel\", \"subCategory\": \"Topwear\", \"season\": \"Summer\", \"usage\": \"Casual\", \"baseColour\": \"Blue\", \"articleType\": \"Tshirts\"}\n",
      "레이블: {\"gender\": \"Boys\", \"masterCategory\": \"Apparel\", \"subCategory\": \"Topwear\", \"season\": \"Summer\", \"usage\": \"Casual\", \"baseColour\": \"Blue\", \"articleType\": \"Tshirts\"}<|im_end|>\n",
      "--------------------------------------------------\n",
      "\n",
      "--- 샘플 18 ---\n",
      "모델의 예측: {\"gender\": \"Men\", \"masterCategory\": \"Footwear\", \"subCategory\": \"Shoes\", \"season\": \"Summer\", \"usage\": \"Casual\", \"baseColour\": \"Red\", \"articleType\": \"Casual Shoes\"}\n",
      "레이블: {\"gender\": \"Men\", \"masterCategory\": \"Footwear\", \"subCategory\": \"Shoes\", \"season\": \"Summer\", \"usage\": \"Casual\", \"baseColour\": \"Red\", \"articleType\": \"Casual Shoes\"}<|im_end|>\n",
      "--------------------------------------------------\n",
      "\n",
      "--- 샘플 19 ---\n",
      "모델의 예측: {\"gender\": \"Men\", \"masterCategory\": \"Apparel\", \"subCategory\": \"Topwear\", \"season\": \"Fall\", \"usage\": \"Formal\", \"baseColour\": \"Blue\", \"articleType\": \"Shirts\"}\n",
      "레이블: {\"gender\": \"Men\", \"masterCategory\": \"Apparel\", \"subCategory\": \"Topwear\", \"season\": \"Fall\", \"usage\": \"Casual\", \"baseColour\": \"Blue\", \"articleType\": \"Shirts\"}<|im_end|>\n",
      "--------------------------------------------------\n",
      "\n",
      "--- 샘플 20 ---\n",
      "모델의 예측: {\"gender\": \"Men\", \"masterCategory\": \"Accessories\", \"subCategory\": \"Jewellery\", \"season\": \"Summer\", \"usage\": \"Casual\", \"baseColour\": \"Steel\", \"articleType\": \"Ring\"}\n",
      "레이블: {\"gender\": \"Men\", \"masterCategory\": \"Accessories\", \"subCategory\": \"Jewellery\", \"season\": \"Summer\", \"usage\": \"Casual\", \"baseColour\": \"Steel\", \"articleType\": \"Ring\"}<|im_end|>\n",
      "--------------------------------------------------\n",
      "\n",
      "--- 샘플 21 ---\n",
      "모델의 예측: {\"gender\": \"Girls\", \"masterCategory\": \"Apparel\", \"subCategory\": \"Dress\", \"season\": \"Summer\", \"usage\": \"Casual\", \"baseColour\": \"Blue\", \"articleType\": \"Dresses\"}\n",
      "레이블: {\"gender\": \"Girls\", \"masterCategory\": \"Apparel\", \"subCategory\": \"Dress\", \"season\": \"Summer\", \"usage\": \"Casual\", \"baseColour\": \"Blue\", \"articleType\": \"Dresses\"}<|im_end|>\n",
      "--------------------------------------------------\n",
      "\n",
      "--- 샘플 22 ---\n",
      "모델의 예측: {\"gender\": \"Women\", \"masterCategory\": \"Footwear\", \"subCategory\": \"Shoes\", \"season\": \"Summer\", \"usage\": \"Casual\", \"baseColour\": \"Black\", \"articleType\": \"Casual Shoes\"}\n",
      "레이블: {\"gender\": \"Women\", \"masterCategory\": \"Footwear\", \"subCategory\": \"Shoes\", \"season\": \"Summer\", \"usage\": \"Casual\", \"baseColour\": \"Black\", \"articleType\": \"Casual Shoes\"}<|im_end|>\n",
      "--------------------------------------------------\n",
      "\n",
      "--- 샘플 23 ---\n",
      "모델의 예측: {\"gender\": \"Women\", \"masterCategory\": \"Apparel\", \"subCategory\": \"Topwear\", \"season\": \"Summer\", \"usage\": \"Casual\", \"baseColour\": \"Black\", \"articleType\": \"Tops\"}\n",
      "레이블: {\"gender\": \"Women\", \"masterCategory\": \"Apparel\", \"subCategory\": \"Topwear\", \"season\": \"Fall\", \"usage\": \"Casual\", \"baseColour\": \"Black\", \"articleType\": \"Tops\"}<|im_end|>\n",
      "--------------------------------------------------\n",
      "\n",
      "--- 샘플 24 ---\n",
      "모델의 예측: {\"gender\": \"Women\", \"masterCategory\": \"Apparel\", \"subCategory\": \"Topwear\", \"season\": \"Fall\", \"usage\": \"Casual\", \"baseColour\": \"Blue\", \"articleType\": \"Sweatshirts\"}\n",
      "레이블: {\"gender\": \"Women\", \"masterCategory\": \"Apparel\", \"subCategory\": \"Topwear\", \"season\": \"Fall\", \"usage\": \"Casual\", \"baseColour\": \"Blue\", \"articleType\": \"Sweatshirts\"}<|im_end|>\n",
      "--------------------------------------------------\n",
      "\n",
      "--- 샘플 25 ---\n",
      "모델의 예측: {\"gender\": \"Women\", \"masterCategory\": \"Accessories\", \"subCategory\": \"Belts\", \"season\": \"Summer\", \"usage\": \"Casual\", \"baseColour\": \"Black\", \"articleType\": \"Belts\"}\n",
      "레이블: {\"gender\": \"Women\", \"masterCategory\": \"Accessories\", \"subCategory\": \"Belts\", \"season\": \"Summer\", \"usage\": \"Casual\", \"baseColour\": \"Black\", \"articleType\": \"Belts\"}<|im_end|>\n",
      "--------------------------------------------------\n",
      "\n",
      "--- 샘플 26 ---\n",
      "모델의 예측: {\"gender\": \"Boys\", \"masterCategory\": \"Apparel\", \"subCategory\": \"Topwear\", \"season\": \"Summer\", \"usage\": \"Casual\", \"baseColour\": \"Black\", \"articleType\": \"Tshirts\"}\n",
      "레이블: {\"gender\": \"Boys\", \"masterCategory\": \"Apparel\", \"subCategory\": \"Topwear\", \"season\": \"Summer\", \"usage\": \"Casual\", \"baseColour\": \"Black\", \"articleType\": \"Tshirts\"}<|im_end|>\n",
      "--------------------------------------------------\n",
      "\n",
      "--- 샘플 27 ---\n",
      "모델의 예측: {\"gender\": \"Men\", \"masterCategory\": \"Apparel\", \"subCategory\": \"Topwear\", \"season\": \"Summer\", \"usage\": \"Casual\", \"baseColour\": \"Black\", \"articleType\": \"Tshirts\"}\n",
      "레이블: {\"gender\": \"Men\", \"masterCategory\": \"Apparel\", \"subCategory\": \"Topwear\", \"season\": \"Summer\", \"usage\": \"Casual\", \"baseColour\": \"Black\", \"articleType\": \"Tshirts\"}<|im_end|>\n",
      "--------------------------------------------------\n",
      "\n",
      "--- 샘플 28 ---\n",
      "모델의 예측: {\"gender\": \"Men\", \"masterCategory\": \"Apparel\", \"subCategory\": \"Topwear\", \"season\": \"Fall\", \"usage\": \"Formal\", \"baseColour\": \"Orange\", \"articleType\": \"Shirts\"}\n",
      "레이블: {\"gender\": \"Men\", \"masterCategory\": \"Apparel\", \"subCategory\": \"Topwear\", \"season\": \"Fall\", \"usage\": \"Formal\", \"baseColour\": \"Orange\", \"articleType\": \"Shirts\"}<|im_end|>\n",
      "--------------------------------------------------\n",
      "\n",
      "--- 샘플 29 ---\n",
      "모델의 예측: {\"gender\": \"Women\", \"masterCategory\": \"Personal Care\", \"subCategory\": \"Lips\", \"season\": \"Spring\", \"usage\": \"Casual\", \"baseColour\": \"Red\", \"articleType\": \"Lip Liner\"}\n",
      "레이블: {\"gender\": \"Women\", \"masterCategory\": \"Personal Care\", \"subCategory\": \"Lips\", \"season\": \"Spring\", \"usage\": \"Casual\", \"baseColour\": \"Maroon\", \"articleType\": \"Lip Liner\"}<|im_end|>\n",
      "--------------------------------------------------\n",
      "\n",
      "--- 샘플 30 ---\n",
      "모델의 예측: {\"gender\": \"Men\", \"masterCategory\": \"Apparel\", \"subCategory\": \"Topwear\", \"season\": \"Fall\", \"usage\": \"Casual\", \"baseColour\": \"Brown\", \"articleType\": \"Shirts\"}\n",
      "레이블: {\"gender\": \"Men\", \"masterCategory\": \"Apparel\", \"subCategory\": \"Topwear\", \"season\": \"Fall\", \"usage\": \"Casual\", \"baseColour\": \"Brown\", \"articleType\": \"Shirts\"}<|im_end|>\n",
      "--------------------------------------------------\n",
      "\n",
      "--- 샘플 31 ---\n",
      "모델의 예측: {\"gender\": \"Women\", \"masterCategory\": \"Apparel\", \"subCategory\": \"Bottomwear\", \"season\": \"Summer\", \"usage\": \"Casual\", \"baseColour\": \"Blue\", \"articleType\": \"Shorts\"}\n",
      "레이블: {\"gender\": \"Women\", \"masterCategory\": \"Apparel\", \"subCategory\": \"Bottomwear\", \"season\": \"Fall\", \"usage\": \"Casual\", \"baseColour\": \"Blue\", \"articleType\": \"Shorts\"}<|im_end|>\n",
      "--------------------------------------------------\n",
      "\n",
      "--- 샘플 32 ---\n",
      "모델의 예측: {\"gender\": \"Women\", \"masterCategory\": \"Accessories\", \"subCategory\": \"Bags\", \"season\": \"Summer\", \"usage\": \"Casual\", \"baseColour\": \"Blue\", \"articleType\": \"Handbags\"}\n",
      "레이블: {\"gender\": \"Women\", \"masterCategory\": \"Accessories\", \"subCategory\": \"Bags\", \"season\": \"Winter\", \"usage\": \"Casual\", \"baseColour\": \"Blue\", \"articleType\": \"Handbags\"}<|im_end|>\n",
      "--------------------------------------------------\n",
      "\n",
      "--- 샘플 33 ---\n",
      "모델의 예측: {\"gender\": \"Women\", \"masterCategory\": \"Personal Care\", \"subCategory\": \"Nails\", \"season\": \"Spring\", \"usage\": \"Casual\", \"baseColour\": \"Blue\", \"articleType\": \"Nail Polish\"}\n",
      "레이블: {\"gender\": \"Women\", \"masterCategory\": \"Personal Care\", \"subCategory\": \"Nails\", \"season\": \"Spring\", \"usage\": \"Casual\", \"baseColour\": \"Blue\", \"articleType\": \"Nail Polish\"}<|im_end|>\n",
      "--------------------------------------------------\n",
      "\n",
      "--- 샘플 34 ---\n",
      "모델의 예측: {\"gender\": \"Men\", \"masterCategory\": \"Footwear\", \"subCategory\": \"Shoes\", \"season\": \"Summer\", \"usage\": \"Casual\", \"baseColour\": \"Beige\", \"articleType\": \"Casual Shoes\"}\n",
      "레이블: {\"gender\": \"Men\", \"masterCategory\": \"Footwear\", \"subCategory\": \"Shoes\", \"season\": \"Summer\", \"usage\": \"Casual\", \"baseColour\": \"Beige\", \"articleType\": \"Casual Shoes\"}<|im_end|>\n",
      "--------------------------------------------------\n",
      "\n",
      "--- 샘플 35 ---\n",
      "모델의 예측: {\"gender\": \"Men\", \"masterCategory\": \"Apparel\", \"subCategory\": \"Topwear\", \"season\": \"Fall\", \"usage\": \"Casual\", \"baseColour\": \"Grey\", \"articleType\": \"Shirts\"}\n",
      "레이블: {\"gender\": \"Men\", \"masterCategory\": \"Apparel\", \"subCategory\": \"Topwear\", \"season\": \"Summer\", \"usage\": \"Casual\", \"baseColour\": \"Grey\", \"articleType\": \"Shirts\"}<|im_end|>\n",
      "--------------------------------------------------\n",
      "\n",
      "--- 샘플 36 ---\n",
      "모델의 예측: {\"gender\": \"Women\", \"masterCategory\": \"Apparel\", \"subCategory\": \"Loungewear and Nightwear\", \"season\": \"Summer\", \"usage\": \"Casual\", \"baseColour\": \"Grey\", \"articleType\": \"Night suits\"}\n",
      "레이블: {\"gender\": \"Women\", \"masterCategory\": \"Apparel\", \"subCategory\": \"Loungewear and Nightwear\", \"season\": \"Summer\", \"usage\": \"Casual\", \"baseColour\": \"Grey\", \"articleType\": \"Night suits\"}<|im_end|>\n",
      "--------------------------------------------------\n",
      "\n",
      "--- 샘플 37 ---\n",
      "모델의 예측: {\"gender\": \"Men\", \"masterCategory\": \"Apparel\", \"subCategory\": \"Topwear\", \"season\": \"Fall\", \"usage\": \"Casual\", \"baseColour\": \"Blue\", \"articleType\": \"Tshirts\"}\n",
      "레이블: {\"gender\": \"Men\", \"masterCategory\": \"Apparel\", \"subCategory\": \"Topwear\", \"season\": \"Fall\", \"usage\": \"Casual\", \"baseColour\": \"Blue\", \"articleType\": \"Tshirts\"}<|im_end|>\n",
      "--------------------------------------------------\n",
      "\n",
      "--- 샘플 38 ---\n",
      "모델의 예측: {\"gender\": \"Unisex\", \"masterCategory\": \"Footwear\", \"subCategory\": \"Shoes\", \"season\": \"Fall\", \"usage\": \"Casual\", \"baseColour\": \"Black\", \"articleType\": \"Casual Shoes\"}\n",
      "레이블: {\"gender\": \"Unisex\", \"masterCategory\": \"Footwear\", \"subCategory\": \"Shoes\", \"season\": \"Summer\", \"usage\": \"Casual\", \"baseColour\": \"Black\", \"articleType\": \"Casual Shoes\"}<|im_end|>\n",
      "--------------------------------------------------\n",
      "\n",
      "--- 샘플 39 ---\n",
      "모델의 예측: {\"gender\": \"Women\", \"masterCategory\": \"Apparel\", \"subCategory\": \"Topwear\", \"season\": \"Summer\", \"usage\": \"Casual\", \"baseColour\": \"White\", \"articleType\": \"Tops\"}\n",
      "레이블: {\"gender\": \"Women\", \"masterCategory\": \"Apparel\", \"subCategory\": \"Topwear\", \"season\": \"Summer\", \"usage\": \"Casual\", \"baseColour\": \"White\", \"articleType\": \"Tops\"}<|im_end|>\n",
      "--------------------------------------------------\n",
      "\n",
      "--- 샘플 40 ---\n",
      "모델의 예측: {\"gender\": \"Unisex\", \"masterCategory\": \"Footwear\", \"subCategory\": \"Sandal\", \"season\": \"Summer\", \"usage\": \"Casual\", \"baseColour\": \"Pink\", \"articleType\": \"Sandals\"}\n",
      "레이블: {\"gender\": \"Unisex\", \"masterCategory\": \"Footwear\", \"subCategory\": \"Sandal\", \"season\": \"Fall\", \"usage\": \"Casual\", \"baseColour\": \"Pink\", \"articleType\": \"Sandals\"}<|im_end|>\n",
      "--------------------------------------------------\n",
      "\n",
      "--- 샘플 41 ---\n",
      "모델의 예측: {\"gender\": \"Women\", \"masterCategory\": \"Accessories\", \"subCategory\": \"Bags\", \"season\": \"Summer\", \"usage\": \"Casual\", \"baseColour\": \"Navy Blue\", \"articleType\": \"Handbags\"}\n",
      "레이블: {\"gender\": \"Women\", \"masterCategory\": \"Accessories\", \"subCategory\": \"Bags\", \"season\": \"Winter\", \"usage\": \"Casual\", \"baseColour\": \"Navy Blue\", \"articleType\": \"Handbags\"}<|im_end|>\n",
      "--------------------------------------------------\n",
      "\n",
      "--- 샘플 42 ---\n",
      "모델의 예측: {\"gender\": \"Men\", \"masterCategory\": \"Apparel\", \"subCategory\": \"Bottomwear\", \"season\": \"Fall\", \"usage\": \"Sports\", \"baseColour\": \"Navy Blue\", \"articleType\": \"Track Pants\"}\n",
      "레이블: {\"gender\": \"Men\", \"masterCategory\": \"Apparel\", \"subCategory\": \"Bottomwear\", \"season\": \"Summer\", \"usage\": \"Sports\", \"baseColour\": \"Navy Blue\", \"articleType\": \"Track Pants\"}<|im_end|>\n",
      "--------------------------------------------------\n",
      "\n",
      "--- 샘플 43 ---\n",
      "모델의 예측: {\"gender\": \"Women\", \"masterCategory\": \"Apparel\", \"subCategory\": \"Topwear\", \"season\": \"Summer\", \"usage\": \"Ethnic\", \"baseColour\": \"Blue\", \"articleType\": \"Kurtas\"}\n",
      "레이블: {\"gender\": \"Women\", \"masterCategory\": \"Apparel\", \"subCategory\": \"Topwear\", \"season\": \"Fall\", \"usage\": \"Ethnic\", \"baseColour\": \"Blue\", \"articleType\": \"Kurtas\"}<|im_end|>\n",
      "--------------------------------------------------\n",
      "\n",
      "--- 샘플 44 ---\n",
      "모델의 예측: {\"gender\": \"Women\", \"masterCategory\": \"Accessories\", \"subCategory\": \"Wallets\", \"season\": \"Summer\", \"usage\": \"Casual\", \"baseColour\": \"Pink\", \"articleType\": \"Wallets\"}\n",
      "레이블: {\"gender\": \"Women\", \"masterCategory\": \"Accessories\", \"subCategory\": \"Wallets\", \"season\": \"Summer\", \"usage\": \"Casual\", \"baseColour\": \"Pink\", \"articleType\": \"Wallets\"}<|im_end|>\n",
      "--------------------------------------------------\n",
      "\n",
      "--- 샘플 45 ---\n",
      "모델의 예측: {\"gender\": \"Women\", \"masterCategory\": \"Accessories\", \"subCategory\": \"Belts\", \"season\": \"Summer\", \"usage\": \"Casual\", \"baseColour\": \"Purple\", \"articleType\": \"Belts\"}\n",
      "레이블: {\"gender\": \"Women\", \"masterCategory\": \"Accessories\", \"subCategory\": \"Belts\", \"season\": \"Winter\", \"usage\": \"Casual\", \"baseColour\": \"Purple\", \"articleType\": \"Belts\"}<|im_end|>\n",
      "--------------------------------------------------\n",
      "\n",
      "--- 샘플 46 ---\n",
      "모델의 예측: {\"gender\": \"Women\", \"masterCategory\": \"Accessories\", \"subCategory\": \"Watches\", \"season\": \"Winter\", \"usage\": \"Casual\", \"baseColour\": \"White\", \"articleType\": \"Watches\"}\n",
      "레이블: {\"gender\": \"Women\", \"masterCategory\": \"Accessories\", \"subCategory\": \"Watches\", \"season\": \"Winter\", \"usage\": \"Casual\", \"baseColour\": \"White\", \"articleType\": \"Watches\"}<|im_end|>\n",
      "--------------------------------------------------\n",
      "\n",
      "--- 샘플 47 ---\n",
      "모델의 예측: {\"gender\": \"Men\", \"masterCategory\": \"Accessories\", \"subCategory\": \"Watches\", \"season\": \"Summer\", \"usage\": \"Casual\", \"baseColour\": \"Black\", \"articleType\": \"Watches\"}\n",
      "레이블: {\"gender\": \"Men\", \"masterCategory\": \"Accessories\", \"subCategory\": \"Watches\", \"season\": \"Winter\", \"usage\": \"Sports\", \"baseColour\": \"Black\", \"articleType\": \"Watches\"}<|im_end|>\n",
      "--------------------------------------------------\n",
      "\n",
      "--- 샘플 48 ---\n",
      "모델의 예측: {\"gender\": \"Women\", \"masterCategory\": \"Accessories\", \"subCategory\": \"Bags\", \"season\": \"Summer\", \"usage\": \"Casual\", \"baseColour\": \"Red\", \"articleType\": \"Handbags\"}\n",
      "레이블: {\"gender\": \"Women\", \"masterCategory\": \"Accessories\", \"subCategory\": \"Bags\", \"season\": \"Summer\", \"usage\": \"Casual\", \"baseColour\": \"Red\", \"articleType\": \"Handbags\"}<|im_end|>\n",
      "--------------------------------------------------\n",
      "\n",
      "--- 샘플 49 ---\n",
      "모델의 예측: {\"gender\": \"Men\", \"masterCategory\": \"Accessories\", \"subCategory\": \"Eyewear\", \"season\": \"Winter\", \"usage\": \"Casual\", \"baseColour\": \"Gold\", \"articleType\": \"Sunglasses\"}\n",
      "레이블: {\"gender\": \"Men\", \"masterCategory\": \"Accessories\", \"subCategory\": \"Eyewear\", \"season\": \"Winter\", \"usage\": \"Casual\", \"baseColour\": \"Gold\", \"articleType\": \"Sunglasses\"}<|im_end|>\n",
      "--------------------------------------------------\n",
      "\n",
      "--- 샘플 50 ---\n",
      "모델의 예측: {\"gender\": \"Women\", \"masterCategory\": \"Accessories\", \"subCategory\": \"Bags\", \"season\": \"Summer\", \"usage\": \"Casual\", \"baseColour\": \"Brown\", \"articleType\": \"Handbags\"}\n",
      "레이블: {\"gender\": \"Women\", \"masterCategory\": \"Accessories\", \"subCategory\": \"Bags\", \"season\": \"Summer\", \"usage\": \"Casual\", \"baseColour\": \"Brown\", \"articleType\": \"Handbags\"}<|im_end|>\n",
      "--------------------------------------------------\n"
     ]
    },
    {
     "name": "stderr",
     "output_type": "stream",
     "text": [
      "\n"
     ]
    }
   ],
   "source": [
    "# 상위 50개 테스트 데이터 추출\n",
    "test_samples = test_dataset[:50]\n",
    "\n",
    "# 배치 인퍼런스를 위한 입력 데이터 준비\n",
    "batch_inputs = []\n",
    "batch_labels = []\n",
    "\n",
    "for sample in test_samples:\n",
    "    # 각 샘플의 메시지 처리\n",
    "    messages = sample[\"messages\"]\n",
    "    \n",
    "    # 프롬프트 생성\n",
    "    prompt = processor.apply_chat_template(\n",
    "        messages,\n",
    "        tokenize=False,\n",
    "        add_generation_prompt=False,\n",
    "    )\n",
    "    \n",
    "    # 입력과 레이블 분리\n",
    "    input_part = prompt.split('<|im_start|>assistant')[0] + '<|im_start|>assistant'\n",
    "    label_part = prompt.split('<|im_start|>assistant')[1]\n",
    "    \n",
    "    # 이미지/비디오 데이터 처리\n",
    "    image_inputs, video_inputs = process_vision_info(messages)\n",
    "    \n",
    "    # 멀티모달 데이터 구성\n",
    "    mm_data = {}\n",
    "    if image_inputs is not None:\n",
    "        mm_data[\"image\"] = image_inputs\n",
    "    if video_inputs is not None:\n",
    "        mm_data[\"video\"] = video_inputs\n",
    "    \n",
    "    # LLM 입력 데이터 구성\n",
    "    llm_input = {\n",
    "        \"prompt\": input_part,\n",
    "        \"multi_modal_data\": mm_data,\n",
    "    }\n",
    "    \n",
    "    batch_inputs.append(llm_input)\n",
    "    batch_labels.append(label_part)\n",
    "\n",
    "# 배치 인퍼런스 실행\n",
    "print(\"배치 인퍼런스 시작...\")\n",
    "outputs = llm.generate(batch_inputs, sampling_params=sampling_params)\n",
    "\n",
    "# 결과 출력\n",
    "print(\"\\n=== 배치 인퍼런스 결과 ===\")\n",
    "for i, output in enumerate(outputs):\n",
    "    generated_text = output.outputs[0].text\n",
    "    print(f\"\\n--- 샘플 {i+1} ---\")\n",
    "    print(f\"모델의 예측: {generated_text.strip()}\")\n",
    "    print(f\"레이블: {batch_labels[i].strip()}\")\n",
    "    print(\"-\" * 50)"
   ]
  },
  {
   "cell_type": "markdown",
   "id": "a87434ee-b501-4fb1-b111-42c26a7401da",
   "metadata": {},
   "source": [
    "## 5. 모델 평가 (테스트 데이터 50건)"
   ]
  },
  {
   "cell_type": "code",
   "execution_count": 91,
   "id": "7aff72d3-d162-49ba-9ac6-9ffaa2e33b1b",
   "metadata": {},
   "outputs": [
    {
     "name": "stdout",
     "output_type": "stream",
     "text": [
      "\n",
      "=== F1 Score 결과 ===\n",
      "Key             F1 Score   샘플 수    \n",
      "-----------------------------------\n",
      "gender          1.0000     50\n",
      "masterCategory  1.0000     50\n",
      "subCategory     1.0000     50\n",
      "season          0.7099     50\n",
      "usage           0.8880     50\n",
      "baseColour      0.8899     50\n",
      "articleType     1.0000     50\n",
      "-----------------------------------\n",
      "평균 F1           0.9268\n",
      "\n",
      "=== 상세 결과 ===\n",
      "gender: 정확도 1.0000 (50/50)\n",
      "masterCategory: 정확도 1.0000 (50/50)\n",
      "subCategory: 정확도 1.0000 (50/50)\n",
      "season: 정확도 0.6800 (34/50)\n",
      "usage: 정확도 0.9600 (48/50)\n",
      "baseColour: 정확도 0.9400 (47/50)\n",
      "articleType: 정확도 1.0000 (50/50)\n"
     ]
    }
   ],
   "source": [
    "import json\n",
    "from sklearn.metrics import f1_score\n",
    "from collections import defaultdict\n",
    "\n",
    "def calculate_f1_scores(outputs, batch_labels):\n",
    "    \"\"\"각 key별로 F1 score를 계산하는 함수\"\"\"\n",
    "    \n",
    "    # 각 키별로 예측값과 실제값을 저장할 딕셔너리\n",
    "    predictions_by_key = defaultdict(list)\n",
    "    labels_by_key = defaultdict(list)\n",
    "    \n",
    "    for i, output in enumerate(outputs):\n",
    "        # 모델 예측 결과 파싱\n",
    "        try:\n",
    "            pred_text = output.outputs[0].text.strip()\n",
    "            pred_json = json.loads(pred_text)\n",
    "        except:\n",
    "            print(f\"샘플 {i+1}: 예측 결과 JSON 파싱 실패\")\n",
    "            continue\n",
    "        \n",
    "        # 실제 레이블 파싱\n",
    "        try:\n",
    "            label_text = batch_labels[i].strip()\n",
    "            # <|im_end|> 제거\n",
    "            if label_text.endswith('<|im_end|>'):\n",
    "                label_text = label_text[:-10]\n",
    "            label_json = json.loads(label_text)\n",
    "        except:\n",
    "            print(f\"샘플 {i+1}: 레이블 JSON 파싱 실패\")\n",
    "            continue\n",
    "        \n",
    "        # 각 키별로 예측값과 실제값 저장\n",
    "        for key in label_json.keys():\n",
    "            if key in pred_json:\n",
    "                predictions_by_key[key].append(pred_json[key])\n",
    "                labels_by_key[key].append(label_json[key])\n",
    "            else:\n",
    "                print(f\"샘플 {i+1}: 키 '{key}' 예측 결과에 없음\")\n",
    "    \n",
    "    # 각 키별로 F1 score 계산\n",
    "    f1_scores = {}\n",
    "    for key in labels_by_key.keys():\n",
    "        if len(labels_by_key[key]) > 0:\n",
    "            # 고유한 라벨들 확인\n",
    "            unique_labels = list(set(labels_by_key[key] + predictions_by_key[key]))\n",
    "            \n",
    "            if len(unique_labels) == 1:\n",
    "                # 모든 값이 동일한 경우\n",
    "                f1_scores[key] = 1.0\n",
    "            else:\n",
    "                # F1 score 계산 (macro average)\n",
    "                f1_scores[key] = f1_score(\n",
    "                    labels_by_key[key], \n",
    "                    predictions_by_key[key], \n",
    "                    labels=unique_labels,\n",
    "                    average='macro',\n",
    "                    zero_division=0\n",
    "                )\n",
    "    \n",
    "    return f1_scores, predictions_by_key, labels_by_key\n",
    "\n",
    "# F1 score 계산 실행\n",
    "f1_results, preds_by_key, labels_by_key = calculate_f1_scores(outputs, batch_labels)\n",
    "\n",
    "# 결과 출력\n",
    "print(\"\\n=== F1 Score 결과 ===\")\n",
    "print(f\"{'Key':<15} {'F1 Score':<10} {'샘플 수':<8}\")\n",
    "print(\"-\" * 35)\n",
    "\n",
    "for key, score in f1_results.items():\n",
    "    sample_count = len(labels_by_key[key])\n",
    "    print(f\"{key:<15} {score:.4f}     {sample_count}\")\n",
    "\n",
    "# 전체 평균 F1 score\n",
    "if f1_results:\n",
    "    avg_f1 = sum(f1_results.values()) / len(f1_results)\n",
    "    print(\"-\" * 35)\n",
    "    print(f\"{'평균 F1':<15} {avg_f1:.4f}\")\n",
    "\n",
    "# 각 키별 상세 결과 (옵션)\n",
    "print(\"\\n=== 상세 결과 ===\")\n",
    "for key in f1_results.keys():\n",
    "    correct = sum(1 for p, l in zip(preds_by_key[key], labels_by_key[key]) if p == l)\n",
    "    total = len(labels_by_key[key])\n",
    "    accuracy = correct / total if total > 0 else 0\n",
    "    print(f\"{key}: 정확도 {accuracy:.4f} ({correct}/{total})\")"
   ]
  }
 ],
 "metadata": {
  "kernelspec": {
   "display_name": "Python 3 (ipykernel)",
   "language": "python",
   "name": "python3"
  },
  "language_info": {
   "codemirror_mode": {
    "name": "ipython",
    "version": 3
   },
   "file_extension": ".py",
   "mimetype": "text/x-python",
   "name": "python",
   "nbconvert_exporter": "python",
   "pygments_lexer": "ipython3",
   "version": "3.10.12"
  }
 },
 "nbformat": 4,
 "nbformat_minor": 5
}
